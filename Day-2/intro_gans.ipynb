{
 "cells": [
  {
   "cell_type": "markdown",
   "id": "b9494779",
   "metadata": {},
   "source": [
    "## Introducción a GANs\n",
    "\n",
    "### Referencias\n",
    "- Goodfellow, I., Pouget-Abadie, J., Mirza, M., Xu, B., Warde-Farley, D., Ozair, S., Courville, A. and Bengio, Y., 2020. Generative adversarial networks. Communications of the ACM, 63(11), pp.139-144. [link](https://arxiv.org/abs/1406.2661)\n",
    "\n",
    "- Creswell, A., White, T., Dumoulin, V., Arulkumaran, K., Sengupta, B. and Bharath, A.A., 2018. Generative adversarial networks: An overview. IEEE signal processing magazine, 35(1), pp.53-65. [link](https://arxiv.org/pdf/1710.07035.pdf)"
   ]
  },
  {
   "cell_type": "markdown",
   "id": "ced8473b",
   "metadata": {},
   "source": [
    "### Qué pasos debemos seguir para entrenar una GAN?\n",
    "- Cargar datos, transformarlos en formato necesario para pytorch. $t_{train}$ va a tener transformaciones diferentes a $t_{test}$, por qué? \n",
    "- A los datos de entrenamiento debemos dividirlos una vez mas para usar elementos de validación durante el entrenamiento.\n",
    "- Definir arquitectura de nuestras redes, la red generadora ($G$), evaluadora ($D$) (Ver models.py)\n",
    "- Definir métodos funciones de error, optimizador y métricas de evaluación para el entrenamiento paralelo de ambas redes."
   ]
  },
  {
   "cell_type": "markdown",
   "id": "cce08012-b400-4243-a69b-6fb79a78d2e3",
   "metadata": {},
   "source": [
    "#### Cargamos nuestros datos"
   ]
  },
  {
   "cell_type": "code",
   "execution_count": 1,
   "id": "0ac1eb32-cb13-42f8-acb6-4665310f04c0",
   "metadata": {},
   "outputs": [],
   "source": [
    "from torchvision import datasets\n",
    "from torchvision import transforms as tfs\n",
    "from torch.utils import data\n",
    "import torchvision.utils as vutils\n",
    "import PIL\n",
    "import numpy as np"
   ]
  },
  {
   "cell_type": "code",
   "execution_count": 2,
   "id": "bdcd67f8",
   "metadata": {},
   "outputs": [],
   "source": [
    "transforms_train = [\n",
    "    tfs.RandomHorizontalFlip(p=0.7),\n",
    "    tfs.RandomAffine(0, scale=(0.7, 1.0), fill=255),\n",
    "    tfs.Resize((32, 32)),\n",
    "    tfs.Grayscale(1),\n",
    "    tfs.Lambda(lambda x: PIL.ImageOps.invert(x)),\n",
    "    tfs.ToTensor(),\n",
    "]\n",
    "\n",
    "transforms_test = [\n",
    "    tfs.RandomHorizontalFlip(p=0.7),\n",
    "    tfs.RandomAffine(0, scale=(0.7, 1.0), fill=255),\n",
    "    tfs.Resize((32, 32)),\n",
    "    tfs.Grayscale(1),\n",
    "    tfs.Lambda(lambda x: PIL.ImageOps.invert(x)),\n",
    "    tfs.ToTensor(),\n",
    "]\n",
    "\n",
    "train_data = datasets.ImageFolder(\n",
    "    \"../data/train/\", transform=tfs.Compose(transforms_train)\n",
    ")\n",
    "\n",
    "test_data = datasets.ImageFolder(\n",
    "    \"../data/test/\", transform=tfs.Compose(transforms_test)\n",
    ")"
   ]
  },
  {
   "cell_type": "code",
   "execution_count": 3,
   "id": "c360802d",
   "metadata": {},
   "outputs": [],
   "source": [
    "train_loader = data.DataLoader(train_data, batch_size=64, shuffle=True, drop_last=True)\n",
    "test_loader = data.DataLoader(test_data, batch_size=64, shuffle=True, drop_last=True)"
   ]
  },
  {
   "cell_type": "markdown",
   "id": "9a0b1103-dfe7-467c-b7ca-f7f0c7d2c0da",
   "metadata": {},
   "source": [
    "##### Chequamos dispositivos disponibles para el entrenamiento"
   ]
  },
  {
   "cell_type": "code",
   "execution_count": 4,
   "id": "17830525-82f1-4e1a-9e2e-e9bf0c79efd4",
   "metadata": {},
   "outputs": [],
   "source": [
    "import torch\n",
    "import torch.nn as nn\n",
    "import torch.optim as optim"
   ]
  },
  {
   "cell_type": "code",
   "execution_count": 5,
   "id": "10231564-b77a-4a4f-8f6d-b3da5745c084",
   "metadata": {},
   "outputs": [
    {
     "name": "stdout",
     "output_type": "stream",
     "text": [
      "Dispositivo disponible: cuda\n"
     ]
    }
   ],
   "source": [
    "device = torch.device(\"cuda\" if torch.cuda.is_available() else \"cpu\")\n",
    "print(f\"Dispositivo disponible: {device}\")"
   ]
  },
  {
   "cell_type": "markdown",
   "id": "7872c871-d5ef-4f53-b835-14b0d05f6fa5",
   "metadata": {},
   "source": [
    "#### Cómo es nuestro modelo Generador $(G)$?"
   ]
  },
  {
   "cell_type": "code",
   "execution_count": 6,
   "id": "0fe2fd5f",
   "metadata": {},
   "outputs": [],
   "source": [
    "from models.generator import _G\n",
    "from models.discriminator import _D\n",
    "from models.gan import GAN\n",
    "import PIL.ImageOps"
   ]
  },
  {
   "cell_type": "code",
   "execution_count": 7,
   "id": "f0475db5",
   "metadata": {},
   "outputs": [
    {
     "name": "stdout",
     "output_type": "stream",
     "text": [
      "----------------------------------------------------------------\n",
      "        Layer (type)               Output Shape         Param #\n",
      "================================================================\n",
      "            Linear-1                 [-1, 1024]          66,560\n",
      "       BatchNorm1d-2                 [-1, 1024]           2,048\n",
      "              ReLU-3                 [-1, 1024]               0\n",
      "            Linear-4               [-1, 100352]     102,860,800\n",
      "       BatchNorm1d-5               [-1, 100352]         200,704\n",
      "              ReLU-6               [-1, 100352]               0\n",
      "   ConvTranspose2d-7           [-1, 64, 56, 56]         131,136\n",
      "       BatchNorm2d-8           [-1, 64, 56, 56]             128\n",
      "              ReLU-9           [-1, 64, 56, 56]               0\n",
      "  ConvTranspose2d-10          [-1, 1, 112, 112]           1,025\n",
      "          Sigmoid-11          [-1, 1, 112, 112]               0\n",
      "================================================================\n",
      "Total params: 103,262,401\n",
      "Trainable params: 103,262,401\n",
      "Non-trainable params: 0\n",
      "----------------------------------------------------------------\n",
      "Input size (MB): 0.00\n",
      "Forward/backward pass size (MB): 7.11\n",
      "Params size (MB): 393.91\n",
      "Estimated Total Size (MB): 401.02\n",
      "----------------------------------------------------------------\n"
     ]
    }
   ],
   "source": [
    "from torchsummary import summary\n",
    "\n",
    "G = _G(input_h_w=112, latent_v=64).to(device)\n",
    "summary(G, (64,))"
   ]
  },
  {
   "cell_type": "markdown",
   "id": "0b6614b7-848a-4404-921d-259b3b45dd0f",
   "metadata": {},
   "source": [
    "#### Cómo es nuestro Evaluador $(D)$?"
   ]
  },
  {
   "cell_type": "code",
   "execution_count": 8,
   "id": "637d0951",
   "metadata": {},
   "outputs": [
    {
     "name": "stdout",
     "output_type": "stream",
     "text": [
      "----------------------------------------------------------------\n",
      "        Layer (type)               Output Shape         Param #\n",
      "================================================================\n",
      "            Conv2d-1           [-1, 64, 56, 56]           1,088\n",
      "         LeakyReLU-2           [-1, 64, 56, 56]               0\n",
      "            Conv2d-3          [-1, 128, 28, 28]         131,200\n",
      "       BatchNorm2d-4          [-1, 128, 28, 28]             256\n",
      "         LeakyReLU-5          [-1, 128, 28, 28]               0\n",
      "            Linear-6                 [-1, 1024]     102,761,472\n",
      "       BatchNorm1d-7                 [-1, 1024]           2,048\n",
      "         LeakyReLU-8                 [-1, 1024]               0\n",
      "            Linear-9                    [-1, 1]           1,025\n",
      "          Sigmoid-10                    [-1, 1]               0\n",
      "================================================================\n",
      "Total params: 102,897,089\n",
      "Trainable params: 102,897,089\n",
      "Non-trainable params: 0\n",
      "----------------------------------------------------------------\n",
      "Input size (MB): 0.05\n",
      "Forward/backward pass size (MB): 5.38\n",
      "Params size (MB): 392.52\n",
      "Estimated Total Size (MB): 397.95\n",
      "----------------------------------------------------------------\n"
     ]
    }
   ],
   "source": [
    "D = _D(input_h_w=112).to(device)\n",
    "summary(D, (1, 112, 112))"
   ]
  },
  {
   "cell_type": "markdown",
   "id": "4a91396d-6eb1-4588-bdad-535f7dfc6508",
   "metadata": {},
   "source": [
    "#### Cómo entrenar una GAN?"
   ]
  },
  {
   "cell_type": "code",
   "execution_count": 9,
   "id": "691e95ef-d084-42a2-96fa-50e9154e91ba",
   "metadata": {},
   "outputs": [],
   "source": [
    "batch_size = 64  # Tamaño de Lote\n",
    "z_dim = 64  # Dim del espacio latente\n",
    "epochs = 10"
   ]
  },
  {
   "cell_type": "code",
   "execution_count": 10,
   "id": "7153ded7-be05-4b61-af5e-ac5112ab6857",
   "metadata": {},
   "outputs": [],
   "source": [
    "output_dir = \"output/\"\n",
    "PRINT_FREQ = 10\n",
    "FAKE_IMG_FNAME = \"fake_sample_epoch_{:04d}.png\"\n",
    "REAL_IMG_FNAME = \"real_sample_epoch_{:04d}.png\"\n",
    "LOGS_FNAME = \"logs.tsv\"\n",
    "PLOT_FNAME = \"plot.svg\"\n",
    "SAMPLES_FNAME = \"samples.svg\"\n",
    "CKPT_PREFIX = \"networks\""
   ]
  },
  {
   "cell_type": "markdown",
   "id": "f706dd01-fd72-4b30-ba17-dc97ac23cc2d",
   "metadata": {},
   "source": [
    "##### Instanciamos ambas redes, definimos los optimizadoradores y la función de perdida"
   ]
  },
  {
   "cell_type": "code",
   "execution_count": 11,
   "id": "209757e2-358a-4f2b-8458-a7d562610406",
   "metadata": {},
   "outputs": [],
   "source": [
    "D = _D(input_h_w=32).to(device)\n",
    "G = _G(input_h_w=32, latent_v=z_dim).to(device)\n",
    "\n",
    "optimizer_G = optim.Adam(G.parameters(), lr=0.0002, betas=(0.5, 0.999))\n",
    "optimizer_D = optim.Adam(D.parameters(), lr=0.0002, betas=(0.5, 0.999))\n",
    "criterion = nn.BCELoss()"
   ]
  },
  {
   "cell_type": "markdown",
   "id": "31c09426-4cbc-457a-aad9-4f50bef4797b",
   "metadata": {},
   "source": [
    "##### Definimos las etiquetas REALES / GENERADAS"
   ]
  },
  {
   "cell_type": "code",
   "execution_count": 12,
   "id": "3a5fb7cf-9825-4b9e-803e-a7ce07031027",
   "metadata": {},
   "outputs": [],
   "source": [
    "real_labels = torch.ones(batch_size, device=device)\n",
    "fake_labels = torch.zeros(batch_size, device=device)"
   ]
  },
  {
   "cell_type": "code",
   "execution_count": 13,
   "id": "040102e9-f4d8-4fbb-b90b-4883b1eaaee6",
   "metadata": {},
   "outputs": [
    {
     "data": {
      "text/plain": [
       "tensor([0., 0., 0., 0., 0., 0., 0., 0., 0., 0., 0., 0., 0., 0., 0., 0., 0., 0., 0., 0., 0., 0., 0., 0.,\n",
       "        0., 0., 0., 0., 0., 0., 0., 0., 0., 0., 0., 0., 0., 0., 0., 0., 0., 0., 0., 0., 0., 0., 0., 0.,\n",
       "        0., 0., 0., 0., 0., 0., 0., 0., 0., 0., 0., 0., 0., 0., 0., 0.],\n",
       "       device='cuda:0')"
      ]
     },
     "execution_count": 13,
     "metadata": {},
     "output_type": "execute_result"
    }
   ],
   "source": [
    "fake_labels"
   ]
  },
  {
   "cell_type": "code",
   "execution_count": 14,
   "id": "ffaadac8-b74f-4cbf-a8c8-013d09715a20",
   "metadata": {},
   "outputs": [
    {
     "data": {
      "text/plain": [
       "tensor([1., 1., 1., 1., 1., 1., 1., 1., 1., 1., 1., 1., 1., 1., 1., 1., 1., 1.,\n",
       "        1., 1., 1., 1., 1., 1., 1., 1., 1., 1., 1., 1., 1., 1., 1., 1., 1., 1.,\n",
       "        1., 1., 1., 1., 1., 1., 1., 1., 1., 1., 1., 1., 1., 1., 1., 1., 1., 1.,\n",
       "        1., 1., 1., 1., 1., 1., 1., 1., 1., 1.], device='cuda:0')"
      ]
     },
     "execution_count": 14,
     "metadata": {},
     "output_type": "execute_result"
    }
   ],
   "source": [
    "real_labels"
   ]
  },
  {
   "cell_type": "markdown",
   "id": "891a9418-8fad-42d8-9bad-3e298bd5a441",
   "metadata": {},
   "source": [
    "#### Definimos la función que nos dará nuestros vectores aleatorios"
   ]
  },
  {
   "cell_type": "code",
   "execution_count": 15,
   "id": "e618e83e-f5d0-449f-a2d8-9cb719c39b7b",
   "metadata": {},
   "outputs": [],
   "source": [
    "def get_noise():\n",
    "    # ruido con distribución normal\n",
    "    return torch.randn(batch_size, z_dim, device=device)"
   ]
  },
  {
   "cell_type": "code",
   "execution_count": 16,
   "id": "ff6d6865-b723-4e1f-812e-0cfdaf7e0e36",
   "metadata": {},
   "outputs": [],
   "source": [
    "fixed_noise = get_noise()"
   ]
  },
  {
   "cell_type": "code",
   "execution_count": 17,
   "id": "1840e68f-88a8-4dff-b8ba-597b798780a4",
   "metadata": {},
   "outputs": [
    {
     "data": {
      "text/plain": [
       "torch.Size([64, 64])"
      ]
     },
     "execution_count": 17,
     "metadata": {},
     "output_type": "execute_result"
    }
   ],
   "source": [
    "fixed_noise.shape"
   ]
  },
  {
   "cell_type": "markdown",
   "id": "36e126a7-a27f-483e-a209-7d7ccd6af754",
   "metadata": {},
   "source": [
    "#### Diseñamos el entrenamiento\n",
    "\n",
    "A diferencia de un clasificador normal, el entrenamiento de las GANs tiene algunos pasos extra, ya que el entrenamiento depende de informacion de ambas redes $(G)$ y $(D)$."
   ]
  },
  {
   "cell_type": "code",
   "execution_count": 18,
   "id": "dd37d5ec-a4b1-4a51-96ed-4bde03604104",
   "metadata": {},
   "outputs": [],
   "source": [
    "def step(engine, batch):\n",
    "    real, _ = batch  # img, label\n",
    "    real = real.to(device)\n",
    "\n",
    "    # -----------------------------------------------------------\n",
    "    # (1) Update D network: maximize log(D(x)) + log(1 - D(G(z)))\n",
    "    D.zero_grad()\n",
    "\n",
    "    # Entrenamiento D con datos reales\n",
    "    output = D(real)\n",
    "    errD_real = criterion(output, real_labels)\n",
    "    D_x = output.mean().item()\n",
    "\n",
    "    errD_real.backward()\n",
    "\n",
    "    # Imágenes a partir de un vector aleatorio.\n",
    "\n",
    "    noise = get_noise()  # vector aleatorio --> Z\n",
    "    fake = G(noise)\n",
    "\n",
    "    # Entrenamiento de D con datos generados\n",
    "    output = D(fake.detach())\n",
    "    errD_fake = criterion(output, fake_labels)\n",
    "    D_G_z1 = output.mean().item()\n",
    "    errD_fake.backward()\n",
    "\n",
    "    # Actulizar gradientes\n",
    "    optimizer_D.step()\n",
    "\n",
    "    errD = errD_real + errD_fake\n",
    "    # -----------------------------------------------------------\n",
    "    # (2) Update G network: maximize log(D(G(z)))\n",
    "    G.zero_grad()\n",
    "\n",
    "    output = D(fake)\n",
    "    errG = criterion(output, real_labels)\n",
    "    # Ahora medimos como es el error de D con datos generados\n",
    "    # Otro tipo de loss: errG = 1 - (criterion(D(fake), fake_labels) + criterion(D(real), real_labels))\n",
    "\n",
    "    D_G_z2 = output.mean().item()\n",
    "    errG.backward()\n",
    "\n",
    "    # Actulizar gradientes\n",
    "    optimizer_G.step()\n",
    "\n",
    "    return {\n",
    "        \"errD\": errD.item(),\n",
    "        \"errG\": errG.item(),\n",
    "        \"D_x\": D_x,\n",
    "        \"D_G_z1\": D_G_z1,\n",
    "        \"D_G_z2\": D_G_z2,\n",
    "    }"
   ]
  },
  {
   "cell_type": "code",
   "execution_count": 19,
   "id": "ee057a6e-ef0e-4d3f-a1c9-0472816cf242",
   "metadata": {},
   "outputs": [],
   "source": [
    "from ignite.contrib.handlers import ProgressBar\n",
    "from ignite.engine import Engine, Events\n",
    "from ignite.handlers import ModelCheckpoint, Timer\n",
    "from ignite.metrics import RunningAverage"
   ]
  },
  {
   "cell_type": "code",
   "execution_count": 20,
   "id": "abe78f6b-ea5c-46e7-808d-f0bc39f2b9f2",
   "metadata": {},
   "outputs": [],
   "source": [
    "from torch.utils.tensorboard import SummaryWriter\n",
    "from datetime import datetime\n",
    "\n",
    "# from tqdm.autonotebook import tqdm\n",
    "from tqdm import tqdm_notebook as tqdm"
   ]
  },
  {
   "cell_type": "markdown",
   "id": "a35f7634-241a-45ee-9666-7172789c331b",
   "metadata": {},
   "source": [
    "#### Ignite para entrenamiento de GANs\n",
    "\n",
    "No se olviden de ver el dashboard the TensorBoard en [http://localhost:6006/](http://localhost:6006/)\n",
    "Para iniciar el servidor del dashboard:\n",
    "\n",
    "`tensorboard --logdir=./output --port 6006  --host 0.0.0.0 --load_fast=false`"
   ]
  },
  {
   "cell_type": "code",
   "execution_count": 21,
   "id": "8a907616-2d42-4ce1-9446-3bd7527724ab",
   "metadata": {},
   "outputs": [
    {
     "name": "stderr",
     "output_type": "stream",
     "text": [
      "/home/pablo/miniconda3/envs/curso_esp/lib/python3.9/site-packages/ignite/contrib/handlers/tqdm_logger.py:127: TqdmExperimentalWarning: Using `tqdm.autonotebook.tqdm` in notebook mode. Use `tqdm.tqdm` instead to force console mode (e.g. in jupyter console)\n",
      "  from tqdm.autonotebook import tqdm\n"
     ]
    }
   ],
   "source": [
    "# Definimos el Objeto 'trainer' con la función 'step'\n",
    "trainer = Engine(step)\n",
    "\n",
    "# Para ir guardando los pesos de la red mientras se entrena, debemos definir\n",
    "checkpoint_handler = ModelCheckpoint(\n",
    "    \"weights/\", CKPT_PREFIX, n_saved=100, require_empty=False\n",
    ")\n",
    "timer = Timer(average=True)\n",
    "\n",
    "# Que métricas queremos seguir\n",
    "monitoring_metrics = [\"errD\", \"errG\", \"D_x\", \"D_G_z1\", \"D_G_z2\"]\n",
    "RunningAverage(output_transform=lambda x: x[\"errD\"]).attach(trainer, \"errD\")\n",
    "RunningAverage(output_transform=lambda x: x[\"errG\"]).attach(trainer, \"errG\")\n",
    "RunningAverage(output_transform=lambda x: x[\"D_x\"]).attach(trainer, \"D_x\")\n",
    "RunningAverage(output_transform=lambda x: x[\"D_G_z1\"]).attach(trainer, \"D_G_z1\")\n",
    "RunningAverage(output_transform=lambda x: x[\"D_G_z2\"]).attach(trainer, \"D_G_z2\")\n",
    "\n",
    "# Definimos el objeto TensorBoard para seguirlo a través del dashboard\n",
    "now = datetime.now()\n",
    "logdir = \"output/\" + now.strftime(\"%Y%m%d-%H%M%S\") + \"/\"\n",
    "writer = SummaryWriter(log_dir=logdir, flush_secs=1)\n",
    "\n",
    "# Definimos la barra de progreso\n",
    "pbar = ProgressBar()\n",
    "pbar.attach(trainer, metric_names=monitoring_metrics)"
   ]
  },
  {
   "cell_type": "code",
   "execution_count": 22,
   "id": "5426e224-ada4-44cb-a55a-d03f73d9cba5",
   "metadata": {},
   "outputs": [],
   "source": [
    "@trainer.on(Events.ITERATION_COMPLETED(every=PRINT_FREQ))\n",
    "def print_logs(engine):\n",
    "    fname = output_dir + LOGS_FNAME\n",
    "    columns = [\"iteration\"] + list(engine.state.metrics.keys())\n",
    "    values = [str(engine.state.iteration)] + [\n",
    "        str(round(value, 5)) for value in engine.state.metrics.values()\n",
    "    ]\n",
    "    with open(fname, \"a\") as f:\n",
    "        if f.tell() == 0:\n",
    "            print(\"\\t\".join(columns), file=f)\n",
    "        print(\"\\t\".join(values), file=f)\n",
    "    message = f\"[{engine.state.epoch}/{epochs}][{engine.state.iteration % len(train_loader)}/{len(train_loader)}]\"\n",
    "    for name, value in zip(columns, values):\n",
    "        message += f\" | {name}: {value}\"\n",
    "\n",
    "    # pbar.log_message(message)\n",
    "\n",
    "\n",
    "@trainer.on(Events.EPOCH_COMPLETED(every=1))\n",
    "def print_tb(engine):\n",
    "    writer.add_scalars(\n",
    "        \"Training/Loss\",\n",
    "        {\n",
    "            \"G_error\": engine.state.metrics[\"errG\"],\n",
    "            \"D_error\": engine.state.metrics[\"errD\"],\n",
    "        },\n",
    "        engine.state.epoch,\n",
    "    )\n",
    "\n",
    "\n",
    "@trainer.on(Events.EPOCH_COMPLETED(every=10))\n",
    "def plot_tb_fake_example(engine):\n",
    "    fake = G(fixed_noise)\n",
    "    grid = vutils.make_grid(fake)\n",
    "    writer.add_image(\"Fake Images\", grid, engine.state.epoch)\n",
    "\n",
    "\n",
    "@trainer.on(Events.EPOCH_COMPLETED)\n",
    "def save_fake_example(engine):\n",
    "    fake = G(fixed_noise)\n",
    "    path = output_dir + FAKE_IMG_FNAME.format(engine.state.epoch)\n",
    "    vutils.save_image(fake.detach(), path, normalize=True)\n",
    "\n",
    "\n",
    "@trainer.on(Events.EPOCH_COMPLETED)\n",
    "def save_real_example(engine):\n",
    "    img, y = engine.state.batch\n",
    "    path = output_dir + REAL_IMG_FNAME.format(engine.state.epoch)\n",
    "    vutils.save_image(img, path, normalize=True)\n",
    "\n",
    "\n",
    "trainer.add_event_handler(\n",
    "    event_name=Events.EPOCH_COMPLETED,\n",
    "    handler=checkpoint_handler,\n",
    "    to_save={\"netG\": G, \"netD\": D},\n",
    ")\n",
    "\n",
    "timer.attach(\n",
    "    trainer,\n",
    "    start=Events.EPOCH_STARTED,\n",
    "    resume=Events.ITERATION_STARTED,\n",
    "    pause=Events.ITERATION_COMPLETED,\n",
    "    step=Events.ITERATION_COMPLETED,\n",
    ")\n",
    "\n",
    "\n",
    "# adding handlers using `trainer.on` decorator API\n",
    "@trainer.on(Events.EPOCH_COMPLETED)\n",
    "def print_times(engine):\n",
    "    # pbar.log_message(f\"Epoch {engine.state.epoch} done. Time per batch: {timer.value():.3f}[s]\")\n",
    "    timer.reset()\n",
    "\n",
    "\n",
    "# adding handlers using `trainer.on` decorator API\n",
    "@trainer.on(Events.EPOCH_COMPLETED)\n",
    "def create_plots(engine):\n",
    "    try:\n",
    "        import pandas as pd\n",
    "        import matplotlib.pyplot as plt\n",
    "\n",
    "        plt.style.use(\n",
    "            \"https://github.com/dhaitz/matplotlib-stylesheets/raw/master/pitayasmoothie-light.mplstyle\"\n",
    "        )\n",
    "\n",
    "    except ImportError:\n",
    "        warnings.warn(\n",
    "            \"Loss plots will not be generated -- pandas or matplotlib not found\"\n",
    "        )\n",
    "\n",
    "    else:\n",
    "        df = pd.read_csv(\n",
    "            output_dir + \"/\" + LOGS_FNAME, delimiter=\"\\t\", index_col=\"iteration\"\n",
    "        )\n",
    "        _ = df.plot(subplots=True, figsize=(20, 20))\n",
    "        _ = plt.xlabel(\"Iteration number\")\n",
    "        fig = plt.gcf()\n",
    "        path = output_dir + PLOT_FNAME\n",
    "\n",
    "        fig.savefig(path)\n",
    "        plt.close()\n",
    "\n",
    "\n",
    "# adding handlers using `trainer.on` decorator API\n",
    "@trainer.on(Events.EXCEPTION_RAISED)\n",
    "def handle_exception(engine, e):\n",
    "    if isinstance(e, KeyboardInterrupt) and (engine.state.iteration > 1):\n",
    "        engine.terminate()\n",
    "        create_plots(engine)\n",
    "        checkpoint_handler(engine, {\"netG_exception\": G, \"netD_exception\": D})\n",
    "\n",
    "    else:\n",
    "        raise e"
   ]
  },
  {
   "cell_type": "code",
   "execution_count": 23,
   "id": "2eb3ce73-3eb2-4a10-b1c8-31909e70f3f8",
   "metadata": {},
   "outputs": [
    {
     "data": {
      "application/vnd.jupyter.widget-view+json": {
       "model_id": "",
       "version_major": 2,
       "version_minor": 0
      },
      "text/plain": [
       "[1/15]   7%|6          [00:00<?]"
      ]
     },
     "metadata": {},
     "output_type": "display_data"
    },
    {
     "data": {
      "application/vnd.jupyter.widget-view+json": {
       "model_id": "",
       "version_major": 2,
       "version_minor": 0
      },
      "text/plain": [
       "[1/15]   7%|6          [00:00<?]"
      ]
     },
     "metadata": {},
     "output_type": "display_data"
    },
    {
     "data": {
      "application/vnd.jupyter.widget-view+json": {
       "model_id": "",
       "version_major": 2,
       "version_minor": 0
      },
      "text/plain": [
       "[1/15]   7%|6          [00:00<?]"
      ]
     },
     "metadata": {},
     "output_type": "display_data"
    },
    {
     "data": {
      "application/vnd.jupyter.widget-view+json": {
       "model_id": "",
       "version_major": 2,
       "version_minor": 0
      },
      "text/plain": [
       "[1/15]   7%|6          [00:00<?]"
      ]
     },
     "metadata": {},
     "output_type": "display_data"
    },
    {
     "data": {
      "application/vnd.jupyter.widget-view+json": {
       "model_id": "",
       "version_major": 2,
       "version_minor": 0
      },
      "text/plain": [
       "[1/15]   7%|6          [00:00<?]"
      ]
     },
     "metadata": {},
     "output_type": "display_data"
    },
    {
     "data": {
      "application/vnd.jupyter.widget-view+json": {
       "model_id": "",
       "version_major": 2,
       "version_minor": 0
      },
      "text/plain": [
       "[1/15]   7%|6          [00:00<?]"
      ]
     },
     "metadata": {},
     "output_type": "display_data"
    },
    {
     "data": {
      "application/vnd.jupyter.widget-view+json": {
       "model_id": "",
       "version_major": 2,
       "version_minor": 0
      },
      "text/plain": [
       "[1/15]   7%|6          [00:00<?]"
      ]
     },
     "metadata": {},
     "output_type": "display_data"
    },
    {
     "data": {
      "application/vnd.jupyter.widget-view+json": {
       "model_id": "",
       "version_major": 2,
       "version_minor": 0
      },
      "text/plain": [
       "[1/15]   7%|6          [00:00<?]"
      ]
     },
     "metadata": {},
     "output_type": "display_data"
    },
    {
     "data": {
      "application/vnd.jupyter.widget-view+json": {
       "model_id": "",
       "version_major": 2,
       "version_minor": 0
      },
      "text/plain": [
       "[1/15]   7%|6          [00:00<?]"
      ]
     },
     "metadata": {},
     "output_type": "display_data"
    },
    {
     "data": {
      "application/vnd.jupyter.widget-view+json": {
       "model_id": "",
       "version_major": 2,
       "version_minor": 0
      },
      "text/plain": [
       "[1/15]   7%|6          [00:00<?]"
      ]
     },
     "metadata": {},
     "output_type": "display_data"
    }
   ],
   "source": [
    "# Entrenar\n",
    "trainer.run(train_loader, epochs)\n",
    "\n",
    "# Cerramos el dashboard\n",
    "writer.close()"
   ]
  },
  {
   "cell_type": "code",
   "execution_count": 24,
   "id": "c135c317-3e75-4766-a3a4-154352c12a7e",
   "metadata": {},
   "outputs": [],
   "source": [
    "import imageio\n",
    "import glob"
   ]
  },
  {
   "cell_type": "code",
   "execution_count": 25,
   "id": "90891f22-95c1-4c54-9912-25e7c632d554",
   "metadata": {},
   "outputs": [],
   "source": [
    "lista_imagenes = [\n",
    "    PIL.Image.open(x) for x in sorted(glob.glob(output_dir + \"fake_*.png\"))\n",
    "]"
   ]
  },
  {
   "cell_type": "code",
   "execution_count": 26,
   "id": "dc824240-ef28-4e3c-9763-cd04a21eba3a",
   "metadata": {},
   "outputs": [],
   "source": [
    "archivo_salida = output_dir + \"GAN_generate_animation.gif\"\n",
    "imageio.mimsave(archivo_salida, lista_imagenes, \"GIF\")"
   ]
  },
  {
   "cell_type": "markdown",
   "id": "5fb2ea1e-9769-4f90-b03d-0785eab5b2a1",
   "metadata": {},
   "source": [
    "##### Podemos observar el progreso de la red generadora durante el entrenamiento de la GAN\n"
   ]
  },
  {
   "cell_type": "markdown",
   "id": "e4ca7960-7907-4764-8c20-b0a377a43ebf",
   "metadata": {},
   "source": [
    "<img src=output/GAN_generate_animation.gif/>"
   ]
  },
  {
   "cell_type": "markdown",
   "id": "057f77e5",
   "metadata": {},
   "source": [
    "#### Evaluación de artefactos generados \n",
    "- Mostrar métricas clásicas y geométricas (FID, InceptionScore).\n",
    "- Comparar test estadisticos de distribuciones de datos reales y generados.\n",
    "- Usar clasificadores para datos reales."
   ]
  },
  {
   "cell_type": "markdown",
   "id": "e891ed54-06f7-4211-9e0a-6f746319f00e",
   "metadata": {},
   "source": [
    "### Cargamos pesos de la red ya entrenada"
   ]
  },
  {
   "cell_type": "code",
   "execution_count": 45,
   "id": "3b998a4e-b3c3-4367-8bf1-de71f99a4027",
   "metadata": {},
   "outputs": [],
   "source": [
    "G = _G(input_h_w=32, latent_v=z_dim).to(device)"
   ]
  },
  {
   "cell_type": "code",
   "execution_count": 47,
   "id": "f47f1f0d-d7c5-4bc7-b35f-dffe2b44fda0",
   "metadata": {},
   "outputs": [
    {
     "data": {
      "text/plain": [
       "<All keys matched successfully>"
      ]
     },
     "execution_count": 47,
     "metadata": {},
     "output_type": "execute_result"
    }
   ],
   "source": [
    "G.load_state_dict(torch.load('weights/networks_checkpoint_6000.pt', map_location=device)['netG'])"
   ]
  },
  {
   "cell_type": "code",
   "execution_count": null,
   "id": "0fca73f6-ede2-4e4f-9572-9eb039929954",
   "metadata": {},
   "outputs": [],
   "source": []
  },
  {
   "cell_type": "code",
   "execution_count": 48,
   "id": "c3cf51e1-8f4f-41de-8bc8-a5bb9a5c7317",
   "metadata": {},
   "outputs": [],
   "source": [
    "import PIL.Image as Image\n",
    "\n",
    "\n",
    "def interpolate(batch):\n",
    "    arr = []\n",
    "    for img in batch:\n",
    "        pil_img = tfs.ToPILImage()(img)\n",
    "        pil_img = pil_img.convert(\"RGB\")\n",
    "        resized_img = pil_img.resize((128, 128), Image.BILINEAR)\n",
    "        arr.append(tfs.ToTensor()(resized_img))\n",
    "    return torch.stack(arr)\n",
    "\n",
    "\n",
    "def evaluation_step(engine, batch):\n",
    "    real, _ = batch\n",
    "    with torch.no_grad():\n",
    "        noise = get_noise()\n",
    "        G.eval()\n",
    "        fake_batch = G(noise)\n",
    "        fake = interpolate(fake_batch)\n",
    "        real = interpolate(real)\n",
    "        return fake, real"
   ]
  },
  {
   "cell_type": "code",
   "execution_count": 49,
   "id": "c36a745e-163c-4c46-b1a6-6b10211fad16",
   "metadata": {},
   "outputs": [],
   "source": [
    "from ignite.metrics import FID, InceptionScore"
   ]
  },
  {
   "cell_type": "code",
   "execution_count": 50,
   "id": "e87b95d4-cbed-4434-9bd5-fbc490e371f7",
   "metadata": {},
   "outputs": [],
   "source": [
    "fid_metric = FID(device=device)\n",
    "is_metric = InceptionScore(device=device, output_transform=lambda x: x[0])"
   ]
  },
  {
   "cell_type": "code",
   "execution_count": 51,
   "id": "3e30c06e-4e0b-4eb7-8c74-01da0ce0c10d",
   "metadata": {},
   "outputs": [],
   "source": [
    "evaluator = Engine(evaluation_step)\n",
    "\n",
    "imgs_fake = []\n",
    "imgs_reals = []\n",
    "\n",
    "\n",
    "@evaluator.on(Events.ITERATION_COMPLETED(every=1))\n",
    "def load_img(engine):\n",
    "    global imgs_fake\n",
    "    global imgs_reals\n",
    "    fake, real = engine.state.output\n",
    "    imgs_fake += fake\n",
    "    imgs_reals += real"
   ]
  },
  {
   "cell_type": "code",
   "execution_count": 52,
   "id": "209b36ec-609e-4a36-a6e1-9eebb31a2ceb",
   "metadata": {},
   "outputs": [],
   "source": [
    "fid_metric.attach(evaluator, \"fid\")\n",
    "is_metric.attach(evaluator, \"is\")"
   ]
  },
  {
   "cell_type": "code",
   "execution_count": 53,
   "id": "166e416f-076f-4558-8419-c17d5ab21053",
   "metadata": {},
   "outputs": [],
   "source": [
    "evaluator.run(test_loader)\n",
    "metrics = evaluator.state.metrics\n",
    "fid_score = metrics[\"fid\"]\n",
    "is_score = metrics[\"is\"]"
   ]
  },
  {
   "cell_type": "markdown",
   "id": "9b278831-5098-4edb-9783-bf0db0450c29",
   "metadata": {},
   "source": [
    "##### Inception Score"
   ]
  },
  {
   "cell_type": "code",
   "execution_count": 54,
   "id": "ca9f20fb-65e9-450b-97fd-fa2ee69e5237",
   "metadata": {},
   "outputs": [
    {
     "data": {
      "text/plain": [
       "9.11831830704697"
      ]
     },
     "execution_count": 54,
     "metadata": {},
     "output_type": "execute_result"
    }
   ],
   "source": [
    "is_score"
   ]
  },
  {
   "cell_type": "markdown",
   "id": "04dbf6ec-57f6-46fc-bc4c-61326c0a9b6a",
   "metadata": {},
   "source": [
    "##### FID Score"
   ]
  },
  {
   "cell_type": "code",
   "execution_count": 55,
   "id": "5764fad6-9f04-4960-8145-5af649c73146",
   "metadata": {},
   "outputs": [
    {
     "data": {
      "text/plain": [
       "0.16811474806363874"
      ]
     },
     "execution_count": 55,
     "metadata": {},
     "output_type": "execute_result"
    }
   ],
   "source": [
    "fid_score"
   ]
  },
  {
   "cell_type": "markdown",
   "id": "64e48927-2e44-45e2-8ec9-24df5ef45753",
   "metadata": {},
   "source": [
    "##### Distribucion de artefactos y datos reales\n",
    "Para visualizar y comparar sus distribuciones vamos a utilizar PCA"
   ]
  },
  {
   "cell_type": "code",
   "execution_count": 56,
   "id": "febd42e6-0cfb-4edb-9e4f-19a1e0e84ae5",
   "metadata": {},
   "outputs": [],
   "source": [
    "imgs_reals_list = [i.numpy().tolist() for i in (imgs_reals)]\n",
    "imgs_fake_list = [i.numpy().tolist() for i in (imgs_fake)]\n",
    "all_data = imgs_reals_list + imgs_fake_list\n",
    "all_data = np.array(all_data)"
   ]
  },
  {
   "cell_type": "code",
   "execution_count": 57,
   "id": "42dd6b35-dda9-42e2-87ee-7bce16e9ab5f",
   "metadata": {},
   "outputs": [],
   "source": [
    "from sklearn.decomposition import PCA\n",
    "\n",
    "all_data = all_data.reshape(512, -1)\n",
    "\n",
    "pca = PCA(n_components=2).fit(all_data)\n",
    "Xp = pca.transform(all_data)"
   ]
  },
  {
   "cell_type": "code",
   "execution_count": 58,
   "id": "80865c18-a5f4-4de4-af60-2fb62d562600",
   "metadata": {},
   "outputs": [],
   "source": [
    "import matplotlib.pyplot as plt\n",
    "\n",
    "plt.style.use(\n",
    "    \"https://github.com/dhaitz/matplotlib-stylesheets/raw/master/pitayasmoothie-light.mplstyle\"\n",
    ")\n",
    "plt.close()\n",
    "colors = np.zeros(256).tolist() + np.ones(256).tolist()"
   ]
  },
  {
   "cell_type": "code",
   "execution_count": 59,
   "id": "74639c0b-ad59-4ee7-8135-9ba578068ae1",
   "metadata": {},
   "outputs": [
    {
     "data": {
      "text/plain": [
       "<matplotlib.legend.Legend at 0x7fe9ed3daca0>"
      ]
     },
     "execution_count": 59,
     "metadata": {},
     "output_type": "execute_result"
    },
    {
     "data": {
      "image/png": "[encoded data removed]",
      "text/plain": [
       "<Figure size 640x480 with 1 Axes>"
      ]
     },
     "metadata": {},
     "output_type": "display_data"
    }
   ],
   "source": [
    "%matplotlib inline\n",
    "import pandas as pd\n",
    "\n",
    "name_dic = {1.0: \"Real\", 0: \"Fake\"}\n",
    "\n",
    "\n",
    "pca_df = pd.DataFrame(Xp, columns=[\"PC1\", \"PC2\"])\n",
    "labels = pd.DataFrame([name_dic[c] for c in colors], columns=[\"class\"])\n",
    "pca_df = pd.concat([pca_df, labels], axis=1)\n",
    "\n",
    "groups = pca_df.groupby(\"class\")\n",
    "\n",
    "fig, ax = plt.subplots()\n",
    "ax.margins(0.05)  # Optional, just adds 5% padding to the autoscaling\n",
    "for name, group in groups:\n",
    "    ax.plot(group.PC1, group.PC2, marker=\"o\", linestyle=\"\", ms=5, label=name, alpha=1)\n",
    "\n",
    "plt.title(\"Generated and Real Samples from Iberian Pottery Dataset\")\n",
    "ax.legend()"
   ]
  },
  {
   "cell_type": "code",
   "execution_count": 60,
   "id": "204e09da-874d-474c-a74b-114d468b1d82",
   "metadata": {},
   "outputs": [
    {
     "data": {
      "text/plain": [
       "<seaborn.axisgrid.PairGrid at 0x7fe98c238250>"
      ]
     },
     "execution_count": 60,
     "metadata": {},
     "output_type": "execute_result"
    },
    {
     "data": {
      "image/png": "[encoded data removed]",
      "text/plain": [
       "<Figure size 581x500 with 6 Axes>"
      ]
     },
     "metadata": {},
     "output_type": "display_data"
    }
   ],
   "source": [
    "import seaborn as sns\n",
    "\n",
    "sns.pairplot(pca_df, hue=\"class\")"
   ]
  },
  {
   "cell_type": "markdown",
   "id": "a627bf00-9972-4256-bb4e-befe7775ce2f",
   "metadata": {},
   "source": [
    "##### Geometric Score"
   ]
  },
  {
   "cell_type": "code",
   "execution_count": 61,
   "id": "e02fc5e2-4707-4c2e-9db1-bde520752bf0",
   "metadata": {},
   "outputs": [
    {
     "name": "stdout",
     "output_type": "stream",
     "text": [
      "fatal: destination path 'geometry-score' already exists and is not an empty directory.\n"
     ]
    }
   ],
   "source": [
    "!git clone https://github.com/KhrulkovV/geometry-score.git"
   ]
  },
  {
   "cell_type": "code",
   "execution_count": 62,
   "id": "2c92cb20-5384-4804-a8f5-9a5b454215dd",
   "metadata": {},
   "outputs": [],
   "source": [
    "import sys\n",
    "\n",
    "sys.path.append(\"./geometry-score/\")\n",
    "import gs"
   ]
  },
  {
   "cell_type": "code",
   "execution_count": 63,
   "id": "15dc655e-45f3-4d2b-8bca-63f6bf5f4c9c",
   "metadata": {},
   "outputs": [],
   "source": [
    "all_data[all_data > 0.5] = 1\n",
    "all_data[all_data < 0.5] = 0"
   ]
  },
  {
   "cell_type": "code",
   "execution_count": 64,
   "id": "06b707bb-c7c4-4b9b-b83b-03402a0b3066",
   "metadata": {},
   "outputs": [],
   "source": [
    "y_1 = all_data[0:256]\n",
    "x_1 = all_data[256:]"
   ]
  },
  {
   "cell_type": "code",
   "execution_count": 65,
   "id": "01f6b5dd-a3b8-4cbc-b20e-2b3d84cf797c",
   "metadata": {},
   "outputs": [
    {
     "name": "stdout",
     "output_type": "stream",
     "text": [
      "Done 0/256\n",
      "Done 10/256\n",
      "Done 20/256\n",
      "Done 30/256\n",
      "Done 40/256\n",
      "Done 50/256\n",
      "Done 60/256\n",
      "Done 70/256\n",
      "Done 80/256\n",
      "Done 90/256\n",
      "Done 100/256\n",
      "Done 110/256\n",
      "Done 120/256\n",
      "Done 130/256\n",
      "Done 140/256\n",
      "Done 150/256\n",
      "Done 160/256\n",
      "Done 170/256\n",
      "Done 180/256\n",
      "Done 190/256\n",
      "Done 200/256\n",
      "Done 210/256\n",
      "Done 220/256\n",
      "Done 230/256\n",
      "Done 240/256\n",
      "Done 250/256\n"
     ]
    }
   ],
   "source": [
    "rlts_fake = gs.rlts(x_1, gamma=1.0 / 128, n=x_1.shape[0])\n",
    "mrlt_fake = np.mean(rlts_fake, axis=0)"
   ]
  },
  {
   "cell_type": "code",
   "execution_count": 66,
   "id": "9a35099f-cfbf-4eac-98b3-c99c68373f1d",
   "metadata": {
    "scrolled": true
   },
   "outputs": [
    {
     "name": "stdout",
     "output_type": "stream",
     "text": [
      "Done 0/256\n",
      "Done 10/256\n",
      "Done 20/256\n",
      "Done 30/256\n",
      "Done 40/256\n",
      "Done 50/256\n",
      "Done 60/256\n",
      "Done 70/256\n",
      "Done 80/256\n",
      "Done 90/256\n",
      "Done 100/256\n",
      "Done 110/256\n",
      "Done 120/256\n",
      "Done 130/256\n",
      "Done 140/256\n",
      "Done 150/256\n",
      "Done 160/256\n",
      "Done 170/256\n",
      "Done 180/256\n",
      "Done 190/256\n",
      "Done 200/256\n",
      "Done 210/256\n",
      "Done 220/256\n",
      "Done 230/256\n",
      "Done 240/256\n",
      "Done 250/256\n"
     ]
    }
   ],
   "source": [
    "rlts_real = gs.rlts(y_1, gamma=1.0 / 128, n=y_1.shape[0])\n",
    "mrlt_real = np.mean(rlts_real, axis=0)"
   ]
  },
  {
   "cell_type": "code",
   "execution_count": 67,
   "id": "84b11bba-1d0c-43f8-ae95-304cbb2cf433",
   "metadata": {},
   "outputs": [
    {
     "data": {
      "text/plain": [
       "<matplotlib.legend.Legend at 0x7fe8c7328a00>"
      ]
     },
     "execution_count": 67,
     "metadata": {},
     "output_type": "execute_result"
    },
    {
     "data": {
      "image/png": "[encoded data removed]",
      "text/plain": [
       "<Figure size 640x480 with 1 Axes>"
      ]
     },
     "metadata": {},
     "output_type": "display_data"
    }
   ],
   "source": [
    "gs.fancy_plot(mrlt_real, label=\"Real\", color=\"#ff6e9c\")\n",
    "gs.fancy_plot(mrlt_fake, label=\"Fake\", color=\"#7a76c2\")\n",
    "plt.xlim([0, 60])\n",
    "plt.legend()"
   ]
  },
  {
   "cell_type": "code",
   "execution_count": 68,
   "id": "28e89ee1-a91f-4c65-9e85-24c5a3a535f7",
   "metadata": {},
   "outputs": [
    {
     "name": "stdout",
     "output_type": "stream",
     "text": [
      "GS-SCORE 0.004855854315744515\n"
     ]
    }
   ],
   "source": [
    "print(\"GS-SCORE\", gs.geom_score(rlts_fake, rlts_real))"
   ]
  },
  {
   "cell_type": "markdown",
   "id": "76c8678f-6c28-434c-b8f9-8cf619425e55",
   "metadata": {},
   "source": [
    "#### Podemos utilizar el clasificador entrenado, en el dia 1 para evaluar la red generadora $(G)$\n",
    "- Preparamos los artefactos generados en formato  de pytorch de conjunto de imagenes\n",
    "- Creamos la clase para el clasificador y cargamos los pesos entrenados\n",
    "- Pasamos nuestros datos por el clasificador y observamos frequencias de distribución"
   ]
  },
  {
   "cell_type": "code",
   "execution_count": 69,
   "id": "8e79be2b-61aa-43b7-a9a4-45e9cb18e1ec",
   "metadata": {},
   "outputs": [],
   "source": [
    "imgs_fake_torch = torch.stack(imgs_fake)"
   ]
  },
  {
   "cell_type": "code",
   "execution_count": 70,
   "id": "a94fc813-7f73-46e1-ba16-361fa43442b6",
   "metadata": {},
   "outputs": [],
   "source": [
    "transforms_test = [\n",
    "    tfs.ToPILImage(),\n",
    "    # tfs.RandomHorizontalFlip(p=0.7),\n",
    "    # tfs.RandomAffine(0, scale=(0.7, 1.0)),\n",
    "    tfs.Resize((64, 64)),\n",
    "    tfs.Grayscale(1),\n",
    "    tfs.ToTensor(),\n",
    "]\n",
    "output = torch.stack([tfs.Compose(transforms_test)(a) for a in imgs_fake_torch])"
   ]
  },
  {
   "cell_type": "code",
   "execution_count": 72,
   "id": "12f15a63-822d-4603-9e2f-fd6778c4ed29",
   "metadata": {
    "scrolled": true
   },
   "outputs": [
    {
     "data": {
      "text/plain": [
       "<All keys matched successfully>"
      ]
     },
     "execution_count": 72,
     "metadata": {},
     "output_type": "execute_result"
    }
   ],
   "source": [
    "sys.path.append(\"../Day-1/.\")\n",
    "from models import classifier\n",
    "\n",
    "final_classifier = classifier._C(input_h_w=64)\n",
    "final_classifier.load_state_dict(torch.load(\"../Day-1/weights/classifier.pkl\", map_location=device))"
   ]
  },
  {
   "cell_type": "code",
   "execution_count": 73,
   "id": "b4d59656-b588-4900-8b5c-593c5ae8fa17",
   "metadata": {},
   "outputs": [],
   "source": [
    "output_class = final_classifier(output).detach().numpy()\n",
    "classes = np.argmax(output_class, 1)\n",
    "(unique, counts) = np.unique(classes, return_counts=True)"
   ]
  },
  {
   "cell_type": "code",
   "execution_count": 74,
   "id": "bbe48ae1-4cbb-4c68-bf19-41a54d8a82ef",
   "metadata": {},
   "outputs": [
    {
     "data": {
      "text/plain": [
       "Text(0, 0.5, 'Frecuencia')"
      ]
     },
     "execution_count": 74,
     "metadata": {},
     "output_type": "execute_result"
    },
    {
     "data": {
      "image/png": "[encoded data removed]",
      "text/plain": [
       "<Figure size 640x480 with 1 Axes>"
      ]
     },
     "metadata": {},
     "output_type": "display_data"
    }
   ],
   "source": [
    "plt.bar(unique, counts)\n",
    "_ = plt.xticks(range(0, 10))\n",
    "plt.title(\"Frecuencia de Clases generadas\")\n",
    "plt.xlabel(\"Clases\", fontsize=15)\n",
    "plt.ylabel(\"Frecuencia\", fontsize=15)"
   ]
  },
  {
   "cell_type": "code",
   "execution_count": 75,
   "id": "e5a9e0c6-f9d3-42d7-8966-7b37cf88614a",
   "metadata": {},
   "outputs": [],
   "source": [
    "classes_prob = np.max(output_class, 1)"
   ]
  },
  {
   "cell_type": "code",
   "execution_count": 76,
   "id": "2ecbadf6-d304-4282-af28-4a444bce84a9",
   "metadata": {},
   "outputs": [
    {
     "data": {
      "text/plain": [
       "Text(0, 0.5, 'Acumulativo')"
      ]
     },
     "execution_count": 76,
     "metadata": {},
     "output_type": "execute_result"
    },
    {
     "data": {
      "image/png": "[encoded data removed]",
      "text/plain": [
       "<Figure size 640x480 with 1 Axes>"
      ]
     },
     "metadata": {},
     "output_type": "display_data"
    }
   ],
   "source": [
    "# Datos de ejemplo\n",
    "datos = classes_prob\n",
    "\n",
    "# Crear el histograma\n",
    "plt.hist(datos, bins=5, edgecolor=\"black\")\n",
    "\n",
    "# Personalizar el histograma\n",
    "plt.title(\"Histograma\")\n",
    "plt.xlabel(\"Probabilidades\")\n",
    "plt.ylabel(\"Acumulativo\")"
   ]
  },
  {
   "cell_type": "markdown",
   "id": "ebf78ce5",
   "metadata": {},
   "source": [
    "### Ejercicios\n",
    "- Ejecutar el modelo con diferentes parámetros (LRs, Loss) y comparar las métricas.\n",
    "- Comparar metricas de red entrenada en 10, 50 y 100 epochs. Qué diferencias observan?.\n",
    "- Extraer y visualizar ejemplos de los 5 artefactos mejor generados y peor generados con respecto a una metrica a elección."
   ]
  }
 ],
 "metadata": {
  "kernelspec": {
   "display_name": "Python 3 (ipykernel)",
   "language": "python",
   "name": "python3"
  },
  "language_info": {
   "codemirror_mode": {
    "name": "ipython",
    "version": 3
   },
   "file_extension": ".py",
   "mimetype": "text/x-python",
   "name": "python",
   "nbconvert_exporter": "python",
   "pygments_lexer": "ipython3",
   "version": "3.9.0"
  }
 },
 "nbformat": 4,
 "nbformat_minor": 5
}
