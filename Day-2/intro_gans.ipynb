{
 "cells": [
  {
   "cell_type": "markdown",
   "id": "b9494779",
   "metadata": {},
   "source": [
    "## Introducción a GANs\n",
    "\n",
    "### Referencias\n",
    "- Goodfellow, I., Pouget-Abadie, J., Mirza, M., Xu, B., Warde-Farley, D., Ozair, S., Courville, A. and Bengio, Y., 2020. Generative adversarial networks. Communications of the ACM, 63(11), pp.139-144. [link](https://arxiv.org/abs/1406.2661)\n",
    "\n",
    "- Creswell, A., White, T., Dumoulin, V., Arulkumaran, K., Sengupta, B. and Bharath, A.A., 2018. Generative adversarial networks: An overview. IEEE signal processing magazine, 35(1), pp.53-65. [link](https://arxiv.org/pdf/1710.07035.pdf)"
   ]
  },
  {
   "cell_type": "markdown",
   "id": "ced8473b",
   "metadata": {},
   "source": [
    "### Qué pasos debemos seguir para entrenar una GAN?\n",
    "- Cargar datos, transformarlos en formato necesario para pytorch. $t_{train}$ va a tener transformaciones diferentes a $t_{test}$, por qué? \n",
    "- A los datos de entrenamiento debemos dividirlos una vez mas para usar elementos de validación durante el entrenamiento.\n",
    "- Definir arquitectura de nuestras redes, la red generadora ($G$), evaluadora ($D$) (Ver models.py)\n",
    "- Definir métodos funciones de error, optimizador y métricas de evaluación para el entrenamiento paralelo de ambas redes."
   ]
  },
  {
   "cell_type": "markdown",
   "id": "cce08012-b400-4243-a69b-6fb79a78d2e3",
   "metadata": {},
   "source": [
    "#### Cargamos nuestros datos"
   ]
  },
  {
   "cell_type": "code",
   "execution_count": 1,
   "id": "0ac1eb32-cb13-42f8-acb6-4665310f04c0",
   "metadata": {},
   "outputs": [],
   "source": [
    "from torchvision import datasets\n",
    "from torchvision import transforms as tfs\n",
    "from torch.utils import data\n",
    "import torchvision.utils as vutils\n",
    "import PIL\n",
    "import numpy as np"
   ]
  },
  {
   "cell_type": "code",
   "execution_count": 2,
   "id": "bdcd67f8",
   "metadata": {},
   "outputs": [],
   "source": [
    "transforms_train = [\n",
    "    tfs.RandomHorizontalFlip(p=0.7),\n",
    "    tfs.RandomAffine(0, scale=(0.7, 1.0), fill=255),\n",
    "    tfs.Resize((32, 32)),\n",
    "    tfs.Grayscale(1),\n",
    "    tfs.Lambda(lambda x: PIL.ImageOps.invert(x)),\n",
    "    tfs.ToTensor(),\n",
    "]\n",
    "\n",
    "transforms_test = [\n",
    "    tfs.RandomHorizontalFlip(p=0.7),\n",
    "    tfs.RandomAffine(0, scale=(0.7, 1.0), fill=255),\n",
    "    tfs.Resize((32, 32)),\n",
    "    tfs.Grayscale(1),\n",
    "    tfs.Lambda(lambda x: PIL.ImageOps.invert(x)),\n",
    "    tfs.ToTensor(),\n",
    "]\n",
    "\n",
    "train_data = datasets.ImageFolder(\n",
    "    \"../data/train/\", transform=tfs.Compose(transforms_train)\n",
    ")\n",
    "\n",
    "test_data = datasets.ImageFolder(\n",
    "    \"../data/test/\", transform=tfs.Compose(transforms_test)\n",
    ")"
   ]
  },
  {
   "cell_type": "code",
   "execution_count": 3,
   "id": "c360802d",
   "metadata": {},
   "outputs": [],
   "source": [
    "train_loader = data.DataLoader(train_data, batch_size=64, shuffle=True, drop_last=True)\n",
    "test_loader = data.DataLoader(test_data, batch_size=64, shuffle=True, drop_last=True)"
   ]
  },
  {
   "cell_type": "markdown",
   "id": "9a0b1103-dfe7-467c-b7ca-f7f0c7d2c0da",
   "metadata": {},
   "source": [
    "##### Chequamos dispositivos disponibles para el entrenamiento"
   ]
  },
  {
   "cell_type": "code",
   "execution_count": 4,
   "id": "17830525-82f1-4e1a-9e2e-e9bf0c79efd4",
   "metadata": {},
   "outputs": [],
   "source": [
    "import torch\n",
    "import torch.nn as nn\n",
    "import torch.optim as optim"
   ]
  },
  {
   "cell_type": "code",
   "execution_count": 5,
   "id": "10231564-b77a-4a4f-8f6d-b3da5745c084",
   "metadata": {},
   "outputs": [
    {
     "name": "stdout",
     "output_type": "stream",
     "text": [
      "Dispositivo disponible: cuda\n"
     ]
    }
   ],
   "source": [
    "device = torch.device(\"cuda\" if torch.cuda.is_available() else \"cpu\")\n",
    "print(f\"Dispositivo disponible: {device}\")"
   ]
  },
  {
   "cell_type": "markdown",
   "id": "7872c871-d5ef-4f53-b835-14b0d05f6fa5",
   "metadata": {},
   "source": [
    "#### Cómo es nuestro modelo Generador $(G)$?"
   ]
  },
  {
   "cell_type": "code",
   "execution_count": 6,
   "id": "0fe2fd5f",
   "metadata": {},
   "outputs": [],
   "source": [
    "from models.generator import _G\n",
    "from models.discriminator import _D\n",
    "from models.gan import GAN\n",
    "import PIL.ImageOps"
   ]
  },
  {
   "cell_type": "code",
   "execution_count": 7,
   "id": "f0475db5",
   "metadata": {},
   "outputs": [
    {
     "name": "stdout",
     "output_type": "stream",
     "text": [
      "----------------------------------------------------------------\n",
      "        Layer (type)               Output Shape         Param #\n",
      "================================================================\n",
      "            Linear-1                 [-1, 1024]          66,560\n",
      "       BatchNorm1d-2                 [-1, 1024]           2,048\n",
      "              ReLU-3                 [-1, 1024]               0\n",
      "            Linear-4               [-1, 100352]     102,860,800\n",
      "       BatchNorm1d-5               [-1, 100352]         200,704\n",
      "              ReLU-6               [-1, 100352]               0\n",
      "   ConvTranspose2d-7           [-1, 64, 56, 56]         131,136\n",
      "       BatchNorm2d-8           [-1, 64, 56, 56]             128\n",
      "              ReLU-9           [-1, 64, 56, 56]               0\n",
      "  ConvTranspose2d-10          [-1, 1, 112, 112]           1,025\n",
      "          Sigmoid-11          [-1, 1, 112, 112]               0\n",
      "================================================================\n",
      "Total params: 103,262,401\n",
      "Trainable params: 103,262,401\n",
      "Non-trainable params: 0\n",
      "----------------------------------------------------------------\n",
      "Input size (MB): 0.00\n",
      "Forward/backward pass size (MB): 7.11\n",
      "Params size (MB): 393.91\n",
      "Estimated Total Size (MB): 401.02\n",
      "----------------------------------------------------------------\n"
     ]
    }
   ],
   "source": [
    "from torchsummary import summary\n",
    "\n",
    "G = _G(input_h_w=112, latent_v=64).to(device)\n",
    "summary(G, (64,))"
   ]
  },
  {
   "cell_type": "markdown",
   "id": "0b6614b7-848a-4404-921d-259b3b45dd0f",
   "metadata": {},
   "source": [
    "#### Cómo es nuestro Evaluador $(D)$?"
   ]
  },
  {
   "cell_type": "code",
   "execution_count": 8,
   "id": "637d0951",
   "metadata": {},
   "outputs": [
    {
     "name": "stdout",
     "output_type": "stream",
     "text": [
      "----------------------------------------------------------------\n",
      "        Layer (type)               Output Shape         Param #\n",
      "================================================================\n",
      "            Conv2d-1           [-1, 64, 56, 56]           1,088\n",
      "         LeakyReLU-2           [-1, 64, 56, 56]               0\n",
      "            Conv2d-3          [-1, 128, 28, 28]         131,200\n",
      "       BatchNorm2d-4          [-1, 128, 28, 28]             256\n",
      "         LeakyReLU-5          [-1, 128, 28, 28]               0\n",
      "            Linear-6                 [-1, 1024]     102,761,472\n",
      "       BatchNorm1d-7                 [-1, 1024]           2,048\n",
      "         LeakyReLU-8                 [-1, 1024]               0\n",
      "            Linear-9                    [-1, 1]           1,025\n",
      "          Sigmoid-10                    [-1, 1]               0\n",
      "================================================================\n",
      "Total params: 102,897,089\n",
      "Trainable params: 102,897,089\n",
      "Non-trainable params: 0\n",
      "----------------------------------------------------------------\n",
      "Input size (MB): 0.05\n",
      "Forward/backward pass size (MB): 5.38\n",
      "Params size (MB): 392.52\n",
      "Estimated Total Size (MB): 397.95\n",
      "----------------------------------------------------------------\n"
     ]
    }
   ],
   "source": [
    "D = _D(input_h_w=112).to(device)\n",
    "summary(D, (1, 112, 112))"
   ]
  },
  {
   "cell_type": "markdown",
   "id": "4a91396d-6eb1-4588-bdad-535f7dfc6508",
   "metadata": {},
   "source": [
    "#### Cómo entrenar una GAN?"
   ]
  },
  {
   "cell_type": "code",
   "execution_count": 9,
   "id": "691e95ef-d084-42a2-96fa-50e9154e91ba",
   "metadata": {},
   "outputs": [],
   "source": [
    "batch_size = 64  # Tamaño de Lote\n",
    "z_dim = 64  # Dim del espacio latente\n",
    "epochs = 400"
   ]
  },
  {
   "cell_type": "code",
   "execution_count": 10,
   "id": "7153ded7-be05-4b61-af5e-ac5112ab6857",
   "metadata": {},
   "outputs": [],
   "source": [
    "output_dir = \"output/\"\n",
    "PRINT_FREQ = 10\n",
    "FAKE_IMG_FNAME = \"fake_sample_epoch_{:04d}.png\"\n",
    "REAL_IMG_FNAME = \"real_sample_epoch_{:04d}.png\"\n",
    "LOGS_FNAME = \"logs.tsv\"\n",
    "PLOT_FNAME = \"plot.svg\"\n",
    "SAMPLES_FNAME = \"samples.svg\"\n",
    "CKPT_PREFIX = \"networks\""
   ]
  },
  {
   "cell_type": "markdown",
   "id": "f706dd01-fd72-4b30-ba17-dc97ac23cc2d",
   "metadata": {},
   "source": [
    "##### Instanciamos ambas redes, definimos los optimizadoradores y la función de perdida"
   ]
  },
  {
   "cell_type": "code",
   "execution_count": 11,
   "id": "209757e2-358a-4f2b-8458-a7d562610406",
   "metadata": {},
   "outputs": [],
   "source": [
    "D = _D(input_h_w=32).to(device)\n",
    "G = _G(input_h_w=32, latent_v=z_dim).to(device)\n",
    "\n",
    "optimizer_G = optim.Adam(G.parameters(), lr=0.0002, betas=(0.5, 0.999))\n",
    "optimizer_D = optim.Adam(D.parameters(), lr=0.0002, betas=(0.5, 0.999))\n",
    "criterion = nn.BCELoss()"
   ]
  },
  {
   "cell_type": "markdown",
   "id": "31c09426-4cbc-457a-aad9-4f50bef4797b",
   "metadata": {},
   "source": [
    "##### Definimos las etiquetas REALES / GENERADAS"
   ]
  },
  {
   "cell_type": "code",
   "execution_count": 12,
   "id": "3a5fb7cf-9825-4b9e-803e-a7ce07031027",
   "metadata": {},
   "outputs": [],
   "source": [
    "real_labels = torch.ones(batch_size, device=device)\n",
    "fake_labels = torch.zeros(batch_size, device=device)"
   ]
  },
  {
   "cell_type": "code",
   "execution_count": 13,
   "id": "040102e9-f4d8-4fbb-b90b-4883b1eaaee6",
   "metadata": {},
   "outputs": [
    {
     "data": {
      "text/plain": [
       "tensor([0., 0., 0., 0., 0., 0., 0., 0., 0., 0., 0., 0., 0., 0., 0., 0., 0., 0., 0., 0., 0., 0., 0., 0.,\n",
       "        0., 0., 0., 0., 0., 0., 0., 0., 0., 0., 0., 0., 0., 0., 0., 0., 0., 0., 0., 0., 0., 0., 0., 0.,\n",
       "        0., 0., 0., 0., 0., 0., 0., 0., 0., 0., 0., 0., 0., 0., 0., 0.],\n",
       "       device='cuda:0')"
      ]
     },
     "execution_count": 13,
     "metadata": {},
     "output_type": "execute_result"
    }
   ],
   "source": [
    "fake_labels"
   ]
  },
  {
   "cell_type": "code",
   "execution_count": 14,
   "id": "ffaadac8-b74f-4cbf-a8c8-013d09715a20",
   "metadata": {},
   "outputs": [
    {
     "data": {
      "text/plain": [
       "tensor([1., 1., 1., 1., 1., 1., 1., 1., 1., 1., 1., 1., 1., 1., 1., 1., 1., 1.,\n",
       "        1., 1., 1., 1., 1., 1., 1., 1., 1., 1., 1., 1., 1., 1., 1., 1., 1., 1.,\n",
       "        1., 1., 1., 1., 1., 1., 1., 1., 1., 1., 1., 1., 1., 1., 1., 1., 1., 1.,\n",
       "        1., 1., 1., 1., 1., 1., 1., 1., 1., 1.], device='cuda:0')"
      ]
     },
     "execution_count": 14,
     "metadata": {},
     "output_type": "execute_result"
    }
   ],
   "source": [
    "real_labels"
   ]
  },
  {
   "cell_type": "markdown",
   "id": "891a9418-8fad-42d8-9bad-3e298bd5a441",
   "metadata": {},
   "source": [
    "#### Definimos la función que nos dará nuestros vectores aleatorios"
   ]
  },
  {
   "cell_type": "code",
   "execution_count": 15,
   "id": "e618e83e-f5d0-449f-a2d8-9cb719c39b7b",
   "metadata": {},
   "outputs": [],
   "source": [
    "def get_noise():\n",
    "    # ruido con distribución normal\n",
    "    return torch.randn(batch_size, z_dim, device=device)"
   ]
  },
  {
   "cell_type": "code",
   "execution_count": 16,
   "id": "ff6d6865-b723-4e1f-812e-0cfdaf7e0e36",
   "metadata": {},
   "outputs": [],
   "source": [
    "fixed_noise = get_noise()"
   ]
  },
  {
   "cell_type": "code",
   "execution_count": 17,
   "id": "1840e68f-88a8-4dff-b8ba-597b798780a4",
   "metadata": {},
   "outputs": [
    {
     "data": {
      "text/plain": [
       "torch.Size([64, 64])"
      ]
     },
     "execution_count": 17,
     "metadata": {},
     "output_type": "execute_result"
    }
   ],
   "source": [
    "fixed_noise.shape"
   ]
  },
  {
   "cell_type": "markdown",
   "id": "36e126a7-a27f-483e-a209-7d7ccd6af754",
   "metadata": {},
   "source": [
    "#### Diseñamos el entrenamiento\n",
    "\n",
    "A diferencia de un clasificador normal, el entrenamiento de las GANs tiene algunos pasos extra, ya que el entrenamiento depende de informacion de ambas redes $(G)$ y $(D)$."
   ]
  },
  {
   "cell_type": "code",
   "execution_count": 18,
   "id": "dd37d5ec-a4b1-4a51-96ed-4bde03604104",
   "metadata": {},
   "outputs": [],
   "source": [
    "def step(engine, batch):\n",
    "    real, _ = batch  # img, label\n",
    "    real = real.to(device)\n",
    "\n",
    "    # -----------------------------------------------------------\n",
    "    # (1) Update D network: maximize log(D(x)) + log(1 - D(G(z)))\n",
    "    D.zero_grad()\n",
    "\n",
    "    # Entrenamiento D con datos reales\n",
    "    output = D(real)\n",
    "    errD_real = criterion(output, real_labels)\n",
    "    D_x = output.mean().item()\n",
    "\n",
    "    errD_real.backward()\n",
    "\n",
    "    # Imágenes a partir de un vector aleatorio.\n",
    "\n",
    "    noise = get_noise()  # vector aleatorio --> Z\n",
    "    fake = G(noise)\n",
    "\n",
    "    # Entrenamiento de D con datos generados\n",
    "    output = D(fake.detach())\n",
    "    errD_fake = criterion(output, fake_labels)\n",
    "    D_G_z1 = output.mean().item()\n",
    "    errD_fake.backward()\n",
    "\n",
    "    # Actulizar gradientes\n",
    "    optimizer_D.step()\n",
    "\n",
    "    errD = errD_real + errD_fake\n",
    "    # -----------------------------------------------------------\n",
    "    # (2) Update G network: maximize log(D(G(z)))\n",
    "    G.zero_grad()\n",
    "\n",
    "    output = D(fake)\n",
    "    errG = criterion(output, real_labels)\n",
    "    # Ahora medimos como es el error de D con datos generados\n",
    "    # Otro tipo de loss: errG = 1 - (criterion(D(fake), fake_labels) + criterion(D(real), real_labels))\n",
    "\n",
    "    D_G_z2 = output.mean().item()\n",
    "    errG.backward()\n",
    "\n",
    "    # Actulizar gradientes\n",
    "    optimizer_G.step()\n",
    "\n",
    "    return {\n",
    "        \"errD\": errD.item(),\n",
    "        \"errG\": errG.item(),\n",
    "        \"D_x\": D_x,\n",
    "        \"D_G_z1\": D_G_z1,\n",
    "        \"D_G_z2\": D_G_z2,\n",
    "    }"
   ]
  },
  {
   "cell_type": "code",
   "execution_count": 19,
   "id": "ee057a6e-ef0e-4d3f-a1c9-0472816cf242",
   "metadata": {},
   "outputs": [],
   "source": [
    "from ignite.contrib.handlers import ProgressBar\n",
    "from ignite.engine import Engine, Events\n",
    "from ignite.handlers import ModelCheckpoint, Timer\n",
    "from ignite.metrics import RunningAverage"
   ]
  },
  {
   "cell_type": "code",
   "execution_count": 20,
   "id": "abe78f6b-ea5c-46e7-808d-f0bc39f2b9f2",
   "metadata": {},
   "outputs": [],
   "source": [
    "from torch.utils.tensorboard import SummaryWriter\n",
    "from datetime import datetime\n",
    "\n",
    "# from tqdm.autonotebook import tqdm\n",
    "from tqdm import tqdm_notebook as tqdm"
   ]
  },
  {
   "cell_type": "markdown",
   "id": "a35f7634-241a-45ee-9666-7172789c331b",
   "metadata": {},
   "source": [
    "#### Ignite para entrenamiento de GANs\n",
    "\n",
    "No se olviden de ver el dashboard the TensorBoard en [http://localhost:6006/](http://localhost:6006/)\n",
    "Para iniciar el servidor del dashboard:\n",
    "\n",
    "`tensorboard --logdir=./output --port 6006  --host 0.0.0.0 --load_fast=false`"
   ]
  },
  {
   "cell_type": "code",
   "execution_count": 21,
   "id": "8a907616-2d42-4ce1-9446-3bd7527724ab",
   "metadata": {},
   "outputs": [
    {
     "name": "stderr",
     "output_type": "stream",
     "text": [
      "/home/pablo/miniconda3/envs/curso_esp/lib/python3.9/site-packages/ignite/contrib/handlers/tqdm_logger.py:127: TqdmExperimentalWarning: Using `tqdm.autonotebook.tqdm` in notebook mode. Use `tqdm.tqdm` instead to force console mode (e.g. in jupyter console)\n",
      "  from tqdm.autonotebook import tqdm\n"
     ]
    }
   ],
   "source": [
    "# Definimos el Objeto 'trainer' con la función 'step'\n",
    "trainer = Engine(step)\n",
    "\n",
    "# Para ir guardando los pesos de la red mientras se entrena, debemos definir\n",
    "checkpoint_handler = ModelCheckpoint(\n",
    "    \"weights/\", CKPT_PREFIX, n_saved=100, require_empty=False\n",
    ")\n",
    "timer = Timer(average=True)\n",
    "\n",
    "# Que métricas queremos seguir\n",
    "monitoring_metrics = [\"errD\", \"errG\", \"D_x\", \"D_G_z1\", \"D_G_z2\"]\n",
    "RunningAverage(output_transform=lambda x: x[\"errD\"]).attach(trainer, \"errD\")\n",
    "RunningAverage(output_transform=lambda x: x[\"errG\"]).attach(trainer, \"errG\")\n",
    "RunningAverage(output_transform=lambda x: x[\"D_x\"]).attach(trainer, \"D_x\")\n",
    "RunningAverage(output_transform=lambda x: x[\"D_G_z1\"]).attach(trainer, \"D_G_z1\")\n",
    "RunningAverage(output_transform=lambda x: x[\"D_G_z2\"]).attach(trainer, \"D_G_z2\")\n",
    "\n",
    "# Definimos el objeto TensorBoard para seguirlo a través del dashboard\n",
    "now = datetime.now()\n",
    "logdir = \"output/\" + now.strftime(\"%Y%m%d-%H%M%S\") + \"/\"\n",
    "writer = SummaryWriter(log_dir=logdir, flush_secs=1)\n",
    "\n",
    "# Definimos la barra de progreso\n",
    "pbar = ProgressBar()\n",
    "pbar.attach(trainer, metric_names=monitoring_metrics)"
   ]
  },
  {
   "cell_type": "code",
   "execution_count": 22,
   "id": "5426e224-ada4-44cb-a55a-d03f73d9cba5",
   "metadata": {},
   "outputs": [],
   "source": [
    "@trainer.on(Events.ITERATION_COMPLETED(every=PRINT_FREQ))\n",
    "def print_logs(engine):\n",
    "    fname = output_dir + LOGS_FNAME\n",
    "    columns = [\"iteration\"] + list(engine.state.metrics.keys())\n",
    "    values = [str(engine.state.iteration)] + [\n",
    "        str(round(value, 5)) for value in engine.state.metrics.values()\n",
    "    ]\n",
    "    with open(fname, \"a\") as f:\n",
    "        if f.tell() == 0:\n",
    "            print(\"\\t\".join(columns), file=f)\n",
    "        print(\"\\t\".join(values), file=f)\n",
    "    message = f\"[{engine.state.epoch}/{epochs}][{engine.state.iteration % len(train_loader)}/{len(train_loader)}]\"\n",
    "    for name, value in zip(columns, values):\n",
    "        message += f\" | {name}: {value}\"\n",
    "\n",
    "    # pbar.log_message(message)\n",
    "\n",
    "\n",
    "@trainer.on(Events.EPOCH_COMPLETED(every=1))\n",
    "def print_tb(engine):\n",
    "    writer.add_scalars(\n",
    "        \"Training/Loss\",\n",
    "        {\n",
    "            \"G_error\": engine.state.metrics[\"errG\"],\n",
    "            \"D_error\": engine.state.metrics[\"errD\"],\n",
    "        },\n",
    "        engine.state.epoch,\n",
    "    )\n",
    "\n",
    "\n",
    "@trainer.on(Events.EPOCH_COMPLETED(every=10))\n",
    "def plot_tb_fake_example(engine):\n",
    "    fake = G(fixed_noise)\n",
    "    grid = vutils.make_grid(fake)\n",
    "    writer.add_image(\"Fake Images\", grid, engine.state.epoch)\n",
    "\n",
    "\n",
    "@trainer.on(Events.EPOCH_COMPLETED)\n",
    "def save_fake_example(engine):\n",
    "    fake = G(fixed_noise)\n",
    "    path = output_dir + FAKE_IMG_FNAME.format(engine.state.epoch)\n",
    "    vutils.save_image(fake.detach(), path, normalize=True)\n",
    "\n",
    "\n",
    "@trainer.on(Events.EPOCH_COMPLETED)\n",
    "def save_real_example(engine):\n",
    "    img, y = engine.state.batch\n",
    "    path = output_dir + REAL_IMG_FNAME.format(engine.state.epoch)\n",
    "    vutils.save_image(img, path, normalize=True)\n",
    "\n",
    "\n",
    "trainer.add_event_handler(\n",
    "    event_name=Events.EPOCH_COMPLETED,\n",
    "    handler=checkpoint_handler,\n",
    "    to_save={\"netG\": G, \"netD\": D},\n",
    ")\n",
    "\n",
    "timer.attach(\n",
    "    trainer,\n",
    "    start=Events.EPOCH_STARTED,\n",
    "    resume=Events.ITERATION_STARTED,\n",
    "    pause=Events.ITERATION_COMPLETED,\n",
    "    step=Events.ITERATION_COMPLETED,\n",
    ")\n",
    "\n",
    "\n",
    "# adding handlers using `trainer.on` decorator API\n",
    "@trainer.on(Events.EPOCH_COMPLETED)\n",
    "def print_times(engine):\n",
    "    # pbar.log_message(f\"Epoch {engine.state.epoch} done. Time per batch: {timer.value():.3f}[s]\")\n",
    "    timer.reset()\n",
    "\n",
    "\n",
    "# adding handlers using `trainer.on` decorator API\n",
    "@trainer.on(Events.EPOCH_COMPLETED)\n",
    "def create_plots(engine):\n",
    "    try:\n",
    "        import pandas as pd\n",
    "        import matplotlib.pyplot as plt\n",
    "\n",
    "        plt.style.use(\n",
    "            \"https://github.com/dhaitz/matplotlib-stylesheets/raw/master/pitayasmoothie-light.mplstyle\"\n",
    "        )\n",
    "\n",
    "    except ImportError:\n",
    "        warnings.warn(\n",
    "            \"Loss plots will not be generated -- pandas or matplotlib not found\"\n",
    "        )\n",
    "\n",
    "    else:\n",
    "        df = pd.read_csv(\n",
    "            output_dir + \"/\" + LOGS_FNAME, delimiter=\"\\t\", index_col=\"iteration\"\n",
    "        )\n",
    "        _ = df.plot(subplots=True, figsize=(20, 20))\n",
    "        _ = plt.xlabel(\"Iteration number\")\n",
    "        fig = plt.gcf()\n",
    "        path = output_dir + PLOT_FNAME\n",
    "\n",
    "        fig.savefig(path)\n",
    "        plt.close()\n",
    "\n",
    "\n",
    "# adding handlers using `trainer.on` decorator API\n",
    "@trainer.on(Events.EXCEPTION_RAISED)\n",
    "def handle_exception(engine, e):\n",
    "    if isinstance(e, KeyboardInterrupt) and (engine.state.iteration > 1):\n",
    "        engine.terminate()\n",
    "        create_plots(engine)\n",
    "        checkpoint_handler(engine, {\"netG_exception\": G, \"netD_exception\": D})\n",
    "\n",
    "    else:\n",
    "        raise e"
   ]
  },
  {
   "cell_type": "code",
   "execution_count": 23,
   "id": "2eb3ce73-3eb2-4a10-b1c8-31909e70f3f8",
   "metadata": {},
   "outputs": [
    {
     "data": {
      "application/vnd.jupyter.widget-view+json": {
       "model_id": "",
       "version_major": 2,
       "version_minor": 0
      },
      "text/plain": [
       "[1/15]   7%|6          [00:00<?]"
      ]
     },
     "metadata": {},
     "output_type": "display_data"
    },
    {
     "data": {
      "application/vnd.jupyter.widget-view+json": {
       "model_id": "",
       "version_major": 2,
       "version_minor": 0
      },
      "text/plain": [
       "[1/15]   7%|6          [00:00<?]"
      ]
     },
     "metadata": {},
     "output_type": "display_data"
    },
    {
     "data": {
      "application/vnd.jupyter.widget-view+json": {
       "model_id": "",
       "version_major": 2,
       "version_minor": 0
      },
      "text/plain": [
       "[1/15]   7%|6          [00:00<?]"
      ]
     },
     "metadata": {},
     "output_type": "display_data"
    },
    {
     "data": {
      "application/vnd.jupyter.widget-view+json": {
       "model_id": "",
       "version_major": 2,
       "version_minor": 0
      },
      "text/plain": [
       "[1/15]   7%|6          [00:00<?]"
      ]
     },
     "metadata": {},
     "output_type": "display_data"
    },
    {
     "data": {
      "application/vnd.jupyter.widget-view+json": {
       "model_id": "",
       "version_major": 2,
       "version_minor": 0
      },
      "text/plain": [
       "[1/15]   7%|6          [00:00<?]"
      ]
     },
     "metadata": {},
     "output_type": "display_data"
    },
    {
     "data": {
      "application/vnd.jupyter.widget-view+json": {
       "model_id": "",
       "version_major": 2,
       "version_minor": 0
      },
      "text/plain": [
       "[1/15]   7%|6          [00:00<?]"
      ]
     },
     "metadata": {},
     "output_type": "display_data"
    },
    {
     "data": {
      "application/vnd.jupyter.widget-view+json": {
       "model_id": "",
       "version_major": 2,
       "version_minor": 0
      },
      "text/plain": [
       "[1/15]   7%|6          [00:00<?]"
      ]
     },
     "metadata": {},
     "output_type": "display_data"
    },
    {
     "data": {
      "application/vnd.jupyter.widget-view+json": {
       "model_id": "",
       "version_major": 2,
       "version_minor": 0
      },
      "text/plain": [
       "[1/15]   7%|6          [00:00<?]"
      ]
     },
     "metadata": {},
     "output_type": "display_data"
    },
    {
     "data": {
      "application/vnd.jupyter.widget-view+json": {
       "model_id": "",
       "version_major": 2,
       "version_minor": 0
      },
      "text/plain": [
       "[1/15]   7%|6          [00:00<?]"
      ]
     },
     "metadata": {},
     "output_type": "display_data"
    },
    {
     "data": {
      "application/vnd.jupyter.widget-view+json": {
       "model_id": "",
       "version_major": 2,
       "version_minor": 0
      },
      "text/plain": [
       "[1/15]   7%|6          [00:00<?]"
      ]
     },
     "metadata": {},
     "output_type": "display_data"
    },
    {
     "data": {
      "application/vnd.jupyter.widget-view+json": {
       "model_id": "",
       "version_major": 2,
       "version_minor": 0
      },
      "text/plain": [
       "[1/15]   7%|6          [00:00<?]"
      ]
     },
     "metadata": {},
     "output_type": "display_data"
    },
    {
     "data": {
      "application/vnd.jupyter.widget-view+json": {
       "model_id": "",
       "version_major": 2,
       "version_minor": 0
      },
      "text/plain": [
       "[1/15]   7%|6          [00:00<?]"
      ]
     },
     "metadata": {},
     "output_type": "display_data"
    },
    {
     "data": {
      "application/vnd.jupyter.widget-view+json": {
       "model_id": "",
       "version_major": 2,
       "version_minor": 0
      },
      "text/plain": [
       "[1/15]   7%|6          [00:00<?]"
      ]
     },
     "metadata": {},
     "output_type": "display_data"
    },
    {
     "data": {
      "application/vnd.jupyter.widget-view+json": {
       "model_id": "",
       "version_major": 2,
       "version_minor": 0
      },
      "text/plain": [
       "[1/15]   7%|6          [00:00<?]"
      ]
     },
     "metadata": {},
     "output_type": "display_data"
    },
    {
     "data": {
      "application/vnd.jupyter.widget-view+json": {
       "model_id": "",
       "version_major": 2,
       "version_minor": 0
      },
      "text/plain": [
       "[1/15]   7%|6          [00:00<?]"
      ]
     },
     "metadata": {},
     "output_type": "display_data"
    },
    {
     "data": {
      "application/vnd.jupyter.widget-view+json": {
       "model_id": "",
       "version_major": 2,
       "version_minor": 0
      },
      "text/plain": [
       "[1/15]   7%|6          [00:00<?]"
      ]
     },
     "metadata": {},
     "output_type": "display_data"
    },
    {
     "data": {
      "application/vnd.jupyter.widget-view+json": {
       "model_id": "",
       "version_major": 2,
       "version_minor": 0
      },
      "text/plain": [
       "[1/15]   7%|6          [00:00<?]"
      ]
     },
     "metadata": {},
     "output_type": "display_data"
    },
    {
     "data": {
      "application/vnd.jupyter.widget-view+json": {
       "model_id": "",
       "version_major": 2,
       "version_minor": 0
      },
      "text/plain": [
       "[1/15]   7%|6          [00:00<?]"
      ]
     },
     "metadata": {},
     "output_type": "display_data"
    },
    {
     "data": {
      "application/vnd.jupyter.widget-view+json": {
       "model_id": "",
       "version_major": 2,
       "version_minor": 0
      },
      "text/plain": [
       "[1/15]   7%|6          [00:00<?]"
      ]
     },
     "metadata": {},
     "output_type": "display_data"
    },
    {
     "data": {
      "application/vnd.jupyter.widget-view+json": {
       "model_id": "",
       "version_major": 2,
       "version_minor": 0
      },
      "text/plain": [
       "[1/15]   7%|6          [00:00<?]"
      ]
     },
     "metadata": {},
     "output_type": "display_data"
    },
    {
     "data": {
      "application/vnd.jupyter.widget-view+json": {
       "model_id": "",
       "version_major": 2,
       "version_minor": 0
      },
      "text/plain": [
       "[1/15]   7%|6          [00:00<?]"
      ]
     },
     "metadata": {},
     "output_type": "display_data"
    },
    {
     "data": {
      "application/vnd.jupyter.widget-view+json": {
       "model_id": "",
       "version_major": 2,
       "version_minor": 0
      },
      "text/plain": [
       "[1/15]   7%|6          [00:00<?]"
      ]
     },
     "metadata": {},
     "output_type": "display_data"
    },
    {
     "data": {
      "application/vnd.jupyter.widget-view+json": {
       "model_id": "",
       "version_major": 2,
       "version_minor": 0
      },
      "text/plain": [
       "[1/15]   7%|6          [00:00<?]"
      ]
     },
     "metadata": {},
     "output_type": "display_data"
    },
    {
     "data": {
      "application/vnd.jupyter.widget-view+json": {
       "model_id": "",
       "version_major": 2,
       "version_minor": 0
      },
      "text/plain": [
       "[1/15]   7%|6          [00:00<?]"
      ]
     },
     "metadata": {},
     "output_type": "display_data"
    },
    {
     "data": {
      "application/vnd.jupyter.widget-view+json": {
       "model_id": "",
       "version_major": 2,
       "version_minor": 0
      },
      "text/plain": [
       "[1/15]   7%|6          [00:00<?]"
      ]
     },
     "metadata": {},
     "output_type": "display_data"
    },
    {
     "data": {
      "application/vnd.jupyter.widget-view+json": {
       "model_id": "",
       "version_major": 2,
       "version_minor": 0
      },
      "text/plain": [
       "[1/15]   7%|6          [00:00<?]"
      ]
     },
     "metadata": {},
     "output_type": "display_data"
    },
    {
     "data": {
      "application/vnd.jupyter.widget-view+json": {
       "model_id": "",
       "version_major": 2,
       "version_minor": 0
      },
      "text/plain": [
       "[1/15]   7%|6          [00:00<?]"
      ]
     },
     "metadata": {},
     "output_type": "display_data"
    },
    {
     "data": {
      "application/vnd.jupyter.widget-view+json": {
       "model_id": "",
       "version_major": 2,
       "version_minor": 0
      },
      "text/plain": [
       "[1/15]   7%|6          [00:00<?]"
      ]
     },
     "metadata": {},
     "output_type": "display_data"
    },
    {
     "data": {
      "application/vnd.jupyter.widget-view+json": {
       "model_id": "",
       "version_major": 2,
       "version_minor": 0
      },
      "text/plain": [
       "[1/15]   7%|6          [00:00<?]"
      ]
     },
     "metadata": {},
     "output_type": "display_data"
    },
    {
     "data": {
      "application/vnd.jupyter.widget-view+json": {
       "model_id": "",
       "version_major": 2,
       "version_minor": 0
      },
      "text/plain": [
       "[1/15]   7%|6          [00:00<?]"
      ]
     },
     "metadata": {},
     "output_type": "display_data"
    },
    {
     "data": {
      "application/vnd.jupyter.widget-view+json": {
       "model_id": "",
       "version_major": 2,
       "version_minor": 0
      },
      "text/plain": [
       "[1/15]   7%|6          [00:00<?]"
      ]
     },
     "metadata": {},
     "output_type": "display_data"
    },
    {
     "data": {
      "application/vnd.jupyter.widget-view+json": {
       "model_id": "",
       "version_major": 2,
       "version_minor": 0
      },
      "text/plain": [
       "[1/15]   7%|6          [00:00<?]"
      ]
     },
     "metadata": {},
     "output_type": "display_data"
    },
    {
     "data": {
      "application/vnd.jupyter.widget-view+json": {
       "model_id": "",
       "version_major": 2,
       "version_minor": 0
      },
      "text/plain": [
       "[1/15]   7%|6          [00:00<?]"
      ]
     },
     "metadata": {},
     "output_type": "display_data"
    },
    {
     "data": {
      "application/vnd.jupyter.widget-view+json": {
       "model_id": "",
       "version_major": 2,
       "version_minor": 0
      },
      "text/plain": [
       "[1/15]   7%|6          [00:00<?]"
      ]
     },
     "metadata": {},
     "output_type": "display_data"
    },
    {
     "data": {
      "application/vnd.jupyter.widget-view+json": {
       "model_id": "",
       "version_major": 2,
       "version_minor": 0
      },
      "text/plain": [
       "[1/15]   7%|6          [00:00<?]"
      ]
     },
     "metadata": {},
     "output_type": "display_data"
    },
    {
     "data": {
      "application/vnd.jupyter.widget-view+json": {
       "model_id": "",
       "version_major": 2,
       "version_minor": 0
      },
      "text/plain": [
       "[1/15]   7%|6          [00:00<?]"
      ]
     },
     "metadata": {},
     "output_type": "display_data"
    },
    {
     "data": {
      "application/vnd.jupyter.widget-view+json": {
       "model_id": "",
       "version_major": 2,
       "version_minor": 0
      },
      "text/plain": [
       "[1/15]   7%|6          [00:00<?]"
      ]
     },
     "metadata": {},
     "output_type": "display_data"
    },
    {
     "data": {
      "application/vnd.jupyter.widget-view+json": {
       "model_id": "",
       "version_major": 2,
       "version_minor": 0
      },
      "text/plain": [
       "[1/15]   7%|6          [00:00<?]"
      ]
     },
     "metadata": {},
     "output_type": "display_data"
    },
    {
     "data": {
      "application/vnd.jupyter.widget-view+json": {
       "model_id": "",
       "version_major": 2,
       "version_minor": 0
      },
      "text/plain": [
       "[1/15]   7%|6          [00:00<?]"
      ]
     },
     "metadata": {},
     "output_type": "display_data"
    },
    {
     "data": {
      "application/vnd.jupyter.widget-view+json": {
       "model_id": "",
       "version_major": 2,
       "version_minor": 0
      },
      "text/plain": [
       "[1/15]   7%|6          [00:00<?]"
      ]
     },
     "metadata": {},
     "output_type": "display_data"
    },
    {
     "data": {
      "application/vnd.jupyter.widget-view+json": {
       "model_id": "",
       "version_major": 2,
       "version_minor": 0
      },
      "text/plain": [
       "[1/15]   7%|6          [00:00<?]"
      ]
     },
     "metadata": {},
     "output_type": "display_data"
    },
    {
     "data": {
      "application/vnd.jupyter.widget-view+json": {
       "model_id": "",
       "version_major": 2,
       "version_minor": 0
      },
      "text/plain": [
       "[1/15]   7%|6          [00:00<?]"
      ]
     },
     "metadata": {},
     "output_type": "display_data"
    },
    {
     "data": {
      "application/vnd.jupyter.widget-view+json": {
       "model_id": "",
       "version_major": 2,
       "version_minor": 0
      },
      "text/plain": [
       "[1/15]   7%|6          [00:00<?]"
      ]
     },
     "metadata": {},
     "output_type": "display_data"
    },
    {
     "data": {
      "application/vnd.jupyter.widget-view+json": {
       "model_id": "",
       "version_major": 2,
       "version_minor": 0
      },
      "text/plain": [
       "[1/15]   7%|6          [00:00<?]"
      ]
     },
     "metadata": {},
     "output_type": "display_data"
    },
    {
     "data": {
      "application/vnd.jupyter.widget-view+json": {
       "model_id": "",
       "version_major": 2,
       "version_minor": 0
      },
      "text/plain": [
       "[1/15]   7%|6          [00:00<?]"
      ]
     },
     "metadata": {},
     "output_type": "display_data"
    },
    {
     "data": {
      "application/vnd.jupyter.widget-view+json": {
       "model_id": "",
       "version_major": 2,
       "version_minor": 0
      },
      "text/plain": [
       "[1/15]   7%|6          [00:00<?]"
      ]
     },
     "metadata": {},
     "output_type": "display_data"
    },
    {
     "data": {
      "application/vnd.jupyter.widget-view+json": {
       "model_id": "",
       "version_major": 2,
       "version_minor": 0
      },
      "text/plain": [
       "[1/15]   7%|6          [00:00<?]"
      ]
     },
     "metadata": {},
     "output_type": "display_data"
    },
    {
     "data": {
      "application/vnd.jupyter.widget-view+json": {
       "model_id": "",
       "version_major": 2,
       "version_minor": 0
      },
      "text/plain": [
       "[1/15]   7%|6          [00:00<?]"
      ]
     },
     "metadata": {},
     "output_type": "display_data"
    },
    {
     "data": {
      "application/vnd.jupyter.widget-view+json": {
       "model_id": "",
       "version_major": 2,
       "version_minor": 0
      },
      "text/plain": [
       "[1/15]   7%|6          [00:00<?]"
      ]
     },
     "metadata": {},
     "output_type": "display_data"
    },
    {
     "data": {
      "application/vnd.jupyter.widget-view+json": {
       "model_id": "",
       "version_major": 2,
       "version_minor": 0
      },
      "text/plain": [
       "[1/15]   7%|6          [00:00<?]"
      ]
     },
     "metadata": {},
     "output_type": "display_data"
    },
    {
     "data": {
      "application/vnd.jupyter.widget-view+json": {
       "model_id": "48ef955e8e7943559ab54303f2467353",
       "version_major": 2,
       "version_minor": 0
      },
      "text/plain": [
       "[1/15]   7%|6          [00:00<?]"
      ]
     },
     "metadata": {},
     "output_type": "display_data"
    },
    {
     "data": {
      "application/vnd.jupyter.widget-view+json": {
       "model_id": "228d0f007ab34f2184a99ec01332ad8e",
       "version_major": 2,
       "version_minor": 0
      },
      "text/plain": [
       "[1/15]   7%|6          [00:00<?]"
      ]
     },
     "metadata": {},
     "output_type": "display_data"
    },
    {
     "data": {
      "application/vnd.jupyter.widget-view+json": {
       "model_id": "7d013a58e8be4bb7b9d21e1e97451dc9",
       "version_major": 2,
       "version_minor": 0
      },
      "text/plain": [
       "[1/15]   7%|6          [00:00<?]"
      ]
     },
     "metadata": {},
     "output_type": "display_data"
    },
    {
     "data": {
      "application/vnd.jupyter.widget-view+json": {
       "model_id": "d1b58c28ca064158964d7a448bbbe2cf",
       "version_major": 2,
       "version_minor": 0
      },
      "text/plain": [
       "[1/15]   7%|6          [00:00<?]"
      ]
     },
     "metadata": {},
     "output_type": "display_data"
    },
    {
     "data": {
      "application/vnd.jupyter.widget-view+json": {
       "model_id": "d9a1031c8c184daea9a055918337a10b",
       "version_major": 2,
       "version_minor": 0
      },
      "text/plain": [
       "[1/15]   7%|6          [00:00<?]"
      ]
     },
     "metadata": {},
     "output_type": "display_data"
    },
    {
     "data": {
      "application/vnd.jupyter.widget-view+json": {
       "model_id": "19e0b6ea71b840a3b4fc14e67c7e6c91",
       "version_major": 2,
       "version_minor": 0
      },
      "text/plain": [
       "[1/15]   7%|6          [00:00<?]"
      ]
     },
     "metadata": {},
     "output_type": "display_data"
    },
    {
     "data": {
      "application/vnd.jupyter.widget-view+json": {
       "model_id": "6cc5a66aa8f24f839bc3848d000cc6c4",
       "version_major": 2,
       "version_minor": 0
      },
      "text/plain": [
       "[1/15]   7%|6          [00:00<?]"
      ]
     },
     "metadata": {},
     "output_type": "display_data"
    },
    {
     "data": {
      "application/vnd.jupyter.widget-view+json": {
       "model_id": "0e7556f93f6a42f0b52d16e0bacc154c",
       "version_major": 2,
       "version_minor": 0
      },
      "text/plain": [
       "[1/15]   7%|6          [00:00<?]"
      ]
     },
     "metadata": {},
     "output_type": "display_data"
    },
    {
     "data": {
      "application/vnd.jupyter.widget-view+json": {
       "model_id": "02cd5a83726b45d98b31e325af64f4b5",
       "version_major": 2,
       "version_minor": 0
      },
      "text/plain": [
       "[1/15]   7%|6          [00:00<?]"
      ]
     },
     "metadata": {},
     "output_type": "display_data"
    },
    {
     "data": {
      "application/vnd.jupyter.widget-view+json": {
       "model_id": "df0c64138bae4908a3cf3f83658b1b1e",
       "version_major": 2,
       "version_minor": 0
      },
      "text/plain": [
       "[1/15]   7%|6          [00:00<?]"
      ]
     },
     "metadata": {},
     "output_type": "display_data"
    },
    {
     "data": {
      "application/vnd.jupyter.widget-view+json": {
       "model_id": "968956bb6c4b458aa2e7a92ae9ac8df6",
       "version_major": 2,
       "version_minor": 0
      },
      "text/plain": [
       "[1/15]   7%|6          [00:00<?]"
      ]
     },
     "metadata": {},
     "output_type": "display_data"
    },
    {
     "data": {
      "application/vnd.jupyter.widget-view+json": {
       "model_id": "a9b38c02f58b47ca8eebbd2bf9286c58",
       "version_major": 2,
       "version_minor": 0
      },
      "text/plain": [
       "[1/15]   7%|6          [00:00<?]"
      ]
     },
     "metadata": {},
     "output_type": "display_data"
    },
    {
     "data": {
      "application/vnd.jupyter.widget-view+json": {
       "model_id": "0091eb2dd9704e65939e1a48e465ce07",
       "version_major": 2,
       "version_minor": 0
      },
      "text/plain": [
       "[1/15]   7%|6          [00:00<?]"
      ]
     },
     "metadata": {},
     "output_type": "display_data"
    },
    {
     "data": {
      "application/vnd.jupyter.widget-view+json": {
       "model_id": "0e3d353b3c814c959d037cb76aeadb82",
       "version_major": 2,
       "version_minor": 0
      },
      "text/plain": [
       "[1/15]   7%|6          [00:00<?]"
      ]
     },
     "metadata": {},
     "output_type": "display_data"
    },
    {
     "data": {
      "application/vnd.jupyter.widget-view+json": {
       "model_id": "92fd875b1ad7492baeb6683f056d63f2",
       "version_major": 2,
       "version_minor": 0
      },
      "text/plain": [
       "[1/15]   7%|6          [00:00<?]"
      ]
     },
     "metadata": {},
     "output_type": "display_data"
    },
    {
     "data": {
      "application/vnd.jupyter.widget-view+json": {
       "model_id": "a0abf2b3f96f4004ac383b6d7a0a8ae4",
       "version_major": 2,
       "version_minor": 0
      },
      "text/plain": [
       "[1/15]   7%|6          [00:00<?]"
      ]
     },
     "metadata": {},
     "output_type": "display_data"
    },
    {
     "data": {
      "application/vnd.jupyter.widget-view+json": {
       "model_id": "a1b8e5cc2400422b8bf5c15ed2f9ddaa",
       "version_major": 2,
       "version_minor": 0
      },
      "text/plain": [
       "[1/15]   7%|6          [00:00<?]"
      ]
     },
     "metadata": {},
     "output_type": "display_data"
    },
    {
     "data": {
      "application/vnd.jupyter.widget-view+json": {
       "model_id": "0830a167eacd4e619f8681f6c4bef2bb",
       "version_major": 2,
       "version_minor": 0
      },
      "text/plain": [
       "[1/15]   7%|6          [00:00<?]"
      ]
     },
     "metadata": {},
     "output_type": "display_data"
    },
    {
     "data": {
      "application/vnd.jupyter.widget-view+json": {
       "model_id": "2be3356c55c848d696e9018b482e7847",
       "version_major": 2,
       "version_minor": 0
      },
      "text/plain": [
       "[1/15]   7%|6          [00:00<?]"
      ]
     },
     "metadata": {},
     "output_type": "display_data"
    },
    {
     "data": {
      "application/vnd.jupyter.widget-view+json": {
       "model_id": "c017877975da439aa0960ef196199733",
       "version_major": 2,
       "version_minor": 0
      },
      "text/plain": [
       "[1/15]   7%|6          [00:00<?]"
      ]
     },
     "metadata": {},
     "output_type": "display_data"
    },
    {
     "data": {
      "application/vnd.jupyter.widget-view+json": {
       "model_id": "81006f68a96944458413d9360b1ac2c5",
       "version_major": 2,
       "version_minor": 0
      },
      "text/plain": [
       "[1/15]   7%|6          [00:00<?]"
      ]
     },
     "metadata": {},
     "output_type": "display_data"
    },
    {
     "data": {
      "application/vnd.jupyter.widget-view+json": {
       "model_id": "6f5062fa538c4e6c8630dc0caa20176f",
       "version_major": 2,
       "version_minor": 0
      },
      "text/plain": [
       "[1/15]   7%|6          [00:00<?]"
      ]
     },
     "metadata": {},
     "output_type": "display_data"
    },
    {
     "data": {
      "application/vnd.jupyter.widget-view+json": {
       "model_id": "bb6baa0e37654da2b71ed80f0d644843",
       "version_major": 2,
       "version_minor": 0
      },
      "text/plain": [
       "[1/15]   7%|6          [00:00<?]"
      ]
     },
     "metadata": {},
     "output_type": "display_data"
    },
    {
     "data": {
      "application/vnd.jupyter.widget-view+json": {
       "model_id": "bbb10e7ffc3a4a0680ddb20dfbfefa49",
       "version_major": 2,
       "version_minor": 0
      },
      "text/plain": [
       "[1/15]   7%|6          [00:00<?]"
      ]
     },
     "metadata": {},
     "output_type": "display_data"
    },
    {
     "data": {
      "application/vnd.jupyter.widget-view+json": {
       "model_id": "bfb2b76b51674809a7b1f6357a910a9a",
       "version_major": 2,
       "version_minor": 0
      },
      "text/plain": [
       "[1/15]   7%|6          [00:00<?]"
      ]
     },
     "metadata": {},
     "output_type": "display_data"
    },
    {
     "data": {
      "application/vnd.jupyter.widget-view+json": {
       "model_id": "14c623d1fbf5440b80701963ce79e304",
       "version_major": 2,
       "version_minor": 0
      },
      "text/plain": [
       "[1/15]   7%|6          [00:00<?]"
      ]
     },
     "metadata": {},
     "output_type": "display_data"
    },
    {
     "data": {
      "application/vnd.jupyter.widget-view+json": {
       "model_id": "be5ba0aed77744499f2e2850c0788d96",
       "version_major": 2,
       "version_minor": 0
      },
      "text/plain": [
       "[1/15]   7%|6          [00:00<?]"
      ]
     },
     "metadata": {},
     "output_type": "display_data"
    },
    {
     "data": {
      "application/vnd.jupyter.widget-view+json": {
       "model_id": "b0f802fbc33e4701b603202538fb78ae",
       "version_major": 2,
       "version_minor": 0
      },
      "text/plain": [
       "[1/15]   7%|6          [00:00<?]"
      ]
     },
     "metadata": {},
     "output_type": "display_data"
    },
    {
     "data": {
      "application/vnd.jupyter.widget-view+json": {
       "model_id": "13c54353032b46b7834aee833bfdb7df",
       "version_major": 2,
       "version_minor": 0
      },
      "text/plain": [
       "[1/15]   7%|6          [00:00<?]"
      ]
     },
     "metadata": {},
     "output_type": "display_data"
    },
    {
     "data": {
      "application/vnd.jupyter.widget-view+json": {
       "model_id": "5c8b3c3845c74386ac78a58ea46da58e",
       "version_major": 2,
       "version_minor": 0
      },
      "text/plain": [
       "[1/15]   7%|6          [00:00<?]"
      ]
     },
     "metadata": {},
     "output_type": "display_data"
    },
    {
     "data": {
      "application/vnd.jupyter.widget-view+json": {
       "model_id": "3fc7fe4422044c9ebf88b1293a45ee93",
       "version_major": 2,
       "version_minor": 0
      },
      "text/plain": [
       "[1/15]   7%|6          [00:00<?]"
      ]
     },
     "metadata": {},
     "output_type": "display_data"
    },
    {
     "data": {
      "application/vnd.jupyter.widget-view+json": {
       "model_id": "b2716f090dc84828835263283801f932",
       "version_major": 2,
       "version_minor": 0
      },
      "text/plain": [
       "[1/15]   7%|6          [00:00<?]"
      ]
     },
     "metadata": {},
     "output_type": "display_data"
    },
    {
     "data": {
      "application/vnd.jupyter.widget-view+json": {
       "model_id": "c7ccea3416e54c87a41edea4e25db39b",
       "version_major": 2,
       "version_minor": 0
      },
      "text/plain": [
       "[1/15]   7%|6          [00:00<?]"
      ]
     },
     "metadata": {},
     "output_type": "display_data"
    },
    {
     "data": {
      "application/vnd.jupyter.widget-view+json": {
       "model_id": "6c62529f017942428c01fed88c951e0e",
       "version_major": 2,
       "version_minor": 0
      },
      "text/plain": [
       "[1/15]   7%|6          [00:00<?]"
      ]
     },
     "metadata": {},
     "output_type": "display_data"
    },
    {
     "data": {
      "application/vnd.jupyter.widget-view+json": {
       "model_id": "9a0c0599c38941b29682d92d4ae1244d",
       "version_major": 2,
       "version_minor": 0
      },
      "text/plain": [
       "[1/15]   7%|6          [00:00<?]"
      ]
     },
     "metadata": {},
     "output_type": "display_data"
    },
    {
     "data": {
      "application/vnd.jupyter.widget-view+json": {
       "model_id": "ff99a78c2060409f8b7aa4f098c9eb14",
       "version_major": 2,
       "version_minor": 0
      },
      "text/plain": [
       "[1/15]   7%|6          [00:00<?]"
      ]
     },
     "metadata": {},
     "output_type": "display_data"
    },
    {
     "data": {
      "application/vnd.jupyter.widget-view+json": {
       "model_id": "5ab4ddd4d9984a1aa282443907668909",
       "version_major": 2,
       "version_minor": 0
      },
      "text/plain": [
       "[1/15]   7%|6          [00:00<?]"
      ]
     },
     "metadata": {},
     "output_type": "display_data"
    },
    {
     "data": {
      "application/vnd.jupyter.widget-view+json": {
       "model_id": "eec00d0429a24e1abcb2ad91a1f3a3a7",
       "version_major": 2,
       "version_minor": 0
      },
      "text/plain": [
       "[1/15]   7%|6          [00:00<?]"
      ]
     },
     "metadata": {},
     "output_type": "display_data"
    },
    {
     "data": {
      "application/vnd.jupyter.widget-view+json": {
       "model_id": "a21f6d7f9fbc405eae2410630fdd30a6",
       "version_major": 2,
       "version_minor": 0
      },
      "text/plain": [
       "[1/15]   7%|6          [00:00<?]"
      ]
     },
     "metadata": {},
     "output_type": "display_data"
    },
    {
     "data": {
      "application/vnd.jupyter.widget-view+json": {
       "model_id": "02021d634f9643d78821726778e3dd4a",
       "version_major": 2,
       "version_minor": 0
      },
      "text/plain": [
       "[1/15]   7%|6          [00:00<?]"
      ]
     },
     "metadata": {},
     "output_type": "display_data"
    },
    {
     "data": {
      "application/vnd.jupyter.widget-view+json": {
       "model_id": "b862dd1815334a6690abf926f6fd9a3b",
       "version_major": 2,
       "version_minor": 0
      },
      "text/plain": [
       "[1/15]   7%|6          [00:00<?]"
      ]
     },
     "metadata": {},
     "output_type": "display_data"
    },
    {
     "data": {
      "application/vnd.jupyter.widget-view+json": {
       "model_id": "ef4dc66c952643fa819cecde55abac00",
       "version_major": 2,
       "version_minor": 0
      },
      "text/plain": [
       "[1/15]   7%|6          [00:00<?]"
      ]
     },
     "metadata": {},
     "output_type": "display_data"
    },
    {
     "data": {
      "application/vnd.jupyter.widget-view+json": {
       "model_id": "b5806a1f809a4f3397fb7512bbded210",
       "version_major": 2,
       "version_minor": 0
      },
      "text/plain": [
       "[1/15]   7%|6          [00:00<?]"
      ]
     },
     "metadata": {},
     "output_type": "display_data"
    },
    {
     "data": {
      "application/vnd.jupyter.widget-view+json": {
       "model_id": "90da975fd48442498847b9bc8341365f",
       "version_major": 2,
       "version_minor": 0
      },
      "text/plain": [
       "[1/15]   7%|6          [00:00<?]"
      ]
     },
     "metadata": {},
     "output_type": "display_data"
    },
    {
     "data": {
      "application/vnd.jupyter.widget-view+json": {
       "model_id": "fd0baaa2955141a08f9e06baa0a5a962",
       "version_major": 2,
       "version_minor": 0
      },
      "text/plain": [
       "[1/15]   7%|6          [00:00<?]"
      ]
     },
     "metadata": {},
     "output_type": "display_data"
    },
    {
     "data": {
      "application/vnd.jupyter.widget-view+json": {
       "model_id": "759f8efad51f42a1afca23dd7fddeaa4",
       "version_major": 2,
       "version_minor": 0
      },
      "text/plain": [
       "[1/15]   7%|6          [00:00<?]"
      ]
     },
     "metadata": {},
     "output_type": "display_data"
    },
    {
     "data": {
      "application/vnd.jupyter.widget-view+json": {
       "model_id": "0293582f1c644f759bd868035c5b77e2",
       "version_major": 2,
       "version_minor": 0
      },
      "text/plain": [
       "[1/15]   7%|6          [00:00<?]"
      ]
     },
     "metadata": {},
     "output_type": "display_data"
    },
    {
     "data": {
      "application/vnd.jupyter.widget-view+json": {
       "model_id": "f1256569284544dbaa49abf12f1a5774",
       "version_major": 2,
       "version_minor": 0
      },
      "text/plain": [
       "[1/15]   7%|6          [00:00<?]"
      ]
     },
     "metadata": {},
     "output_type": "display_data"
    },
    {
     "data": {
      "application/vnd.jupyter.widget-view+json": {
       "model_id": "ef1184fbd16c47a597fd7d7d08ba24c7",
       "version_major": 2,
       "version_minor": 0
      },
      "text/plain": [
       "[1/15]   7%|6          [00:00<?]"
      ]
     },
     "metadata": {},
     "output_type": "display_data"
    },
    {
     "data": {
      "application/vnd.jupyter.widget-view+json": {
       "model_id": "91129b7f557143cfae20986b1bbcf405",
       "version_major": 2,
       "version_minor": 0
      },
      "text/plain": [
       "[1/15]   7%|6          [00:00<?]"
      ]
     },
     "metadata": {},
     "output_type": "display_data"
    },
    {
     "data": {
      "application/vnd.jupyter.widget-view+json": {
       "model_id": "5d9ea1dd4bf845339599a03a2569b41a",
       "version_major": 2,
       "version_minor": 0
      },
      "text/plain": [
       "[1/15]   7%|6          [00:00<?]"
      ]
     },
     "metadata": {},
     "output_type": "display_data"
    },
    {
     "data": {
      "application/vnd.jupyter.widget-view+json": {
       "model_id": "a19aac7e167045afa50f2691c3f6ba8c",
       "version_major": 2,
       "version_minor": 0
      },
      "text/plain": [
       "[1/15]   7%|6          [00:00<?]"
      ]
     },
     "metadata": {},
     "output_type": "display_data"
    },
    {
     "data": {
      "application/vnd.jupyter.widget-view+json": {
       "model_id": "cfa4ff34ac5e4c449805ba7f8ac2341f",
       "version_major": 2,
       "version_minor": 0
      },
      "text/plain": [
       "[1/15]   7%|6          [00:00<?]"
      ]
     },
     "metadata": {},
     "output_type": "display_data"
    },
    {
     "data": {
      "application/vnd.jupyter.widget-view+json": {
       "model_id": "74ff79cea1274f80a3dbdf74d54f234d",
       "version_major": 2,
       "version_minor": 0
      },
      "text/plain": [
       "[1/15]   7%|6          [00:00<?]"
      ]
     },
     "metadata": {},
     "output_type": "display_data"
    },
    {
     "data": {
      "application/vnd.jupyter.widget-view+json": {
       "model_id": "23946543b6e04f5abc268a3ffd6b1501",
       "version_major": 2,
       "version_minor": 0
      },
      "text/plain": [
       "[1/15]   7%|6          [00:00<?]"
      ]
     },
     "metadata": {},
     "output_type": "display_data"
    },
    {
     "data": {
      "application/vnd.jupyter.widget-view+json": {
       "model_id": "6fe1eb3071b74b5a91816b718bad99fb",
       "version_major": 2,
       "version_minor": 0
      },
      "text/plain": [
       "[1/15]   7%|6          [00:00<?]"
      ]
     },
     "metadata": {},
     "output_type": "display_data"
    },
    {
     "data": {
      "application/vnd.jupyter.widget-view+json": {
       "model_id": "38e24c29c60c45c2b7e6956b17ad5df8",
       "version_major": 2,
       "version_minor": 0
      },
      "text/plain": [
       "[1/15]   7%|6          [00:00<?]"
      ]
     },
     "metadata": {},
     "output_type": "display_data"
    },
    {
     "data": {
      "application/vnd.jupyter.widget-view+json": {
       "model_id": "4f48156940dd43e68e8308b5c75c4d94",
       "version_major": 2,
       "version_minor": 0
      },
      "text/plain": [
       "[1/15]   7%|6          [00:00<?]"
      ]
     },
     "metadata": {},
     "output_type": "display_data"
    },
    {
     "data": {
      "application/vnd.jupyter.widget-view+json": {
       "model_id": "385644c047744903a547f03c21328d6d",
       "version_major": 2,
       "version_minor": 0
      },
      "text/plain": [
       "[1/15]   7%|6          [00:00<?]"
      ]
     },
     "metadata": {},
     "output_type": "display_data"
    },
    {
     "data": {
      "application/vnd.jupyter.widget-view+json": {
       "model_id": "ad628c5fa2ba40b6b8b6df954ece2122",
       "version_major": 2,
       "version_minor": 0
      },
      "text/plain": [
       "[1/15]   7%|6          [00:00<?]"
      ]
     },
     "metadata": {},
     "output_type": "display_data"
    },
    {
     "data": {
      "application/vnd.jupyter.widget-view+json": {
       "model_id": "81fec65f8f1e4999a12794c48eccbfbc",
       "version_major": 2,
       "version_minor": 0
      },
      "text/plain": [
       "[1/15]   7%|6          [00:00<?]"
      ]
     },
     "metadata": {},
     "output_type": "display_data"
    },
    {
     "data": {
      "application/vnd.jupyter.widget-view+json": {
       "model_id": "e36cad3e011248e5887cdbeccde771a1",
       "version_major": 2,
       "version_minor": 0
      },
      "text/plain": [
       "[1/15]   7%|6          [00:00<?]"
      ]
     },
     "metadata": {},
     "output_type": "display_data"
    },
    {
     "data": {
      "application/vnd.jupyter.widget-view+json": {
       "model_id": "569591ed2dbf4acb9abb9d9be9e4737d",
       "version_major": 2,
       "version_minor": 0
      },
      "text/plain": [
       "[1/15]   7%|6          [00:00<?]"
      ]
     },
     "metadata": {},
     "output_type": "display_data"
    },
    {
     "data": {
      "application/vnd.jupyter.widget-view+json": {
       "model_id": "35d3e056c11e4759a342336f7e203aa9",
       "version_major": 2,
       "version_minor": 0
      },
      "text/plain": [
       "[1/15]   7%|6          [00:00<?]"
      ]
     },
     "metadata": {},
     "output_type": "display_data"
    },
    {
     "data": {
      "application/vnd.jupyter.widget-view+json": {
       "model_id": "cb0c7cb024b4467da6a8ef85b35b3cc9",
       "version_major": 2,
       "version_minor": 0
      },
      "text/plain": [
       "[1/15]   7%|6          [00:00<?]"
      ]
     },
     "metadata": {},
     "output_type": "display_data"
    },
    {
     "data": {
      "application/vnd.jupyter.widget-view+json": {
       "model_id": "b542684b783041c7a513d70af6c00958",
       "version_major": 2,
       "version_minor": 0
      },
      "text/plain": [
       "[1/15]   7%|6          [00:00<?]"
      ]
     },
     "metadata": {},
     "output_type": "display_data"
    },
    {
     "data": {
      "application/vnd.jupyter.widget-view+json": {
       "model_id": "0bae7f6d20eb48938ad8450074c58b5a",
       "version_major": 2,
       "version_minor": 0
      },
      "text/plain": [
       "[1/15]   7%|6          [00:00<?]"
      ]
     },
     "metadata": {},
     "output_type": "display_data"
    },
    {
     "data": {
      "application/vnd.jupyter.widget-view+json": {
       "model_id": "864782dfbb3c4b75865bcdd3ef1a997f",
       "version_major": 2,
       "version_minor": 0
      },
      "text/plain": [
       "[1/15]   7%|6          [00:00<?]"
      ]
     },
     "metadata": {},
     "output_type": "display_data"
    },
    {
     "data": {
      "application/vnd.jupyter.widget-view+json": {
       "model_id": "b01403edb686454cae711f9a60672e3c",
       "version_major": 2,
       "version_minor": 0
      },
      "text/plain": [
       "[1/15]   7%|6          [00:00<?]"
      ]
     },
     "metadata": {},
     "output_type": "display_data"
    },
    {
     "data": {
      "application/vnd.jupyter.widget-view+json": {
       "model_id": "6b3f3c0a94e54806ae49a4053142c5b4",
       "version_major": 2,
       "version_minor": 0
      },
      "text/plain": [
       "[1/15]   7%|6          [00:00<?]"
      ]
     },
     "metadata": {},
     "output_type": "display_data"
    },
    {
     "data": {
      "application/vnd.jupyter.widget-view+json": {
       "model_id": "57911efc86694367829328163198c0e2",
       "version_major": 2,
       "version_minor": 0
      },
      "text/plain": [
       "[1/15]   7%|6          [00:00<?]"
      ]
     },
     "metadata": {},
     "output_type": "display_data"
    },
    {
     "data": {
      "application/vnd.jupyter.widget-view+json": {
       "model_id": "4ae3f5e3537a42339074c109c1e68f21",
       "version_major": 2,
       "version_minor": 0
      },
      "text/plain": [
       "[1/15]   7%|6          [00:00<?]"
      ]
     },
     "metadata": {},
     "output_type": "display_data"
    },
    {
     "data": {
      "application/vnd.jupyter.widget-view+json": {
       "model_id": "f03e2a05d270433992a25b6b755b72b9",
       "version_major": 2,
       "version_minor": 0
      },
      "text/plain": [
       "[1/15]   7%|6          [00:00<?]"
      ]
     },
     "metadata": {},
     "output_type": "display_data"
    },
    {
     "data": {
      "application/vnd.jupyter.widget-view+json": {
       "model_id": "2c456496eff8475995bd9e6ee33a9b2f",
       "version_major": 2,
       "version_minor": 0
      },
      "text/plain": [
       "[1/15]   7%|6          [00:00<?]"
      ]
     },
     "metadata": {},
     "output_type": "display_data"
    },
    {
     "data": {
      "application/vnd.jupyter.widget-view+json": {
       "model_id": "b9c01d1bfbca421fb370fdaf77b5d8d6",
       "version_major": 2,
       "version_minor": 0
      },
      "text/plain": [
       "[1/15]   7%|6          [00:00<?]"
      ]
     },
     "metadata": {},
     "output_type": "display_data"
    },
    {
     "data": {
      "application/vnd.jupyter.widget-view+json": {
       "model_id": "7a57943537f64b6f9fce43006d2cbabe",
       "version_major": 2,
       "version_minor": 0
      },
      "text/plain": [
       "[1/15]   7%|6          [00:00<?]"
      ]
     },
     "metadata": {},
     "output_type": "display_data"
    },
    {
     "data": {
      "application/vnd.jupyter.widget-view+json": {
       "model_id": "3d3bb8e09e1544cd8141e32d45804256",
       "version_major": 2,
       "version_minor": 0
      },
      "text/plain": [
       "[1/15]   7%|6          [00:00<?]"
      ]
     },
     "metadata": {},
     "output_type": "display_data"
    },
    {
     "data": {
      "application/vnd.jupyter.widget-view+json": {
       "model_id": "0eb06dc8b42742659b1d0706d3b83538",
       "version_major": 2,
       "version_minor": 0
      },
      "text/plain": [
       "[1/15]   7%|6          [00:00<?]"
      ]
     },
     "metadata": {},
     "output_type": "display_data"
    },
    {
     "data": {
      "application/vnd.jupyter.widget-view+json": {
       "model_id": "4ea1174c6f9344b0903df5ebfe8f9ed8",
       "version_major": 2,
       "version_minor": 0
      },
      "text/plain": [
       "[1/15]   7%|6          [00:00<?]"
      ]
     },
     "metadata": {},
     "output_type": "display_data"
    },
    {
     "data": {
      "application/vnd.jupyter.widget-view+json": {
       "model_id": "9a548c1da38e4357871218fb5b471386",
       "version_major": 2,
       "version_minor": 0
      },
      "text/plain": [
       "[1/15]   7%|6          [00:00<?]"
      ]
     },
     "metadata": {},
     "output_type": "display_data"
    },
    {
     "data": {
      "application/vnd.jupyter.widget-view+json": {
       "model_id": "b4c39fa72cd44cc8b72652e7f74d174c",
       "version_major": 2,
       "version_minor": 0
      },
      "text/plain": [
       "[1/15]   7%|6          [00:00<?]"
      ]
     },
     "metadata": {},
     "output_type": "display_data"
    },
    {
     "data": {
      "application/vnd.jupyter.widget-view+json": {
       "model_id": "585fddd1259248659a0ccd3d2eac5507",
       "version_major": 2,
       "version_minor": 0
      },
      "text/plain": [
       "[1/15]   7%|6          [00:00<?]"
      ]
     },
     "metadata": {},
     "output_type": "display_data"
    },
    {
     "data": {
      "application/vnd.jupyter.widget-view+json": {
       "model_id": "a84e0a1c2882444e84b13bdd9d3e71b9",
       "version_major": 2,
       "version_minor": 0
      },
      "text/plain": [
       "[1/15]   7%|6          [00:00<?]"
      ]
     },
     "metadata": {},
     "output_type": "display_data"
    },
    {
     "data": {
      "application/vnd.jupyter.widget-view+json": {
       "model_id": "d96132f47bc649b58bc153f4469442bc",
       "version_major": 2,
       "version_minor": 0
      },
      "text/plain": [
       "[1/15]   7%|6          [00:00<?]"
      ]
     },
     "metadata": {},
     "output_type": "display_data"
    },
    {
     "data": {
      "application/vnd.jupyter.widget-view+json": {
       "model_id": "195e0e83fcaa4030aebdf27b543bb78b",
       "version_major": 2,
       "version_minor": 0
      },
      "text/plain": [
       "[1/15]   7%|6          [00:00<?]"
      ]
     },
     "metadata": {},
     "output_type": "display_data"
    },
    {
     "data": {
      "application/vnd.jupyter.widget-view+json": {
       "model_id": "98311dca0154436c98ff9731bc53df57",
       "version_major": 2,
       "version_minor": 0
      },
      "text/plain": [
       "[1/15]   7%|6          [00:00<?]"
      ]
     },
     "metadata": {},
     "output_type": "display_data"
    },
    {
     "data": {
      "application/vnd.jupyter.widget-view+json": {
       "model_id": "d3eaa6d3c20e4fb7a0db1d3a6652bf5d",
       "version_major": 2,
       "version_minor": 0
      },
      "text/plain": [
       "[1/15]   7%|6          [00:00<?]"
      ]
     },
     "metadata": {},
     "output_type": "display_data"
    },
    {
     "data": {
      "application/vnd.jupyter.widget-view+json": {
       "model_id": "ddfc25a7160845f99acf3a41ce834d57",
       "version_major": 2,
       "version_minor": 0
      },
      "text/plain": [
       "[1/15]   7%|6          [00:00<?]"
      ]
     },
     "metadata": {},
     "output_type": "display_data"
    },
    {
     "data": {
      "application/vnd.jupyter.widget-view+json": {
       "model_id": "e80c8003b9c344af8aeda4c46397cb6b",
       "version_major": 2,
       "version_minor": 0
      },
      "text/plain": [
       "[1/15]   7%|6          [00:00<?]"
      ]
     },
     "metadata": {},
     "output_type": "display_data"
    },
    {
     "data": {
      "application/vnd.jupyter.widget-view+json": {
       "model_id": "399697693ffd431691a73fba122e19c4",
       "version_major": 2,
       "version_minor": 0
      },
      "text/plain": [
       "[1/15]   7%|6          [00:00<?]"
      ]
     },
     "metadata": {},
     "output_type": "display_data"
    },
    {
     "data": {
      "application/vnd.jupyter.widget-view+json": {
       "model_id": "f383918ac02d43c7bec8b5440750032a",
       "version_major": 2,
       "version_minor": 0
      },
      "text/plain": [
       "[1/15]   7%|6          [00:00<?]"
      ]
     },
     "metadata": {},
     "output_type": "display_data"
    },
    {
     "data": {
      "application/vnd.jupyter.widget-view+json": {
       "model_id": "1fa55eb55d3d4f57bc1bc50143396d3f",
       "version_major": 2,
       "version_minor": 0
      },
      "text/plain": [
       "[1/15]   7%|6          [00:00<?]"
      ]
     },
     "metadata": {},
     "output_type": "display_data"
    },
    {
     "data": {
      "application/vnd.jupyter.widget-view+json": {
       "model_id": "1c4c4facacdf4c07974aae63707ab5ec",
       "version_major": 2,
       "version_minor": 0
      },
      "text/plain": [
       "[1/15]   7%|6          [00:00<?]"
      ]
     },
     "metadata": {},
     "output_type": "display_data"
    },
    {
     "data": {
      "application/vnd.jupyter.widget-view+json": {
       "model_id": "e5070815c6c442e2a14ca30b455e46fc",
       "version_major": 2,
       "version_minor": 0
      },
      "text/plain": [
       "[1/15]   7%|6          [00:00<?]"
      ]
     },
     "metadata": {},
     "output_type": "display_data"
    },
    {
     "data": {
      "application/vnd.jupyter.widget-view+json": {
       "model_id": "f693e9347a8e4dfda194b8c0eecc9480",
       "version_major": 2,
       "version_minor": 0
      },
      "text/plain": [
       "[1/15]   7%|6          [00:00<?]"
      ]
     },
     "metadata": {},
     "output_type": "display_data"
    },
    {
     "data": {
      "application/vnd.jupyter.widget-view+json": {
       "model_id": "a631ae98192b40e7a4b0b615e13e423e",
       "version_major": 2,
       "version_minor": 0
      },
      "text/plain": [
       "[1/15]   7%|6          [00:00<?]"
      ]
     },
     "metadata": {},
     "output_type": "display_data"
    },
    {
     "data": {
      "application/vnd.jupyter.widget-view+json": {
       "model_id": "f58e3a3a7ab84cb081c41c2fd7bb03ba",
       "version_major": 2,
       "version_minor": 0
      },
      "text/plain": [
       "[1/15]   7%|6          [00:00<?]"
      ]
     },
     "metadata": {},
     "output_type": "display_data"
    },
    {
     "data": {
      "application/vnd.jupyter.widget-view+json": {
       "model_id": "98fc527e444d48149cbd26ead6f1dec1",
       "version_major": 2,
       "version_minor": 0
      },
      "text/plain": [
       "[1/15]   7%|6          [00:00<?]"
      ]
     },
     "metadata": {},
     "output_type": "display_data"
    },
    {
     "data": {
      "application/vnd.jupyter.widget-view+json": {
       "model_id": "9b9c08385ea74aa9a0612814e357ce9c",
       "version_major": 2,
       "version_minor": 0
      },
      "text/plain": [
       "[1/15]   7%|6          [00:00<?]"
      ]
     },
     "metadata": {},
     "output_type": "display_data"
    },
    {
     "data": {
      "application/vnd.jupyter.widget-view+json": {
       "model_id": "c4c872557be34090bb8a8d776b9fcfa7",
       "version_major": 2,
       "version_minor": 0
      },
      "text/plain": [
       "[1/15]   7%|6          [00:00<?]"
      ]
     },
     "metadata": {},
     "output_type": "display_data"
    },
    {
     "data": {
      "application/vnd.jupyter.widget-view+json": {
       "model_id": "14d783174d4043d88c8571563ce8db66",
       "version_major": 2,
       "version_minor": 0
      },
      "text/plain": [
       "[1/15]   7%|6          [00:00<?]"
      ]
     },
     "metadata": {},
     "output_type": "display_data"
    },
    {
     "data": {
      "application/vnd.jupyter.widget-view+json": {
       "model_id": "8ef0cf45400144ae91498b6df9ba7fc4",
       "version_major": 2,
       "version_minor": 0
      },
      "text/plain": [
       "[1/15]   7%|6          [00:00<?]"
      ]
     },
     "metadata": {},
     "output_type": "display_data"
    },
    {
     "data": {
      "application/vnd.jupyter.widget-view+json": {
       "model_id": "cab992ce9fbe421d8592926b77b92775",
       "version_major": 2,
       "version_minor": 0
      },
      "text/plain": [
       "[1/15]   7%|6          [00:00<?]"
      ]
     },
     "metadata": {},
     "output_type": "display_data"
    },
    {
     "data": {
      "application/vnd.jupyter.widget-view+json": {
       "model_id": "60aa251f8c1a44b09e6dafac72eef524",
       "version_major": 2,
       "version_minor": 0
      },
      "text/plain": [
       "[1/15]   7%|6          [00:00<?]"
      ]
     },
     "metadata": {},
     "output_type": "display_data"
    },
    {
     "data": {
      "application/vnd.jupyter.widget-view+json": {
       "model_id": "a96938159dfa45e6977bc27a47c84c15",
       "version_major": 2,
       "version_minor": 0
      },
      "text/plain": [
       "[1/15]   7%|6          [00:00<?]"
      ]
     },
     "metadata": {},
     "output_type": "display_data"
    },
    {
     "data": {
      "application/vnd.jupyter.widget-view+json": {
       "model_id": "d6cc8c07bc1042feb0a63263472d562a",
       "version_major": 2,
       "version_minor": 0
      },
      "text/plain": [
       "[1/15]   7%|6          [00:00<?]"
      ]
     },
     "metadata": {},
     "output_type": "display_data"
    },
    {
     "data": {
      "application/vnd.jupyter.widget-view+json": {
       "model_id": "cca584637bc242799530f68e42d9ad98",
       "version_major": 2,
       "version_minor": 0
      },
      "text/plain": [
       "[1/15]   7%|6          [00:00<?]"
      ]
     },
     "metadata": {},
     "output_type": "display_data"
    },
    {
     "data": {
      "application/vnd.jupyter.widget-view+json": {
       "model_id": "38cab9644a31452ab60fcc8de6f533d5",
       "version_major": 2,
       "version_minor": 0
      },
      "text/plain": [
       "[1/15]   7%|6          [00:00<?]"
      ]
     },
     "metadata": {},
     "output_type": "display_data"
    },
    {
     "data": {
      "application/vnd.jupyter.widget-view+json": {
       "model_id": "609091447b054285b560420eaab67fa7",
       "version_major": 2,
       "version_minor": 0
      },
      "text/plain": [
       "[1/15]   7%|6          [00:00<?]"
      ]
     },
     "metadata": {},
     "output_type": "display_data"
    },
    {
     "data": {
      "application/vnd.jupyter.widget-view+json": {
       "model_id": "574dc48dcb90406f8ac6df85b6b92d60",
       "version_major": 2,
       "version_minor": 0
      },
      "text/plain": [
       "[1/15]   7%|6          [00:00<?]"
      ]
     },
     "metadata": {},
     "output_type": "display_data"
    },
    {
     "data": {
      "application/vnd.jupyter.widget-view+json": {
       "model_id": "b0f0f00cbad948dfb2a05ea2020d004f",
       "version_major": 2,
       "version_minor": 0
      },
      "text/plain": [
       "[1/15]   7%|6          [00:00<?]"
      ]
     },
     "metadata": {},
     "output_type": "display_data"
    },
    {
     "data": {
      "application/vnd.jupyter.widget-view+json": {
       "model_id": "2f20ef80305e4571a8ecaee531933471",
       "version_major": 2,
       "version_minor": 0
      },
      "text/plain": [
       "[1/15]   7%|6          [00:00<?]"
      ]
     },
     "metadata": {},
     "output_type": "display_data"
    },
    {
     "data": {
      "application/vnd.jupyter.widget-view+json": {
       "model_id": "d5be5597649e4d39bf84e19ffa3bf0d1",
       "version_major": 2,
       "version_minor": 0
      },
      "text/plain": [
       "[1/15]   7%|6          [00:00<?]"
      ]
     },
     "metadata": {},
     "output_type": "display_data"
    },
    {
     "data": {
      "application/vnd.jupyter.widget-view+json": {
       "model_id": "5e73a01ca2e444c98dfe869989c2f234",
       "version_major": 2,
       "version_minor": 0
      },
      "text/plain": [
       "[1/15]   7%|6          [00:00<?]"
      ]
     },
     "metadata": {},
     "output_type": "display_data"
    },
    {
     "data": {
      "application/vnd.jupyter.widget-view+json": {
       "model_id": "11c23d7b8b3146edb27424f361ea77fc",
       "version_major": 2,
       "version_minor": 0
      },
      "text/plain": [
       "[1/15]   7%|6          [00:00<?]"
      ]
     },
     "metadata": {},
     "output_type": "display_data"
    },
    {
     "data": {
      "application/vnd.jupyter.widget-view+json": {
       "model_id": "765f69a7db2748e6a78b2c425344449f",
       "version_major": 2,
       "version_minor": 0
      },
      "text/plain": [
       "[1/15]   7%|6          [00:00<?]"
      ]
     },
     "metadata": {},
     "output_type": "display_data"
    },
    {
     "data": {
      "application/vnd.jupyter.widget-view+json": {
       "model_id": "535da5599cbe40c3bf572ec2135634e4",
       "version_major": 2,
       "version_minor": 0
      },
      "text/plain": [
       "[1/15]   7%|6          [00:00<?]"
      ]
     },
     "metadata": {},
     "output_type": "display_data"
    },
    {
     "data": {
      "application/vnd.jupyter.widget-view+json": {
       "model_id": "3f54c0626be6473bbdef5c807ad239f0",
       "version_major": 2,
       "version_minor": 0
      },
      "text/plain": [
       "[1/15]   7%|6          [00:00<?]"
      ]
     },
     "metadata": {},
     "output_type": "display_data"
    },
    {
     "data": {
      "application/vnd.jupyter.widget-view+json": {
       "model_id": "566816f495f64217bfa4094cbbcfc80a",
       "version_major": 2,
       "version_minor": 0
      },
      "text/plain": [
       "[1/15]   7%|6          [00:00<?]"
      ]
     },
     "metadata": {},
     "output_type": "display_data"
    },
    {
     "data": {
      "application/vnd.jupyter.widget-view+json": {
       "model_id": "f222556d7f1943f6b86b28973ce62524",
       "version_major": 2,
       "version_minor": 0
      },
      "text/plain": [
       "[1/15]   7%|6          [00:00<?]"
      ]
     },
     "metadata": {},
     "output_type": "display_data"
    },
    {
     "data": {
      "application/vnd.jupyter.widget-view+json": {
       "model_id": "5904ae0e767d46a99d94c3ce48a3d1f0",
       "version_major": 2,
       "version_minor": 0
      },
      "text/plain": [
       "[1/15]   7%|6          [00:00<?]"
      ]
     },
     "metadata": {},
     "output_type": "display_data"
    },
    {
     "data": {
      "application/vnd.jupyter.widget-view+json": {
       "model_id": "a6e76e287b1e475b9e20015baf1e4716",
       "version_major": 2,
       "version_minor": 0
      },
      "text/plain": [
       "[1/15]   7%|6          [00:00<?]"
      ]
     },
     "metadata": {},
     "output_type": "display_data"
    },
    {
     "data": {
      "application/vnd.jupyter.widget-view+json": {
       "model_id": "28d68c54d1fc4ff484123bab8f6fe50f",
       "version_major": 2,
       "version_minor": 0
      },
      "text/plain": [
       "[1/15]   7%|6          [00:00<?]"
      ]
     },
     "metadata": {},
     "output_type": "display_data"
    },
    {
     "data": {
      "application/vnd.jupyter.widget-view+json": {
       "model_id": "97c85992692841019bab112d82dcef9a",
       "version_major": 2,
       "version_minor": 0
      },
      "text/plain": [
       "[1/15]   7%|6          [00:00<?]"
      ]
     },
     "metadata": {},
     "output_type": "display_data"
    },
    {
     "data": {
      "application/vnd.jupyter.widget-view+json": {
       "model_id": "6163c7f096004a6d857ed488fa9de768",
       "version_major": 2,
       "version_minor": 0
      },
      "text/plain": [
       "[1/15]   7%|6          [00:00<?]"
      ]
     },
     "metadata": {},
     "output_type": "display_data"
    },
    {
     "data": {
      "application/vnd.jupyter.widget-view+json": {
       "model_id": "81217d23b497413bab89a10b36dcf00b",
       "version_major": 2,
       "version_minor": 0
      },
      "text/plain": [
       "[1/15]   7%|6          [00:00<?]"
      ]
     },
     "metadata": {},
     "output_type": "display_data"
    },
    {
     "data": {
      "application/vnd.jupyter.widget-view+json": {
       "model_id": "f91c6cabc9b64ca9b50e77ed3573e955",
       "version_major": 2,
       "version_minor": 0
      },
      "text/plain": [
       "[1/15]   7%|6          [00:00<?]"
      ]
     },
     "metadata": {},
     "output_type": "display_data"
    },
    {
     "data": {
      "application/vnd.jupyter.widget-view+json": {
       "model_id": "4688eaff66d741ea8a35787c7d64fb05",
       "version_major": 2,
       "version_minor": 0
      },
      "text/plain": [
       "[1/15]   7%|6          [00:00<?]"
      ]
     },
     "metadata": {},
     "output_type": "display_data"
    },
    {
     "data": {
      "application/vnd.jupyter.widget-view+json": {
       "model_id": "aa33ceecbbbd4e5ab46deaed1c80b616",
       "version_major": 2,
       "version_minor": 0
      },
      "text/plain": [
       "[1/15]   7%|6          [00:00<?]"
      ]
     },
     "metadata": {},
     "output_type": "display_data"
    },
    {
     "data": {
      "application/vnd.jupyter.widget-view+json": {
       "model_id": "7bd0b0f3e3d74735929039b24117e60e",
       "version_major": 2,
       "version_minor": 0
      },
      "text/plain": [
       "[1/15]   7%|6          [00:00<?]"
      ]
     },
     "metadata": {},
     "output_type": "display_data"
    },
    {
     "data": {
      "application/vnd.jupyter.widget-view+json": {
       "model_id": "e24da3f9e5a4401fbc857913dce7a75d",
       "version_major": 2,
       "version_minor": 0
      },
      "text/plain": [
       "[1/15]   7%|6          [00:00<?]"
      ]
     },
     "metadata": {},
     "output_type": "display_data"
    },
    {
     "data": {
      "application/vnd.jupyter.widget-view+json": {
       "model_id": "8a1906d5ec8e4848bc26c37f28ffb9f7",
       "version_major": 2,
       "version_minor": 0
      },
      "text/plain": [
       "[1/15]   7%|6          [00:00<?]"
      ]
     },
     "metadata": {},
     "output_type": "display_data"
    },
    {
     "data": {
      "application/vnd.jupyter.widget-view+json": {
       "model_id": "905744d089854be3b9b3f2a3b7fee300",
       "version_major": 2,
       "version_minor": 0
      },
      "text/plain": [
       "[1/15]   7%|6          [00:00<?]"
      ]
     },
     "metadata": {},
     "output_type": "display_data"
    },
    {
     "data": {
      "application/vnd.jupyter.widget-view+json": {
       "model_id": "c972cf7bddff434ca0850a97e1939c7c",
       "version_major": 2,
       "version_minor": 0
      },
      "text/plain": [
       "[1/15]   7%|6          [00:00<?]"
      ]
     },
     "metadata": {},
     "output_type": "display_data"
    },
    {
     "data": {
      "application/vnd.jupyter.widget-view+json": {
       "model_id": "986f67e23622483db9f2a8d20ac56b9f",
       "version_major": 2,
       "version_minor": 0
      },
      "text/plain": [
       "[1/15]   7%|6          [00:00<?]"
      ]
     },
     "metadata": {},
     "output_type": "display_data"
    },
    {
     "data": {
      "application/vnd.jupyter.widget-view+json": {
       "model_id": "99c10fa9024046b29b440846f6a68433",
       "version_major": 2,
       "version_minor": 0
      },
      "text/plain": [
       "[1/15]   7%|6          [00:00<?]"
      ]
     },
     "metadata": {},
     "output_type": "display_data"
    },
    {
     "data": {
      "application/vnd.jupyter.widget-view+json": {
       "model_id": "47e08f11e20143bc9a0f95462ac06ef3",
       "version_major": 2,
       "version_minor": 0
      },
      "text/plain": [
       "[1/15]   7%|6          [00:00<?]"
      ]
     },
     "metadata": {},
     "output_type": "display_data"
    },
    {
     "data": {
      "application/vnd.jupyter.widget-view+json": {
       "model_id": "9e6d7740306047bcafba72987f652796",
       "version_major": 2,
       "version_minor": 0
      },
      "text/plain": [
       "[1/15]   7%|6          [00:00<?]"
      ]
     },
     "metadata": {},
     "output_type": "display_data"
    },
    {
     "data": {
      "application/vnd.jupyter.widget-view+json": {
       "model_id": "9304d646f65f4061b0e1b03d8e531e70",
       "version_major": 2,
       "version_minor": 0
      },
      "text/plain": [
       "[1/15]   7%|6          [00:00<?]"
      ]
     },
     "metadata": {},
     "output_type": "display_data"
    },
    {
     "data": {
      "application/vnd.jupyter.widget-view+json": {
       "model_id": "b643bda232c4454e8ebc06bae3aab2f5",
       "version_major": 2,
       "version_minor": 0
      },
      "text/plain": [
       "[1/15]   7%|6          [00:00<?]"
      ]
     },
     "metadata": {},
     "output_type": "display_data"
    },
    {
     "data": {
      "application/vnd.jupyter.widget-view+json": {
       "model_id": "e3bf54f6d7ec484987507b663e36a2df",
       "version_major": 2,
       "version_minor": 0
      },
      "text/plain": [
       "[1/15]   7%|6          [00:00<?]"
      ]
     },
     "metadata": {},
     "output_type": "display_data"
    },
    {
     "data": {
      "application/vnd.jupyter.widget-view+json": {
       "model_id": "3dcb892affc2433aac2515a8dce79cb9",
       "version_major": 2,
       "version_minor": 0
      },
      "text/plain": [
       "[1/15]   7%|6          [00:00<?]"
      ]
     },
     "metadata": {},
     "output_type": "display_data"
    },
    {
     "data": {
      "application/vnd.jupyter.widget-view+json": {
       "model_id": "a0a440c6cfdb4affb976512f4beaf8a6",
       "version_major": 2,
       "version_minor": 0
      },
      "text/plain": [
       "[1/15]   7%|6          [00:00<?]"
      ]
     },
     "metadata": {},
     "output_type": "display_data"
    },
    {
     "data": {
      "application/vnd.jupyter.widget-view+json": {
       "model_id": "0ac4fff7f7bb4b589675194ed27ab43d",
       "version_major": 2,
       "version_minor": 0
      },
      "text/plain": [
       "[1/15]   7%|6          [00:00<?]"
      ]
     },
     "metadata": {},
     "output_type": "display_data"
    },
    {
     "data": {
      "application/vnd.jupyter.widget-view+json": {
       "model_id": "d51c0e368281454aaef839aca484c86c",
       "version_major": 2,
       "version_minor": 0
      },
      "text/plain": [
       "[1/15]   7%|6          [00:00<?]"
      ]
     },
     "metadata": {},
     "output_type": "display_data"
    },
    {
     "data": {
      "application/vnd.jupyter.widget-view+json": {
       "model_id": "b6452bef4f8e4c11921000cc4d6b71b4",
       "version_major": 2,
       "version_minor": 0
      },
      "text/plain": [
       "[1/15]   7%|6          [00:00<?]"
      ]
     },
     "metadata": {},
     "output_type": "display_data"
    },
    {
     "data": {
      "application/vnd.jupyter.widget-view+json": {
       "model_id": "eab03bd71a0f4421b79cb16536310e70",
       "version_major": 2,
       "version_minor": 0
      },
      "text/plain": [
       "[1/15]   7%|6          [00:00<?]"
      ]
     },
     "metadata": {},
     "output_type": "display_data"
    },
    {
     "data": {
      "application/vnd.jupyter.widget-view+json": {
       "model_id": "298b4937f50a4973915155b5e4f72e67",
       "version_major": 2,
       "version_minor": 0
      },
      "text/plain": [
       "[1/15]   7%|6          [00:00<?]"
      ]
     },
     "metadata": {},
     "output_type": "display_data"
    },
    {
     "data": {
      "application/vnd.jupyter.widget-view+json": {
       "model_id": "76276ab986b24972b4ff3a55612f8b71",
       "version_major": 2,
       "version_minor": 0
      },
      "text/plain": [
       "[1/15]   7%|6          [00:00<?]"
      ]
     },
     "metadata": {},
     "output_type": "display_data"
    },
    {
     "data": {
      "application/vnd.jupyter.widget-view+json": {
       "model_id": "dcdf73d383d94f2b83feac775a19f9ed",
       "version_major": 2,
       "version_minor": 0
      },
      "text/plain": [
       "[1/15]   7%|6          [00:00<?]"
      ]
     },
     "metadata": {},
     "output_type": "display_data"
    },
    {
     "data": {
      "application/vnd.jupyter.widget-view+json": {
       "model_id": "8e73c97bd5804c518f30c51ebfcff12e",
       "version_major": 2,
       "version_minor": 0
      },
      "text/plain": [
       "[1/15]   7%|6          [00:00<?]"
      ]
     },
     "metadata": {},
     "output_type": "display_data"
    },
    {
     "data": {
      "application/vnd.jupyter.widget-view+json": {
       "model_id": "4307a3f5d7734e9dae9062a802929e3e",
       "version_major": 2,
       "version_minor": 0
      },
      "text/plain": [
       "[1/15]   7%|6          [00:00<?]"
      ]
     },
     "metadata": {},
     "output_type": "display_data"
    },
    {
     "data": {
      "application/vnd.jupyter.widget-view+json": {
       "model_id": "efca532f0d524d58afeb31d5377535ae",
       "version_major": 2,
       "version_minor": 0
      },
      "text/plain": [
       "[1/15]   7%|6          [00:00<?]"
      ]
     },
     "metadata": {},
     "output_type": "display_data"
    },
    {
     "data": {
      "application/vnd.jupyter.widget-view+json": {
       "model_id": "3ee16ef008fe4b91bce690ca93c3252b",
       "version_major": 2,
       "version_minor": 0
      },
      "text/plain": [
       "[1/15]   7%|6          [00:00<?]"
      ]
     },
     "metadata": {},
     "output_type": "display_data"
    },
    {
     "data": {
      "application/vnd.jupyter.widget-view+json": {
       "model_id": "0544918aca38485eac67611bc40fb7e4",
       "version_major": 2,
       "version_minor": 0
      },
      "text/plain": [
       "[1/15]   7%|6          [00:00<?]"
      ]
     },
     "metadata": {},
     "output_type": "display_data"
    },
    {
     "data": {
      "application/vnd.jupyter.widget-view+json": {
       "model_id": "89b236fadc134c829965878c110e2b9d",
       "version_major": 2,
       "version_minor": 0
      },
      "text/plain": [
       "[1/15]   7%|6          [00:00<?]"
      ]
     },
     "metadata": {},
     "output_type": "display_data"
    },
    {
     "data": {
      "application/vnd.jupyter.widget-view+json": {
       "model_id": "b5887b47bbd946c9b743be13e8156afb",
       "version_major": 2,
       "version_minor": 0
      },
      "text/plain": [
       "[1/15]   7%|6          [00:00<?]"
      ]
     },
     "metadata": {},
     "output_type": "display_data"
    },
    {
     "data": {
      "application/vnd.jupyter.widget-view+json": {
       "model_id": "4aa6fa49b2e145519035b26e4d2de571",
       "version_major": 2,
       "version_minor": 0
      },
      "text/plain": [
       "[1/15]   7%|6          [00:00<?]"
      ]
     },
     "metadata": {},
     "output_type": "display_data"
    },
    {
     "data": {
      "application/vnd.jupyter.widget-view+json": {
       "model_id": "4345f58470774aa4a98e77ec99ad283b",
       "version_major": 2,
       "version_minor": 0
      },
      "text/plain": [
       "[1/15]   7%|6          [00:00<?]"
      ]
     },
     "metadata": {},
     "output_type": "display_data"
    },
    {
     "data": {
      "application/vnd.jupyter.widget-view+json": {
       "model_id": "54c1989d293748cda9e865ac462d83e5",
       "version_major": 2,
       "version_minor": 0
      },
      "text/plain": [
       "[1/15]   7%|6          [00:00<?]"
      ]
     },
     "metadata": {},
     "output_type": "display_data"
    },
    {
     "data": {
      "application/vnd.jupyter.widget-view+json": {
       "model_id": "bc8d328f2bd54c2a9af6f54e68d51c08",
       "version_major": 2,
       "version_minor": 0
      },
      "text/plain": [
       "[1/15]   7%|6          [00:00<?]"
      ]
     },
     "metadata": {},
     "output_type": "display_data"
    },
    {
     "data": {
      "application/vnd.jupyter.widget-view+json": {
       "model_id": "76cde273e2294b2799577903c51f6871",
       "version_major": 2,
       "version_minor": 0
      },
      "text/plain": [
       "[1/15]   7%|6          [00:00<?]"
      ]
     },
     "metadata": {},
     "output_type": "display_data"
    },
    {
     "data": {
      "application/vnd.jupyter.widget-view+json": {
       "model_id": "c835f4c059af4b6198df26aadf380d57",
       "version_major": 2,
       "version_minor": 0
      },
      "text/plain": [
       "[1/15]   7%|6          [00:00<?]"
      ]
     },
     "metadata": {},
     "output_type": "display_data"
    },
    {
     "data": {
      "application/vnd.jupyter.widget-view+json": {
       "model_id": "a393a303eed647f4a70482634da47357",
       "version_major": 2,
       "version_minor": 0
      },
      "text/plain": [
       "[1/15]   7%|6          [00:00<?]"
      ]
     },
     "metadata": {},
     "output_type": "display_data"
    },
    {
     "data": {
      "application/vnd.jupyter.widget-view+json": {
       "model_id": "4e5967adb7d7402b9050bd6b5faa9c49",
       "version_major": 2,
       "version_minor": 0
      },
      "text/plain": [
       "[1/15]   7%|6          [00:00<?]"
      ]
     },
     "metadata": {},
     "output_type": "display_data"
    },
    {
     "data": {
      "application/vnd.jupyter.widget-view+json": {
       "model_id": "26fb9d2d17ae4ef498358998667f29b6",
       "version_major": 2,
       "version_minor": 0
      },
      "text/plain": [
       "[1/15]   7%|6          [00:00<?]"
      ]
     },
     "metadata": {},
     "output_type": "display_data"
    },
    {
     "data": {
      "application/vnd.jupyter.widget-view+json": {
       "model_id": "b50de0c60a124f01b692aea56818fa81",
       "version_major": 2,
       "version_minor": 0
      },
      "text/plain": [
       "[1/15]   7%|6          [00:00<?]"
      ]
     },
     "metadata": {},
     "output_type": "display_data"
    },
    {
     "data": {
      "application/vnd.jupyter.widget-view+json": {
       "model_id": "c035d3ca639d4a98a6b932e321098700",
       "version_major": 2,
       "version_minor": 0
      },
      "text/plain": [
       "[1/15]   7%|6          [00:00<?]"
      ]
     },
     "metadata": {},
     "output_type": "display_data"
    },
    {
     "data": {
      "application/vnd.jupyter.widget-view+json": {
       "model_id": "ebab3f9cdaf84d7b82e89e0daffb7c3d",
       "version_major": 2,
       "version_minor": 0
      },
      "text/plain": [
       "[1/15]   7%|6          [00:00<?]"
      ]
     },
     "metadata": {},
     "output_type": "display_data"
    },
    {
     "data": {
      "application/vnd.jupyter.widget-view+json": {
       "model_id": "ce2d008ecda7407fa4b01419b1e4d221",
       "version_major": 2,
       "version_minor": 0
      },
      "text/plain": [
       "[1/15]   7%|6          [00:00<?]"
      ]
     },
     "metadata": {},
     "output_type": "display_data"
    },
    {
     "data": {
      "application/vnd.jupyter.widget-view+json": {
       "model_id": "4ad203e5cc7145b4bdf3dd9a84b1a932",
       "version_major": 2,
       "version_minor": 0
      },
      "text/plain": [
       "[1/15]   7%|6          [00:00<?]"
      ]
     },
     "metadata": {},
     "output_type": "display_data"
    },
    {
     "data": {
      "application/vnd.jupyter.widget-view+json": {
       "model_id": "db3de5bb03fa496594e8f72044c06560",
       "version_major": 2,
       "version_minor": 0
      },
      "text/plain": [
       "[1/15]   7%|6          [00:00<?]"
      ]
     },
     "metadata": {},
     "output_type": "display_data"
    },
    {
     "data": {
      "application/vnd.jupyter.widget-view+json": {
       "model_id": "ea2206be422744c8ad14635514158ee3",
       "version_major": 2,
       "version_minor": 0
      },
      "text/plain": [
       "[1/15]   7%|6          [00:00<?]"
      ]
     },
     "metadata": {},
     "output_type": "display_data"
    },
    {
     "data": {
      "application/vnd.jupyter.widget-view+json": {
       "model_id": "9d63ce2020384190823564df4fc172ff",
       "version_major": 2,
       "version_minor": 0
      },
      "text/plain": [
       "[1/15]   7%|6          [00:00<?]"
      ]
     },
     "metadata": {},
     "output_type": "display_data"
    },
    {
     "data": {
      "application/vnd.jupyter.widget-view+json": {
       "model_id": "6c8465ae7fab4f48b90bfd14658b598c",
       "version_major": 2,
       "version_minor": 0
      },
      "text/plain": [
       "[1/15]   7%|6          [00:00<?]"
      ]
     },
     "metadata": {},
     "output_type": "display_data"
    },
    {
     "data": {
      "application/vnd.jupyter.widget-view+json": {
       "model_id": "74998d98ab3d45cd8f774178683c091c",
       "version_major": 2,
       "version_minor": 0
      },
      "text/plain": [
       "[1/15]   7%|6          [00:00<?]"
      ]
     },
     "metadata": {},
     "output_type": "display_data"
    },
    {
     "data": {
      "application/vnd.jupyter.widget-view+json": {
       "model_id": "4e69f92a3cee417ca3e9b5a5bbb785e7",
       "version_major": 2,
       "version_minor": 0
      },
      "text/plain": [
       "[1/15]   7%|6          [00:00<?]"
      ]
     },
     "metadata": {},
     "output_type": "display_data"
    },
    {
     "data": {
      "application/vnd.jupyter.widget-view+json": {
       "model_id": "109806470f5545bd8137e542cd2a67b3",
       "version_major": 2,
       "version_minor": 0
      },
      "text/plain": [
       "[1/15]   7%|6          [00:00<?]"
      ]
     },
     "metadata": {},
     "output_type": "display_data"
    },
    {
     "data": {
      "application/vnd.jupyter.widget-view+json": {
       "model_id": "904923709b6349a3b81325f543b4a523",
       "version_major": 2,
       "version_minor": 0
      },
      "text/plain": [
       "[1/15]   7%|6          [00:00<?]"
      ]
     },
     "metadata": {},
     "output_type": "display_data"
    },
    {
     "data": {
      "application/vnd.jupyter.widget-view+json": {
       "model_id": "2e18ec0e5b23453687b51cd6757c167f",
       "version_major": 2,
       "version_minor": 0
      },
      "text/plain": [
       "[1/15]   7%|6          [00:00<?]"
      ]
     },
     "metadata": {},
     "output_type": "display_data"
    },
    {
     "data": {
      "application/vnd.jupyter.widget-view+json": {
       "model_id": "0d47654c1a6c416092a551867c647a69",
       "version_major": 2,
       "version_minor": 0
      },
      "text/plain": [
       "[1/15]   7%|6          [00:00<?]"
      ]
     },
     "metadata": {},
     "output_type": "display_data"
    },
    {
     "data": {
      "application/vnd.jupyter.widget-view+json": {
       "model_id": "dc9d315f49c7487f927680a5f8d254cb",
       "version_major": 2,
       "version_minor": 0
      },
      "text/plain": [
       "[1/15]   7%|6          [00:00<?]"
      ]
     },
     "metadata": {},
     "output_type": "display_data"
    },
    {
     "data": {
      "application/vnd.jupyter.widget-view+json": {
       "model_id": "ac998562c31946289bd7e738cce1fda0",
       "version_major": 2,
       "version_minor": 0
      },
      "text/plain": [
       "[1/15]   7%|6          [00:00<?]"
      ]
     },
     "metadata": {},
     "output_type": "display_data"
    },
    {
     "data": {
      "application/vnd.jupyter.widget-view+json": {
       "model_id": "e7c56e8773454ee1bf38061834e9bedd",
       "version_major": 2,
       "version_minor": 0
      },
      "text/plain": [
       "[1/15]   7%|6          [00:00<?]"
      ]
     },
     "metadata": {},
     "output_type": "display_data"
    },
    {
     "data": {
      "application/vnd.jupyter.widget-view+json": {
       "model_id": "737d64bebc744ab3833f6ec57d3342c5",
       "version_major": 2,
       "version_minor": 0
      },
      "text/plain": [
       "[1/15]   7%|6          [00:00<?]"
      ]
     },
     "metadata": {},
     "output_type": "display_data"
    },
    {
     "data": {
      "application/vnd.jupyter.widget-view+json": {
       "model_id": "214f90d002064f35acd5b5dc3ef7de4e",
       "version_major": 2,
       "version_minor": 0
      },
      "text/plain": [
       "[1/15]   7%|6          [00:00<?]"
      ]
     },
     "metadata": {},
     "output_type": "display_data"
    },
    {
     "data": {
      "application/vnd.jupyter.widget-view+json": {
       "model_id": "b921b8168a204f63ad11c4f92b88b921",
       "version_major": 2,
       "version_minor": 0
      },
      "text/plain": [
       "[1/15]   7%|6          [00:00<?]"
      ]
     },
     "metadata": {},
     "output_type": "display_data"
    },
    {
     "data": {
      "application/vnd.jupyter.widget-view+json": {
       "model_id": "462c13cfad3e4c668326d2f9a432596d",
       "version_major": 2,
       "version_minor": 0
      },
      "text/plain": [
       "[1/15]   7%|6          [00:00<?]"
      ]
     },
     "metadata": {},
     "output_type": "display_data"
    },
    {
     "data": {
      "application/vnd.jupyter.widget-view+json": {
       "model_id": "a744778fd4b14740983bae88a5886c47",
       "version_major": 2,
       "version_minor": 0
      },
      "text/plain": [
       "[1/15]   7%|6          [00:00<?]"
      ]
     },
     "metadata": {},
     "output_type": "display_data"
    },
    {
     "data": {
      "application/vnd.jupyter.widget-view+json": {
       "model_id": "056ef4f7ec354f8bb2b04c9eb83ec1a6",
       "version_major": 2,
       "version_minor": 0
      },
      "text/plain": [
       "[1/15]   7%|6          [00:00<?]"
      ]
     },
     "metadata": {},
     "output_type": "display_data"
    },
    {
     "data": {
      "application/vnd.jupyter.widget-view+json": {
       "model_id": "dc052272d9264f77a388085315d0875e",
       "version_major": 2,
       "version_minor": 0
      },
      "text/plain": [
       "[1/15]   7%|6          [00:00<?]"
      ]
     },
     "metadata": {},
     "output_type": "display_data"
    },
    {
     "data": {
      "application/vnd.jupyter.widget-view+json": {
       "model_id": "bde9ec1a24354cba83fb2a1caba770b2",
       "version_major": 2,
       "version_minor": 0
      },
      "text/plain": [
       "[1/15]   7%|6          [00:00<?]"
      ]
     },
     "metadata": {},
     "output_type": "display_data"
    },
    {
     "data": {
      "application/vnd.jupyter.widget-view+json": {
       "model_id": "1e109920881c46838952c3b4effaa7d2",
       "version_major": 2,
       "version_minor": 0
      },
      "text/plain": [
       "[1/15]   7%|6          [00:00<?]"
      ]
     },
     "metadata": {},
     "output_type": "display_data"
    },
    {
     "data": {
      "application/vnd.jupyter.widget-view+json": {
       "model_id": "633ec3a8c685498289254a5148fd5aef",
       "version_major": 2,
       "version_minor": 0
      },
      "text/plain": [
       "[1/15]   7%|6          [00:00<?]"
      ]
     },
     "metadata": {},
     "output_type": "display_data"
    },
    {
     "data": {
      "application/vnd.jupyter.widget-view+json": {
       "model_id": "fcf64da014264c63922ee0eb573d046c",
       "version_major": 2,
       "version_minor": 0
      },
      "text/plain": [
       "[1/15]   7%|6          [00:00<?]"
      ]
     },
     "metadata": {},
     "output_type": "display_data"
    },
    {
     "data": {
      "application/vnd.jupyter.widget-view+json": {
       "model_id": "15926503a7db45ed82d44cc1609d487d",
       "version_major": 2,
       "version_minor": 0
      },
      "text/plain": [
       "[1/15]   7%|6          [00:00<?]"
      ]
     },
     "metadata": {},
     "output_type": "display_data"
    },
    {
     "data": {
      "application/vnd.jupyter.widget-view+json": {
       "model_id": "71e980d5556a4f4696353be9afc2f25b",
       "version_major": 2,
       "version_minor": 0
      },
      "text/plain": [
       "[1/15]   7%|6          [00:00<?]"
      ]
     },
     "metadata": {},
     "output_type": "display_data"
    },
    {
     "data": {
      "application/vnd.jupyter.widget-view+json": {
       "model_id": "7b7614585c0144a99d19dd91b9aeea9f",
       "version_major": 2,
       "version_minor": 0
      },
      "text/plain": [
       "[1/15]   7%|6          [00:00<?]"
      ]
     },
     "metadata": {},
     "output_type": "display_data"
    },
    {
     "data": {
      "application/vnd.jupyter.widget-view+json": {
       "model_id": "d081199578474e90a1758f074dcaded3",
       "version_major": 2,
       "version_minor": 0
      },
      "text/plain": [
       "[1/15]   7%|6          [00:00<?]"
      ]
     },
     "metadata": {},
     "output_type": "display_data"
    },
    {
     "data": {
      "application/vnd.jupyter.widget-view+json": {
       "model_id": "512607973f7c48888ed61e9129de6522",
       "version_major": 2,
       "version_minor": 0
      },
      "text/plain": [
       "[1/15]   7%|6          [00:00<?]"
      ]
     },
     "metadata": {},
     "output_type": "display_data"
    },
    {
     "data": {
      "application/vnd.jupyter.widget-view+json": {
       "model_id": "2922ddb0b7344c8f91bdc3279790a8f4",
       "version_major": 2,
       "version_minor": 0
      },
      "text/plain": [
       "[1/15]   7%|6          [00:00<?]"
      ]
     },
     "metadata": {},
     "output_type": "display_data"
    },
    {
     "data": {
      "application/vnd.jupyter.widget-view+json": {
       "model_id": "bd389a41efc9403b8e875f0b49a86133",
       "version_major": 2,
       "version_minor": 0
      },
      "text/plain": [
       "[1/15]   7%|6          [00:00<?]"
      ]
     },
     "metadata": {},
     "output_type": "display_data"
    },
    {
     "data": {
      "application/vnd.jupyter.widget-view+json": {
       "model_id": "b763d0c4d48c4ded9c78b5e7ee815a44",
       "version_major": 2,
       "version_minor": 0
      },
      "text/plain": [
       "[1/15]   7%|6          [00:00<?]"
      ]
     },
     "metadata": {},
     "output_type": "display_data"
    },
    {
     "data": {
      "application/vnd.jupyter.widget-view+json": {
       "model_id": "aa595f177d574cefa0f042cfd4504f22",
       "version_major": 2,
       "version_minor": 0
      },
      "text/plain": [
       "[1/15]   7%|6          [00:00<?]"
      ]
     },
     "metadata": {},
     "output_type": "display_data"
    },
    {
     "data": {
      "application/vnd.jupyter.widget-view+json": {
       "model_id": "1ff0c1df0da4440492aad63a1552dbba",
       "version_major": 2,
       "version_minor": 0
      },
      "text/plain": [
       "[1/15]   7%|6          [00:00<?]"
      ]
     },
     "metadata": {},
     "output_type": "display_data"
    },
    {
     "data": {
      "application/vnd.jupyter.widget-view+json": {
       "model_id": "9eca07879c2348cd9867302964e29959",
       "version_major": 2,
       "version_minor": 0
      },
      "text/plain": [
       "[1/15]   7%|6          [00:00<?]"
      ]
     },
     "metadata": {},
     "output_type": "display_data"
    },
    {
     "data": {
      "application/vnd.jupyter.widget-view+json": {
       "model_id": "9ca93cb85eff4255af740cd736ad6c82",
       "version_major": 2,
       "version_minor": 0
      },
      "text/plain": [
       "[1/15]   7%|6          [00:00<?]"
      ]
     },
     "metadata": {},
     "output_type": "display_data"
    },
    {
     "data": {
      "application/vnd.jupyter.widget-view+json": {
       "model_id": "5bcc9221b9cf4206999d17147165a2af",
       "version_major": 2,
       "version_minor": 0
      },
      "text/plain": [
       "[1/15]   7%|6          [00:00<?]"
      ]
     },
     "metadata": {},
     "output_type": "display_data"
    },
    {
     "data": {
      "application/vnd.jupyter.widget-view+json": {
       "model_id": "ed729c3cf05145599e6ef2fb9cf360f9",
       "version_major": 2,
       "version_minor": 0
      },
      "text/plain": [
       "[1/15]   7%|6          [00:00<?]"
      ]
     },
     "metadata": {},
     "output_type": "display_data"
    },
    {
     "data": {
      "application/vnd.jupyter.widget-view+json": {
       "model_id": "ea9ca742eab645e483c902d0fd73fd36",
       "version_major": 2,
       "version_minor": 0
      },
      "text/plain": [
       "[1/15]   7%|6          [00:00<?]"
      ]
     },
     "metadata": {},
     "output_type": "display_data"
    },
    {
     "data": {
      "application/vnd.jupyter.widget-view+json": {
       "model_id": "765bf5c8c40541c0a35a42fcffe4094a",
       "version_major": 2,
       "version_minor": 0
      },
      "text/plain": [
       "[1/15]   7%|6          [00:00<?]"
      ]
     },
     "metadata": {},
     "output_type": "display_data"
    },
    {
     "data": {
      "application/vnd.jupyter.widget-view+json": {
       "model_id": "9d7845d5754449809eafcc2058213374",
       "version_major": 2,
       "version_minor": 0
      },
      "text/plain": [
       "[1/15]   7%|6          [00:00<?]"
      ]
     },
     "metadata": {},
     "output_type": "display_data"
    },
    {
     "data": {
      "application/vnd.jupyter.widget-view+json": {
       "model_id": "9990e5543dcd4c9e85f3977ae68b6279",
       "version_major": 2,
       "version_minor": 0
      },
      "text/plain": [
       "[1/15]   7%|6          [00:00<?]"
      ]
     },
     "metadata": {},
     "output_type": "display_data"
    },
    {
     "data": {
      "application/vnd.jupyter.widget-view+json": {
       "model_id": "",
       "version_major": 2,
       "version_minor": 0
      },
      "text/plain": [
       "[1/15]   7%|6          [00:00<?]"
      ]
     },
     "metadata": {},
     "output_type": "display_data"
    },
    {
     "data": {
      "application/vnd.jupyter.widget-view+json": {
       "model_id": "",
       "version_major": 2,
       "version_minor": 0
      },
      "text/plain": [
       "[1/15]   7%|6          [00:00<?]"
      ]
     },
     "metadata": {},
     "output_type": "display_data"
    },
    {
     "data": {
      "application/vnd.jupyter.widget-view+json": {
       "model_id": "",
       "version_major": 2,
       "version_minor": 0
      },
      "text/plain": [
       "[1/15]   7%|6          [00:00<?]"
      ]
     },
     "metadata": {},
     "output_type": "display_data"
    },
    {
     "data": {
      "application/vnd.jupyter.widget-view+json": {
       "model_id": "",
       "version_major": 2,
       "version_minor": 0
      },
      "text/plain": [
       "[1/15]   7%|6          [00:00<?]"
      ]
     },
     "metadata": {},
     "output_type": "display_data"
    },
    {
     "data": {
      "application/vnd.jupyter.widget-view+json": {
       "model_id": "",
       "version_major": 2,
       "version_minor": 0
      },
      "text/plain": [
       "[1/15]   7%|6          [00:00<?]"
      ]
     },
     "metadata": {},
     "output_type": "display_data"
    },
    {
     "data": {
      "application/vnd.jupyter.widget-view+json": {
       "model_id": "",
       "version_major": 2,
       "version_minor": 0
      },
      "text/plain": [
       "[1/15]   7%|6          [00:00<?]"
      ]
     },
     "metadata": {},
     "output_type": "display_data"
    },
    {
     "data": {
      "application/vnd.jupyter.widget-view+json": {
       "model_id": "",
       "version_major": 2,
       "version_minor": 0
      },
      "text/plain": [
       "[1/15]   7%|6          [00:00<?]"
      ]
     },
     "metadata": {},
     "output_type": "display_data"
    },
    {
     "data": {
      "application/vnd.jupyter.widget-view+json": {
       "model_id": "",
       "version_major": 2,
       "version_minor": 0
      },
      "text/plain": [
       "[1/15]   7%|6          [00:00<?]"
      ]
     },
     "metadata": {},
     "output_type": "display_data"
    },
    {
     "data": {
      "application/vnd.jupyter.widget-view+json": {
       "model_id": "",
       "version_major": 2,
       "version_minor": 0
      },
      "text/plain": [
       "[1/15]   7%|6          [00:00<?]"
      ]
     },
     "metadata": {},
     "output_type": "display_data"
    },
    {
     "data": {
      "application/vnd.jupyter.widget-view+json": {
       "model_id": "",
       "version_major": 2,
       "version_minor": 0
      },
      "text/plain": [
       "[1/15]   7%|6          [00:00<?]"
      ]
     },
     "metadata": {},
     "output_type": "display_data"
    },
    {
     "data": {
      "application/vnd.jupyter.widget-view+json": {
       "model_id": "",
       "version_major": 2,
       "version_minor": 0
      },
      "text/plain": [
       "[1/15]   7%|6          [00:00<?]"
      ]
     },
     "metadata": {},
     "output_type": "display_data"
    },
    {
     "data": {
      "application/vnd.jupyter.widget-view+json": {
       "model_id": "",
       "version_major": 2,
       "version_minor": 0
      },
      "text/plain": [
       "[1/15]   7%|6          [00:00<?]"
      ]
     },
     "metadata": {},
     "output_type": "display_data"
    },
    {
     "data": {
      "application/vnd.jupyter.widget-view+json": {
       "model_id": "",
       "version_major": 2,
       "version_minor": 0
      },
      "text/plain": [
       "[1/15]   7%|6          [00:00<?]"
      ]
     },
     "metadata": {},
     "output_type": "display_data"
    },
    {
     "data": {
      "application/vnd.jupyter.widget-view+json": {
       "model_id": "",
       "version_major": 2,
       "version_minor": 0
      },
      "text/plain": [
       "[1/15]   7%|6          [00:00<?]"
      ]
     },
     "metadata": {},
     "output_type": "display_data"
    },
    {
     "data": {
      "application/vnd.jupyter.widget-view+json": {
       "model_id": "",
       "version_major": 2,
       "version_minor": 0
      },
      "text/plain": [
       "[1/15]   7%|6          [00:00<?]"
      ]
     },
     "metadata": {},
     "output_type": "display_data"
    },
    {
     "data": {
      "application/vnd.jupyter.widget-view+json": {
       "model_id": "",
       "version_major": 2,
       "version_minor": 0
      },
      "text/plain": [
       "[1/15]   7%|6          [00:00<?]"
      ]
     },
     "metadata": {},
     "output_type": "display_data"
    },
    {
     "data": {
      "application/vnd.jupyter.widget-view+json": {
       "model_id": "",
       "version_major": 2,
       "version_minor": 0
      },
      "text/plain": [
       "[1/15]   7%|6          [00:00<?]"
      ]
     },
     "metadata": {},
     "output_type": "display_data"
    },
    {
     "data": {
      "application/vnd.jupyter.widget-view+json": {
       "model_id": "",
       "version_major": 2,
       "version_minor": 0
      },
      "text/plain": [
       "[1/15]   7%|6          [00:00<?]"
      ]
     },
     "metadata": {},
     "output_type": "display_data"
    },
    {
     "data": {
      "application/vnd.jupyter.widget-view+json": {
       "model_id": "",
       "version_major": 2,
       "version_minor": 0
      },
      "text/plain": [
       "[1/15]   7%|6          [00:00<?]"
      ]
     },
     "metadata": {},
     "output_type": "display_data"
    },
    {
     "data": {
      "application/vnd.jupyter.widget-view+json": {
       "model_id": "",
       "version_major": 2,
       "version_minor": 0
      },
      "text/plain": [
       "[1/15]   7%|6          [00:00<?]"
      ]
     },
     "metadata": {},
     "output_type": "display_data"
    },
    {
     "data": {
      "application/vnd.jupyter.widget-view+json": {
       "model_id": "",
       "version_major": 2,
       "version_minor": 0
      },
      "text/plain": [
       "[1/15]   7%|6          [00:00<?]"
      ]
     },
     "metadata": {},
     "output_type": "display_data"
    },
    {
     "data": {
      "application/vnd.jupyter.widget-view+json": {
       "model_id": "",
       "version_major": 2,
       "version_minor": 0
      },
      "text/plain": [
       "[1/15]   7%|6          [00:00<?]"
      ]
     },
     "metadata": {},
     "output_type": "display_data"
    },
    {
     "data": {
      "application/vnd.jupyter.widget-view+json": {
       "model_id": "",
       "version_major": 2,
       "version_minor": 0
      },
      "text/plain": [
       "[1/15]   7%|6          [00:00<?]"
      ]
     },
     "metadata": {},
     "output_type": "display_data"
    },
    {
     "data": {
      "application/vnd.jupyter.widget-view+json": {
       "model_id": "",
       "version_major": 2,
       "version_minor": 0
      },
      "text/plain": [
       "[1/15]   7%|6          [00:00<?]"
      ]
     },
     "metadata": {},
     "output_type": "display_data"
    },
    {
     "data": {
      "application/vnd.jupyter.widget-view+json": {
       "model_id": "",
       "version_major": 2,
       "version_minor": 0
      },
      "text/plain": [
       "[1/15]   7%|6          [00:00<?]"
      ]
     },
     "metadata": {},
     "output_type": "display_data"
    },
    {
     "data": {
      "application/vnd.jupyter.widget-view+json": {
       "model_id": "",
       "version_major": 2,
       "version_minor": 0
      },
      "text/plain": [
       "[1/15]   7%|6          [00:00<?]"
      ]
     },
     "metadata": {},
     "output_type": "display_data"
    },
    {
     "data": {
      "application/vnd.jupyter.widget-view+json": {
       "model_id": "",
       "version_major": 2,
       "version_minor": 0
      },
      "text/plain": [
       "[1/15]   7%|6          [00:00<?]"
      ]
     },
     "metadata": {},
     "output_type": "display_data"
    },
    {
     "data": {
      "application/vnd.jupyter.widget-view+json": {
       "model_id": "",
       "version_major": 2,
       "version_minor": 0
      },
      "text/plain": [
       "[1/15]   7%|6          [00:00<?]"
      ]
     },
     "metadata": {},
     "output_type": "display_data"
    },
    {
     "data": {
      "application/vnd.jupyter.widget-view+json": {
       "model_id": "",
       "version_major": 2,
       "version_minor": 0
      },
      "text/plain": [
       "[1/15]   7%|6          [00:00<?]"
      ]
     },
     "metadata": {},
     "output_type": "display_data"
    },
    {
     "data": {
      "application/vnd.jupyter.widget-view+json": {
       "model_id": "",
       "version_major": 2,
       "version_minor": 0
      },
      "text/plain": [
       "[1/15]   7%|6          [00:00<?]"
      ]
     },
     "metadata": {},
     "output_type": "display_data"
    },
    {
     "data": {
      "application/vnd.jupyter.widget-view+json": {
       "model_id": "",
       "version_major": 2,
       "version_minor": 0
      },
      "text/plain": [
       "[1/15]   7%|6          [00:00<?]"
      ]
     },
     "metadata": {},
     "output_type": "display_data"
    },
    {
     "data": {
      "application/vnd.jupyter.widget-view+json": {
       "model_id": "",
       "version_major": 2,
       "version_minor": 0
      },
      "text/plain": [
       "[1/15]   7%|6          [00:00<?]"
      ]
     },
     "metadata": {},
     "output_type": "display_data"
    },
    {
     "data": {
      "application/vnd.jupyter.widget-view+json": {
       "model_id": "",
       "version_major": 2,
       "version_minor": 0
      },
      "text/plain": [
       "[1/15]   7%|6          [00:00<?]"
      ]
     },
     "metadata": {},
     "output_type": "display_data"
    },
    {
     "data": {
      "application/vnd.jupyter.widget-view+json": {
       "model_id": "",
       "version_major": 2,
       "version_minor": 0
      },
      "text/plain": [
       "[1/15]   7%|6          [00:00<?]"
      ]
     },
     "metadata": {},
     "output_type": "display_data"
    },
    {
     "data": {
      "application/vnd.jupyter.widget-view+json": {
       "model_id": "",
       "version_major": 2,
       "version_minor": 0
      },
      "text/plain": [
       "[1/15]   7%|6          [00:00<?]"
      ]
     },
     "metadata": {},
     "output_type": "display_data"
    },
    {
     "data": {
      "application/vnd.jupyter.widget-view+json": {
       "model_id": "",
       "version_major": 2,
       "version_minor": 0
      },
      "text/plain": [
       "[1/15]   7%|6          [00:00<?]"
      ]
     },
     "metadata": {},
     "output_type": "display_data"
    },
    {
     "data": {
      "application/vnd.jupyter.widget-view+json": {
       "model_id": "",
       "version_major": 2,
       "version_minor": 0
      },
      "text/plain": [
       "[1/15]   7%|6          [00:00<?]"
      ]
     },
     "metadata": {},
     "output_type": "display_data"
    },
    {
     "data": {
      "application/vnd.jupyter.widget-view+json": {
       "model_id": "",
       "version_major": 2,
       "version_minor": 0
      },
      "text/plain": [
       "[1/15]   7%|6          [00:00<?]"
      ]
     },
     "metadata": {},
     "output_type": "display_data"
    },
    {
     "data": {
      "application/vnd.jupyter.widget-view+json": {
       "model_id": "",
       "version_major": 2,
       "version_minor": 0
      },
      "text/plain": [
       "[1/15]   7%|6          [00:00<?]"
      ]
     },
     "metadata": {},
     "output_type": "display_data"
    },
    {
     "data": {
      "application/vnd.jupyter.widget-view+json": {
       "model_id": "",
       "version_major": 2,
       "version_minor": 0
      },
      "text/plain": [
       "[1/15]   7%|6          [00:00<?]"
      ]
     },
     "metadata": {},
     "output_type": "display_data"
    },
    {
     "data": {
      "application/vnd.jupyter.widget-view+json": {
       "model_id": "",
       "version_major": 2,
       "version_minor": 0
      },
      "text/plain": [
       "[1/15]   7%|6          [00:00<?]"
      ]
     },
     "metadata": {},
     "output_type": "display_data"
    },
    {
     "data": {
      "application/vnd.jupyter.widget-view+json": {
       "model_id": "",
       "version_major": 2,
       "version_minor": 0
      },
      "text/plain": [
       "[1/15]   7%|6          [00:00<?]"
      ]
     },
     "metadata": {},
     "output_type": "display_data"
    },
    {
     "data": {
      "application/vnd.jupyter.widget-view+json": {
       "model_id": "",
       "version_major": 2,
       "version_minor": 0
      },
      "text/plain": [
       "[1/15]   7%|6          [00:00<?]"
      ]
     },
     "metadata": {},
     "output_type": "display_data"
    },
    {
     "data": {
      "application/vnd.jupyter.widget-view+json": {
       "model_id": "",
       "version_major": 2,
       "version_minor": 0
      },
      "text/plain": [
       "[1/15]   7%|6          [00:00<?]"
      ]
     },
     "metadata": {},
     "output_type": "display_data"
    },
    {
     "data": {
      "application/vnd.jupyter.widget-view+json": {
       "model_id": "",
       "version_major": 2,
       "version_minor": 0
      },
      "text/plain": [
       "[1/15]   7%|6          [00:00<?]"
      ]
     },
     "metadata": {},
     "output_type": "display_data"
    },
    {
     "data": {
      "application/vnd.jupyter.widget-view+json": {
       "model_id": "",
       "version_major": 2,
       "version_minor": 0
      },
      "text/plain": [
       "[1/15]   7%|6          [00:00<?]"
      ]
     },
     "metadata": {},
     "output_type": "display_data"
    },
    {
     "data": {
      "application/vnd.jupyter.widget-view+json": {
       "model_id": "",
       "version_major": 2,
       "version_minor": 0
      },
      "text/plain": [
       "[1/15]   7%|6          [00:00<?]"
      ]
     },
     "metadata": {},
     "output_type": "display_data"
    },
    {
     "data": {
      "application/vnd.jupyter.widget-view+json": {
       "model_id": "",
       "version_major": 2,
       "version_minor": 0
      },
      "text/plain": [
       "[1/15]   7%|6          [00:00<?]"
      ]
     },
     "metadata": {},
     "output_type": "display_data"
    },
    {
     "data": {
      "application/vnd.jupyter.widget-view+json": {
       "model_id": "",
       "version_major": 2,
       "version_minor": 0
      },
      "text/plain": [
       "[1/15]   7%|6          [00:00<?]"
      ]
     },
     "metadata": {},
     "output_type": "display_data"
    },
    {
     "data": {
      "application/vnd.jupyter.widget-view+json": {
       "model_id": "",
       "version_major": 2,
       "version_minor": 0
      },
      "text/plain": [
       "[1/15]   7%|6          [00:00<?]"
      ]
     },
     "metadata": {},
     "output_type": "display_data"
    },
    {
     "data": {
      "application/vnd.jupyter.widget-view+json": {
       "model_id": "",
       "version_major": 2,
       "version_minor": 0
      },
      "text/plain": [
       "[1/15]   7%|6          [00:00<?]"
      ]
     },
     "metadata": {},
     "output_type": "display_data"
    },
    {
     "data": {
      "application/vnd.jupyter.widget-view+json": {
       "model_id": "",
       "version_major": 2,
       "version_minor": 0
      },
      "text/plain": [
       "[1/15]   7%|6          [00:00<?]"
      ]
     },
     "metadata": {},
     "output_type": "display_data"
    },
    {
     "data": {
      "application/vnd.jupyter.widget-view+json": {
       "model_id": "",
       "version_major": 2,
       "version_minor": 0
      },
      "text/plain": [
       "[1/15]   7%|6          [00:00<?]"
      ]
     },
     "metadata": {},
     "output_type": "display_data"
    },
    {
     "data": {
      "application/vnd.jupyter.widget-view+json": {
       "model_id": "",
       "version_major": 2,
       "version_minor": 0
      },
      "text/plain": [
       "[1/15]   7%|6          [00:00<?]"
      ]
     },
     "metadata": {},
     "output_type": "display_data"
    },
    {
     "data": {
      "application/vnd.jupyter.widget-view+json": {
       "model_id": "",
       "version_major": 2,
       "version_minor": 0
      },
      "text/plain": [
       "[1/15]   7%|6          [00:00<?]"
      ]
     },
     "metadata": {},
     "output_type": "display_data"
    },
    {
     "data": {
      "application/vnd.jupyter.widget-view+json": {
       "model_id": "",
       "version_major": 2,
       "version_minor": 0
      },
      "text/plain": [
       "[1/15]   7%|6          [00:00<?]"
      ]
     },
     "metadata": {},
     "output_type": "display_data"
    },
    {
     "data": {
      "application/vnd.jupyter.widget-view+json": {
       "model_id": "",
       "version_major": 2,
       "version_minor": 0
      },
      "text/plain": [
       "[1/15]   7%|6          [00:00<?]"
      ]
     },
     "metadata": {},
     "output_type": "display_data"
    },
    {
     "data": {
      "application/vnd.jupyter.widget-view+json": {
       "model_id": "",
       "version_major": 2,
       "version_minor": 0
      },
      "text/plain": [
       "[1/15]   7%|6          [00:00<?]"
      ]
     },
     "metadata": {},
     "output_type": "display_data"
    },
    {
     "data": {
      "application/vnd.jupyter.widget-view+json": {
       "model_id": "",
       "version_major": 2,
       "version_minor": 0
      },
      "text/plain": [
       "[1/15]   7%|6          [00:00<?]"
      ]
     },
     "metadata": {},
     "output_type": "display_data"
    },
    {
     "data": {
      "application/vnd.jupyter.widget-view+json": {
       "model_id": "",
       "version_major": 2,
       "version_minor": 0
      },
      "text/plain": [
       "[1/15]   7%|6          [00:00<?]"
      ]
     },
     "metadata": {},
     "output_type": "display_data"
    },
    {
     "data": {
      "application/vnd.jupyter.widget-view+json": {
       "model_id": "",
       "version_major": 2,
       "version_minor": 0
      },
      "text/plain": [
       "[1/15]   7%|6          [00:00<?]"
      ]
     },
     "metadata": {},
     "output_type": "display_data"
    },
    {
     "data": {
      "application/vnd.jupyter.widget-view+json": {
       "model_id": "",
       "version_major": 2,
       "version_minor": 0
      },
      "text/plain": [
       "[1/15]   7%|6          [00:00<?]"
      ]
     },
     "metadata": {},
     "output_type": "display_data"
    },
    {
     "data": {
      "application/vnd.jupyter.widget-view+json": {
       "model_id": "",
       "version_major": 2,
       "version_minor": 0
      },
      "text/plain": [
       "[1/15]   7%|6          [00:00<?]"
      ]
     },
     "metadata": {},
     "output_type": "display_data"
    },
    {
     "data": {
      "application/vnd.jupyter.widget-view+json": {
       "model_id": "",
       "version_major": 2,
       "version_minor": 0
      },
      "text/plain": [
       "[1/15]   7%|6          [00:00<?]"
      ]
     },
     "metadata": {},
     "output_type": "display_data"
    },
    {
     "data": {
      "application/vnd.jupyter.widget-view+json": {
       "model_id": "",
       "version_major": 2,
       "version_minor": 0
      },
      "text/plain": [
       "[1/15]   7%|6          [00:00<?]"
      ]
     },
     "metadata": {},
     "output_type": "display_data"
    },
    {
     "data": {
      "application/vnd.jupyter.widget-view+json": {
       "model_id": "",
       "version_major": 2,
       "version_minor": 0
      },
      "text/plain": [
       "[1/15]   7%|6          [00:00<?]"
      ]
     },
     "metadata": {},
     "output_type": "display_data"
    },
    {
     "data": {
      "application/vnd.jupyter.widget-view+json": {
       "model_id": "",
       "version_major": 2,
       "version_minor": 0
      },
      "text/plain": [
       "[1/15]   7%|6          [00:00<?]"
      ]
     },
     "metadata": {},
     "output_type": "display_data"
    },
    {
     "data": {
      "application/vnd.jupyter.widget-view+json": {
       "model_id": "",
       "version_major": 2,
       "version_minor": 0
      },
      "text/plain": [
       "[1/15]   7%|6          [00:00<?]"
      ]
     },
     "metadata": {},
     "output_type": "display_data"
    },
    {
     "data": {
      "application/vnd.jupyter.widget-view+json": {
       "model_id": "",
       "version_major": 2,
       "version_minor": 0
      },
      "text/plain": [
       "[1/15]   7%|6          [00:00<?]"
      ]
     },
     "metadata": {},
     "output_type": "display_data"
    },
    {
     "data": {
      "application/vnd.jupyter.widget-view+json": {
       "model_id": "",
       "version_major": 2,
       "version_minor": 0
      },
      "text/plain": [
       "[1/15]   7%|6          [00:00<?]"
      ]
     },
     "metadata": {},
     "output_type": "display_data"
    },
    {
     "data": {
      "application/vnd.jupyter.widget-view+json": {
       "model_id": "",
       "version_major": 2,
       "version_minor": 0
      },
      "text/plain": [
       "[1/15]   7%|6          [00:00<?]"
      ]
     },
     "metadata": {},
     "output_type": "display_data"
    },
    {
     "data": {
      "application/vnd.jupyter.widget-view+json": {
       "model_id": "",
       "version_major": 2,
       "version_minor": 0
      },
      "text/plain": [
       "[1/15]   7%|6          [00:00<?]"
      ]
     },
     "metadata": {},
     "output_type": "display_data"
    },
    {
     "data": {
      "application/vnd.jupyter.widget-view+json": {
       "model_id": "",
       "version_major": 2,
       "version_minor": 0
      },
      "text/plain": [
       "[1/15]   7%|6          [00:00<?]"
      ]
     },
     "metadata": {},
     "output_type": "display_data"
    },
    {
     "data": {
      "application/vnd.jupyter.widget-view+json": {
       "model_id": "",
       "version_major": 2,
       "version_minor": 0
      },
      "text/plain": [
       "[1/15]   7%|6          [00:00<?]"
      ]
     },
     "metadata": {},
     "output_type": "display_data"
    },
    {
     "data": {
      "application/vnd.jupyter.widget-view+json": {
       "model_id": "",
       "version_major": 2,
       "version_minor": 0
      },
      "text/plain": [
       "[1/15]   7%|6          [00:00<?]"
      ]
     },
     "metadata": {},
     "output_type": "display_data"
    },
    {
     "data": {
      "application/vnd.jupyter.widget-view+json": {
       "model_id": "",
       "version_major": 2,
       "version_minor": 0
      },
      "text/plain": [
       "[1/15]   7%|6          [00:00<?]"
      ]
     },
     "metadata": {},
     "output_type": "display_data"
    },
    {
     "data": {
      "application/vnd.jupyter.widget-view+json": {
       "model_id": "",
       "version_major": 2,
       "version_minor": 0
      },
      "text/plain": [
       "[1/15]   7%|6          [00:00<?]"
      ]
     },
     "metadata": {},
     "output_type": "display_data"
    },
    {
     "data": {
      "application/vnd.jupyter.widget-view+json": {
       "model_id": "",
       "version_major": 2,
       "version_minor": 0
      },
      "text/plain": [
       "[1/15]   7%|6          [00:00<?]"
      ]
     },
     "metadata": {},
     "output_type": "display_data"
    },
    {
     "data": {
      "application/vnd.jupyter.widget-view+json": {
       "model_id": "",
       "version_major": 2,
       "version_minor": 0
      },
      "text/plain": [
       "[1/15]   7%|6          [00:00<?]"
      ]
     },
     "metadata": {},
     "output_type": "display_data"
    },
    {
     "data": {
      "application/vnd.jupyter.widget-view+json": {
       "model_id": "",
       "version_major": 2,
       "version_minor": 0
      },
      "text/plain": [
       "[1/15]   7%|6          [00:00<?]"
      ]
     },
     "metadata": {},
     "output_type": "display_data"
    },
    {
     "data": {
      "application/vnd.jupyter.widget-view+json": {
       "model_id": "",
       "version_major": 2,
       "version_minor": 0
      },
      "text/plain": [
       "[1/15]   7%|6          [00:00<?]"
      ]
     },
     "metadata": {},
     "output_type": "display_data"
    },
    {
     "data": {
      "application/vnd.jupyter.widget-view+json": {
       "model_id": "",
       "version_major": 2,
       "version_minor": 0
      },
      "text/plain": [
       "[1/15]   7%|6          [00:00<?]"
      ]
     },
     "metadata": {},
     "output_type": "display_data"
    },
    {
     "data": {
      "application/vnd.jupyter.widget-view+json": {
       "model_id": "",
       "version_major": 2,
       "version_minor": 0
      },
      "text/plain": [
       "[1/15]   7%|6          [00:00<?]"
      ]
     },
     "metadata": {},
     "output_type": "display_data"
    },
    {
     "data": {
      "application/vnd.jupyter.widget-view+json": {
       "model_id": "",
       "version_major": 2,
       "version_minor": 0
      },
      "text/plain": [
       "[1/15]   7%|6          [00:00<?]"
      ]
     },
     "metadata": {},
     "output_type": "display_data"
    },
    {
     "data": {
      "application/vnd.jupyter.widget-view+json": {
       "model_id": "",
       "version_major": 2,
       "version_minor": 0
      },
      "text/plain": [
       "[1/15]   7%|6          [00:00<?]"
      ]
     },
     "metadata": {},
     "output_type": "display_data"
    },
    {
     "data": {
      "application/vnd.jupyter.widget-view+json": {
       "model_id": "",
       "version_major": 2,
       "version_minor": 0
      },
      "text/plain": [
       "[1/15]   7%|6          [00:00<?]"
      ]
     },
     "metadata": {},
     "output_type": "display_data"
    },
    {
     "data": {
      "application/vnd.jupyter.widget-view+json": {
       "model_id": "",
       "version_major": 2,
       "version_minor": 0
      },
      "text/plain": [
       "[1/15]   7%|6          [00:00<?]"
      ]
     },
     "metadata": {},
     "output_type": "display_data"
    },
    {
     "data": {
      "application/vnd.jupyter.widget-view+json": {
       "model_id": "",
       "version_major": 2,
       "version_minor": 0
      },
      "text/plain": [
       "[1/15]   7%|6          [00:00<?]"
      ]
     },
     "metadata": {},
     "output_type": "display_data"
    },
    {
     "data": {
      "application/vnd.jupyter.widget-view+json": {
       "model_id": "",
       "version_major": 2,
       "version_minor": 0
      },
      "text/plain": [
       "[1/15]   7%|6          [00:00<?]"
      ]
     },
     "metadata": {},
     "output_type": "display_data"
    },
    {
     "data": {
      "application/vnd.jupyter.widget-view+json": {
       "model_id": "",
       "version_major": 2,
       "version_minor": 0
      },
      "text/plain": [
       "[1/15]   7%|6          [00:00<?]"
      ]
     },
     "metadata": {},
     "output_type": "display_data"
    },
    {
     "data": {
      "application/vnd.jupyter.widget-view+json": {
       "model_id": "",
       "version_major": 2,
       "version_minor": 0
      },
      "text/plain": [
       "[1/15]   7%|6          [00:00<?]"
      ]
     },
     "metadata": {},
     "output_type": "display_data"
    },
    {
     "data": {
      "application/vnd.jupyter.widget-view+json": {
       "model_id": "",
       "version_major": 2,
       "version_minor": 0
      },
      "text/plain": [
       "[1/15]   7%|6          [00:00<?]"
      ]
     },
     "metadata": {},
     "output_type": "display_data"
    },
    {
     "data": {
      "application/vnd.jupyter.widget-view+json": {
       "model_id": "",
       "version_major": 2,
       "version_minor": 0
      },
      "text/plain": [
       "[1/15]   7%|6          [00:00<?]"
      ]
     },
     "metadata": {},
     "output_type": "display_data"
    },
    {
     "data": {
      "application/vnd.jupyter.widget-view+json": {
       "model_id": "",
       "version_major": 2,
       "version_minor": 0
      },
      "text/plain": [
       "[1/15]   7%|6          [00:00<?]"
      ]
     },
     "metadata": {},
     "output_type": "display_data"
    },
    {
     "data": {
      "application/vnd.jupyter.widget-view+json": {
       "model_id": "",
       "version_major": 2,
       "version_minor": 0
      },
      "text/plain": [
       "[1/15]   7%|6          [00:00<?]"
      ]
     },
     "metadata": {},
     "output_type": "display_data"
    },
    {
     "data": {
      "application/vnd.jupyter.widget-view+json": {
       "model_id": "",
       "version_major": 2,
       "version_minor": 0
      },
      "text/plain": [
       "[1/15]   7%|6          [00:00<?]"
      ]
     },
     "metadata": {},
     "output_type": "display_data"
    },
    {
     "data": {
      "application/vnd.jupyter.widget-view+json": {
       "model_id": "",
       "version_major": 2,
       "version_minor": 0
      },
      "text/plain": [
       "[1/15]   7%|6          [00:00<?]"
      ]
     },
     "metadata": {},
     "output_type": "display_data"
    },
    {
     "data": {
      "application/vnd.jupyter.widget-view+json": {
       "model_id": "",
       "version_major": 2,
       "version_minor": 0
      },
      "text/plain": [
       "[1/15]   7%|6          [00:00<?]"
      ]
     },
     "metadata": {},
     "output_type": "display_data"
    },
    {
     "data": {
      "application/vnd.jupyter.widget-view+json": {
       "model_id": "",
       "version_major": 2,
       "version_minor": 0
      },
      "text/plain": [
       "[1/15]   7%|6          [00:00<?]"
      ]
     },
     "metadata": {},
     "output_type": "display_data"
    },
    {
     "data": {
      "application/vnd.jupyter.widget-view+json": {
       "model_id": "",
       "version_major": 2,
       "version_minor": 0
      },
      "text/plain": [
       "[1/15]   7%|6          [00:00<?]"
      ]
     },
     "metadata": {},
     "output_type": "display_data"
    },
    {
     "data": {
      "application/vnd.jupyter.widget-view+json": {
       "model_id": "",
       "version_major": 2,
       "version_minor": 0
      },
      "text/plain": [
       "[1/15]   7%|6          [00:00<?]"
      ]
     },
     "metadata": {},
     "output_type": "display_data"
    },
    {
     "data": {
      "application/vnd.jupyter.widget-view+json": {
       "model_id": "",
       "version_major": 2,
       "version_minor": 0
      },
      "text/plain": [
       "[1/15]   7%|6          [00:00<?]"
      ]
     },
     "metadata": {},
     "output_type": "display_data"
    },
    {
     "data": {
      "application/vnd.jupyter.widget-view+json": {
       "model_id": "",
       "version_major": 2,
       "version_minor": 0
      },
      "text/plain": [
       "[1/15]   7%|6          [00:00<?]"
      ]
     },
     "metadata": {},
     "output_type": "display_data"
    },
    {
     "data": {
      "application/vnd.jupyter.widget-view+json": {
       "model_id": "",
       "version_major": 2,
       "version_minor": 0
      },
      "text/plain": [
       "[1/15]   7%|6          [00:00<?]"
      ]
     },
     "metadata": {},
     "output_type": "display_data"
    },
    {
     "data": {
      "application/vnd.jupyter.widget-view+json": {
       "model_id": "",
       "version_major": 2,
       "version_minor": 0
      },
      "text/plain": [
       "[1/15]   7%|6          [00:00<?]"
      ]
     },
     "metadata": {},
     "output_type": "display_data"
    },
    {
     "data": {
      "application/vnd.jupyter.widget-view+json": {
       "model_id": "",
       "version_major": 2,
       "version_minor": 0
      },
      "text/plain": [
       "[1/15]   7%|6          [00:00<?]"
      ]
     },
     "metadata": {},
     "output_type": "display_data"
    },
    {
     "data": {
      "application/vnd.jupyter.widget-view+json": {
       "model_id": "",
       "version_major": 2,
       "version_minor": 0
      },
      "text/plain": [
       "[1/15]   7%|6          [00:00<?]"
      ]
     },
     "metadata": {},
     "output_type": "display_data"
    },
    {
     "data": {
      "application/vnd.jupyter.widget-view+json": {
       "model_id": "",
       "version_major": 2,
       "version_minor": 0
      },
      "text/plain": [
       "[1/15]   7%|6          [00:00<?]"
      ]
     },
     "metadata": {},
     "output_type": "display_data"
    },
    {
     "data": {
      "application/vnd.jupyter.widget-view+json": {
       "model_id": "",
       "version_major": 2,
       "version_minor": 0
      },
      "text/plain": [
       "[1/15]   7%|6          [00:00<?]"
      ]
     },
     "metadata": {},
     "output_type": "display_data"
    },
    {
     "data": {
      "application/vnd.jupyter.widget-view+json": {
       "model_id": "",
       "version_major": 2,
       "version_minor": 0
      },
      "text/plain": [
       "[1/15]   7%|6          [00:00<?]"
      ]
     },
     "metadata": {},
     "output_type": "display_data"
    },
    {
     "data": {
      "application/vnd.jupyter.widget-view+json": {
       "model_id": "",
       "version_major": 2,
       "version_minor": 0
      },
      "text/plain": [
       "[1/15]   7%|6          [00:00<?]"
      ]
     },
     "metadata": {},
     "output_type": "display_data"
    },
    {
     "data": {
      "application/vnd.jupyter.widget-view+json": {
       "model_id": "",
       "version_major": 2,
       "version_minor": 0
      },
      "text/plain": [
       "[1/15]   7%|6          [00:00<?]"
      ]
     },
     "metadata": {},
     "output_type": "display_data"
    },
    {
     "data": {
      "application/vnd.jupyter.widget-view+json": {
       "model_id": "",
       "version_major": 2,
       "version_minor": 0
      },
      "text/plain": [
       "[1/15]   7%|6          [00:00<?]"
      ]
     },
     "metadata": {},
     "output_type": "display_data"
    },
    {
     "data": {
      "application/vnd.jupyter.widget-view+json": {
       "model_id": "",
       "version_major": 2,
       "version_minor": 0
      },
      "text/plain": [
       "[1/15]   7%|6          [00:00<?]"
      ]
     },
     "metadata": {},
     "output_type": "display_data"
    },
    {
     "data": {
      "application/vnd.jupyter.widget-view+json": {
       "model_id": "",
       "version_major": 2,
       "version_minor": 0
      },
      "text/plain": [
       "[1/15]   7%|6          [00:00<?]"
      ]
     },
     "metadata": {},
     "output_type": "display_data"
    },
    {
     "data": {
      "application/vnd.jupyter.widget-view+json": {
       "model_id": "",
       "version_major": 2,
       "version_minor": 0
      },
      "text/plain": [
       "[1/15]   7%|6          [00:00<?]"
      ]
     },
     "metadata": {},
     "output_type": "display_data"
    },
    {
     "data": {
      "application/vnd.jupyter.widget-view+json": {
       "model_id": "",
       "version_major": 2,
       "version_minor": 0
      },
      "text/plain": [
       "[1/15]   7%|6          [00:00<?]"
      ]
     },
     "metadata": {},
     "output_type": "display_data"
    },
    {
     "data": {
      "application/vnd.jupyter.widget-view+json": {
       "model_id": "",
       "version_major": 2,
       "version_minor": 0
      },
      "text/plain": [
       "[1/15]   7%|6          [00:00<?]"
      ]
     },
     "metadata": {},
     "output_type": "display_data"
    },
    {
     "data": {
      "application/vnd.jupyter.widget-view+json": {
       "model_id": "",
       "version_major": 2,
       "version_minor": 0
      },
      "text/plain": [
       "[1/15]   7%|6          [00:00<?]"
      ]
     },
     "metadata": {},
     "output_type": "display_data"
    },
    {
     "data": {
      "application/vnd.jupyter.widget-view+json": {
       "model_id": "",
       "version_major": 2,
       "version_minor": 0
      },
      "text/plain": [
       "[1/15]   7%|6          [00:00<?]"
      ]
     },
     "metadata": {},
     "output_type": "display_data"
    },
    {
     "data": {
      "application/vnd.jupyter.widget-view+json": {
       "model_id": "",
       "version_major": 2,
       "version_minor": 0
      },
      "text/plain": [
       "[1/15]   7%|6          [00:00<?]"
      ]
     },
     "metadata": {},
     "output_type": "display_data"
    },
    {
     "data": {
      "application/vnd.jupyter.widget-view+json": {
       "model_id": "",
       "version_major": 2,
       "version_minor": 0
      },
      "text/plain": [
       "[1/15]   7%|6          [00:00<?]"
      ]
     },
     "metadata": {},
     "output_type": "display_data"
    },
    {
     "data": {
      "application/vnd.jupyter.widget-view+json": {
       "model_id": "",
       "version_major": 2,
       "version_minor": 0
      },
      "text/plain": [
       "[1/15]   7%|6          [00:00<?]"
      ]
     },
     "metadata": {},
     "output_type": "display_data"
    },
    {
     "data": {
      "application/vnd.jupyter.widget-view+json": {
       "model_id": "",
       "version_major": 2,
       "version_minor": 0
      },
      "text/plain": [
       "[1/15]   7%|6          [00:00<?]"
      ]
     },
     "metadata": {},
     "output_type": "display_data"
    },
    {
     "data": {
      "application/vnd.jupyter.widget-view+json": {
       "model_id": "",
       "version_major": 2,
       "version_minor": 0
      },
      "text/plain": [
       "[1/15]   7%|6          [00:00<?]"
      ]
     },
     "metadata": {},
     "output_type": "display_data"
    },
    {
     "data": {
      "application/vnd.jupyter.widget-view+json": {
       "model_id": "",
       "version_major": 2,
       "version_minor": 0
      },
      "text/plain": [
       "[1/15]   7%|6          [00:00<?]"
      ]
     },
     "metadata": {},
     "output_type": "display_data"
    },
    {
     "data": {
      "application/vnd.jupyter.widget-view+json": {
       "model_id": "",
       "version_major": 2,
       "version_minor": 0
      },
      "text/plain": [
       "[1/15]   7%|6          [00:00<?]"
      ]
     },
     "metadata": {},
     "output_type": "display_data"
    },
    {
     "data": {
      "application/vnd.jupyter.widget-view+json": {
       "model_id": "",
       "version_major": 2,
       "version_minor": 0
      },
      "text/plain": [
       "[1/15]   7%|6          [00:00<?]"
      ]
     },
     "metadata": {},
     "output_type": "display_data"
    },
    {
     "data": {
      "application/vnd.jupyter.widget-view+json": {
       "model_id": "",
       "version_major": 2,
       "version_minor": 0
      },
      "text/plain": [
       "[1/15]   7%|6          [00:00<?]"
      ]
     },
     "metadata": {},
     "output_type": "display_data"
    },
    {
     "data": {
      "application/vnd.jupyter.widget-view+json": {
       "model_id": "",
       "version_major": 2,
       "version_minor": 0
      },
      "text/plain": [
       "[1/15]   7%|6          [00:00<?]"
      ]
     },
     "metadata": {},
     "output_type": "display_data"
    },
    {
     "data": {
      "application/vnd.jupyter.widget-view+json": {
       "model_id": "",
       "version_major": 2,
       "version_minor": 0
      },
      "text/plain": [
       "[1/15]   7%|6          [00:00<?]"
      ]
     },
     "metadata": {},
     "output_type": "display_data"
    },
    {
     "data": {
      "application/vnd.jupyter.widget-view+json": {
       "model_id": "",
       "version_major": 2,
       "version_minor": 0
      },
      "text/plain": [
       "[1/15]   7%|6          [00:00<?]"
      ]
     },
     "metadata": {},
     "output_type": "display_data"
    },
    {
     "data": {
      "application/vnd.jupyter.widget-view+json": {
       "model_id": "",
       "version_major": 2,
       "version_minor": 0
      },
      "text/plain": [
       "[1/15]   7%|6          [00:00<?]"
      ]
     },
     "metadata": {},
     "output_type": "display_data"
    },
    {
     "data": {
      "application/vnd.jupyter.widget-view+json": {
       "model_id": "",
       "version_major": 2,
       "version_minor": 0
      },
      "text/plain": [
       "[1/15]   7%|6          [00:00<?]"
      ]
     },
     "metadata": {},
     "output_type": "display_data"
    },
    {
     "data": {
      "application/vnd.jupyter.widget-view+json": {
       "model_id": "",
       "version_major": 2,
       "version_minor": 0
      },
      "text/plain": [
       "[1/15]   7%|6          [00:00<?]"
      ]
     },
     "metadata": {},
     "output_type": "display_data"
    },
    {
     "data": {
      "application/vnd.jupyter.widget-view+json": {
       "model_id": "",
       "version_major": 2,
       "version_minor": 0
      },
      "text/plain": [
       "[1/15]   7%|6          [00:00<?]"
      ]
     },
     "metadata": {},
     "output_type": "display_data"
    },
    {
     "data": {
      "application/vnd.jupyter.widget-view+json": {
       "model_id": "",
       "version_major": 2,
       "version_minor": 0
      },
      "text/plain": [
       "[1/15]   7%|6          [00:00<?]"
      ]
     },
     "metadata": {},
     "output_type": "display_data"
    }
   ],
   "source": [
    "# Entrenar\n",
    "trainer.run(train_loader, epochs)\n",
    "\n",
    "# Cerramos el dashboard\n",
    "writer.close()"
   ]
  },
  {
   "cell_type": "code",
   "execution_count": 24,
   "id": "c135c317-3e75-4766-a3a4-154352c12a7e",
   "metadata": {},
   "outputs": [],
   "source": [
    "import imageio\n",
    "import glob"
   ]
  },
  {
   "cell_type": "code",
   "execution_count": 25,
   "id": "90891f22-95c1-4c54-9912-25e7c632d554",
   "metadata": {},
   "outputs": [],
   "source": [
    "lista_imagenes = [\n",
    "    PIL.Image.open(x) for x in sorted(glob.glob(output_dir + \"fake_*.png\"))\n",
    "]"
   ]
  },
  {
   "cell_type": "code",
   "execution_count": 26,
   "id": "dc824240-ef28-4e3c-9763-cd04a21eba3a",
   "metadata": {},
   "outputs": [],
   "source": [
    "archivo_salida = output_dir + \"GAN_generate_animation.gif\"\n",
    "imageio.mimsave(archivo_salida, lista_imagenes, \"GIF\")"
   ]
  },
  {
   "cell_type": "markdown",
   "id": "5fb2ea1e-9769-4f90-b03d-0785eab5b2a1",
   "metadata": {},
   "source": [
    "##### Podemos observar el progreso de la red generadora durante el entrenamiento de la GAN\n"
   ]
  },
  {
   "cell_type": "markdown",
   "id": "e4ca7960-7907-4764-8c20-b0a377a43ebf",
   "metadata": {},
   "source": [
    "<img src=output/GAN_generate_animation.gif/>"
   ]
  },
  {
   "cell_type": "markdown",
   "id": "057f77e5",
   "metadata": {},
   "source": [
    "#### Evaluación de artefactos generados \n",
    "- Mostrar métricas clásicas y geométricas (FID, InceptionScore).\n",
    "- Comparar test estadisticos de distribuciones de datos reales y generados.\n",
    "- Usar clasificadores para datos reales."
   ]
  },
  {
   "cell_type": "code",
   "execution_count": 27,
   "id": "c3cf51e1-8f4f-41de-8bc8-a5bb9a5c7317",
   "metadata": {},
   "outputs": [],
   "source": [
    "import PIL.Image as Image\n",
    "\n",
    "\n",
    "def interpolate(batch):\n",
    "    arr = []\n",
    "    for img in batch:\n",
    "        pil_img = tfs.ToPILImage()(img)\n",
    "        pil_img = pil_img.convert(\"RGB\")\n",
    "        resized_img = pil_img.resize((128, 128), Image.BILINEAR)\n",
    "        arr.append(tfs.ToTensor()(resized_img))\n",
    "    return torch.stack(arr)\n",
    "\n",
    "\n",
    "def evaluation_step(engine, batch):\n",
    "    real, _ = batch\n",
    "    with torch.no_grad():\n",
    "        noise = get_noise()\n",
    "        G.eval()\n",
    "        fake_batch = G(noise)\n",
    "        fake = interpolate(fake_batch)\n",
    "        real = interpolate(real)\n",
    "        return fake, real"
   ]
  },
  {
   "cell_type": "code",
   "execution_count": 28,
   "id": "c36a745e-163c-4c46-b1a6-6b10211fad16",
   "metadata": {},
   "outputs": [],
   "source": [
    "from ignite.metrics import FID, InceptionScore"
   ]
  },
  {
   "cell_type": "code",
   "execution_count": 29,
   "id": "e87b95d4-cbed-4434-9bd5-fbc490e371f7",
   "metadata": {},
   "outputs": [],
   "source": [
    "fid_metric = FID(device=device)\n",
    "is_metric = InceptionScore(device=device, output_transform=lambda x: x[0])"
   ]
  },
  {
   "cell_type": "code",
   "execution_count": 30,
   "id": "3e30c06e-4e0b-4eb7-8c74-01da0ce0c10d",
   "metadata": {},
   "outputs": [],
   "source": [
    "evaluator = Engine(evaluation_step)\n",
    "\n",
    "imgs_fake = []\n",
    "imgs_reals = []\n",
    "\n",
    "\n",
    "@evaluator.on(Events.ITERATION_COMPLETED(every=1))\n",
    "def load_img(engine):\n",
    "    global imgs_fake\n",
    "    global imgs_reals\n",
    "    fake, real = engine.state.output\n",
    "    imgs_fake += fake\n",
    "    imgs_reals += real"
   ]
  },
  {
   "cell_type": "code",
   "execution_count": 31,
   "id": "209b36ec-609e-4a36-a6e1-9eebb31a2ceb",
   "metadata": {},
   "outputs": [],
   "source": [
    "fid_metric.attach(evaluator, \"fid\")\n",
    "is_metric.attach(evaluator, \"is\")"
   ]
  },
  {
   "cell_type": "code",
   "execution_count": 32,
   "id": "166e416f-076f-4558-8419-c17d5ab21053",
   "metadata": {},
   "outputs": [],
   "source": [
    "evaluator.run(test_loader)\n",
    "metrics = evaluator.state.metrics\n",
    "fid_score = metrics[\"fid\"]\n",
    "is_score = metrics[\"is\"]"
   ]
  },
  {
   "cell_type": "markdown",
   "id": "9b278831-5098-4edb-9783-bf0db0450c29",
   "metadata": {},
   "source": [
    "##### Inception Score"
   ]
  },
  {
   "cell_type": "code",
   "execution_count": 33,
   "id": "ca9f20fb-65e9-450b-97fd-fa2ee69e5237",
   "metadata": {},
   "outputs": [
    {
     "data": {
      "text/plain": [
       "9.217284915136549"
      ]
     },
     "execution_count": 33,
     "metadata": {},
     "output_type": "execute_result"
    }
   ],
   "source": [
    "is_score"
   ]
  },
  {
   "cell_type": "markdown",
   "id": "04dbf6ec-57f6-46fc-bc4c-61326c0a9b6a",
   "metadata": {},
   "source": [
    "##### FID Score"
   ]
  },
  {
   "cell_type": "code",
   "execution_count": 34,
   "id": "5764fad6-9f04-4960-8145-5af649c73146",
   "metadata": {},
   "outputs": [
    {
     "data": {
      "text/plain": [
       "0.12674234954824082"
      ]
     },
     "execution_count": 34,
     "metadata": {},
     "output_type": "execute_result"
    }
   ],
   "source": [
    "fid_score"
   ]
  },
  {
   "cell_type": "markdown",
   "id": "64e48927-2e44-45e2-8ec9-24df5ef45753",
   "metadata": {},
   "source": [
    "##### Distribucion de artefactos y datos reales\n",
    "Para visualizar y comparar sus distribuciones vamos a utilizar PCA"
   ]
  },
  {
   "cell_type": "code",
   "execution_count": 35,
   "id": "febd42e6-0cfb-4edb-9e4f-19a1e0e84ae5",
   "metadata": {},
   "outputs": [],
   "source": [
    "imgs_reals_list = [i.numpy().tolist() for i in (imgs_reals)]\n",
    "imgs_fake_list = [i.numpy().tolist() for i in (imgs_fake)]\n",
    "all_data = imgs_reals_list + imgs_fake_list\n",
    "all_data = np.array(all_data)"
   ]
  },
  {
   "cell_type": "code",
   "execution_count": 36,
   "id": "42dd6b35-dda9-42e2-87ee-7bce16e9ab5f",
   "metadata": {},
   "outputs": [],
   "source": [
    "from sklearn.decomposition import PCA\n",
    "\n",
    "all_data = all_data.reshape(512, -1)\n",
    "\n",
    "pca = PCA(n_components=2).fit(all_data)\n",
    "Xp = pca.transform(all_data)"
   ]
  },
  {
   "cell_type": "code",
   "execution_count": 37,
   "id": "80865c18-a5f4-4de4-af60-2fb62d562600",
   "metadata": {},
   "outputs": [],
   "source": [
    "import matplotlib.pyplot as plt\n",
    "\n",
    "plt.style.use(\n",
    "    \"https://github.com/dhaitz/matplotlib-stylesheets/raw/master/pitayasmoothie-light.mplstyle\"\n",
    ")\n",
    "plt.close()\n",
    "colors = np.zeros(256).tolist() + np.ones(256).tolist()"
   ]
  },
  {
   "cell_type": "code",
   "execution_count": 38,
   "id": "74639c0b-ad59-4ee7-8135-9ba578068ae1",
   "metadata": {},
   "outputs": [
    {
     "data": {
      "text/plain": [
       "<matplotlib.legend.Legend at 0x7fd776766340>"
      ]
     },
     "execution_count": 38,
     "metadata": {},
     "output_type": "execute_result"
    },
    {
     "data": {
      "image/png": "[encoded data removed]",
      "text/plain": [
       "<Figure size 640x480 with 1 Axes>"
      ]
     },
     "metadata": {},
     "output_type": "display_data"
    }
   ],
   "source": [
    "%matplotlib inline\n",
    "import pandas as pd\n",
    "\n",
    "name_dic = {1.0: \"Real\", 0: \"Fake\"}\n",
    "\n",
    "\n",
    "pca_df = pd.DataFrame(Xp, columns=[\"PC1\", \"PC2\"])\n",
    "labels = pd.DataFrame([name_dic[c] for c in colors], columns=[\"class\"])\n",
    "pca_df = pd.concat([pca_df, labels], axis=1)\n",
    "\n",
    "groups = pca_df.groupby(\"class\")\n",
    "\n",
    "fig, ax = plt.subplots()\n",
    "ax.margins(0.05)  # Optional, just adds 5% padding to the autoscaling\n",
    "for name, group in groups:\n",
    "    ax.plot(group.PC1, group.PC2, marker=\"o\", linestyle=\"\", ms=5, label=name, alpha=1)\n",
    "\n",
    "plt.title(\"Generated and Real Samples from Iberian Pottery Dataset\")\n",
    "ax.legend()"
   ]
  },
  {
   "cell_type": "code",
   "execution_count": 39,
   "id": "204e09da-874d-474c-a74b-114d468b1d82",
   "metadata": {},
   "outputs": [
    {
     "data": {
      "text/plain": [
       "<seaborn.axisgrid.PairGrid at 0x7fd716cf0fa0>"
      ]
     },
     "execution_count": 39,
     "metadata": {},
     "output_type": "execute_result"
    },
    {
     "data": {
      "image/png": "[encoded data removed]",
      "text/plain": [
       "<Figure size 581x500 with 6 Axes>"
      ]
     },
     "metadata": {},
     "output_type": "display_data"
    }
   ],
   "source": [
    "import seaborn as sns\n",
    "\n",
    "sns.pairplot(pca_df, hue=\"class\")"
   ]
  },
  {
   "cell_type": "markdown",
   "id": "a627bf00-9972-4256-bb4e-befe7775ce2f",
   "metadata": {},
   "source": [
    "##### Geometric Score"
   ]
  },
  {
   "cell_type": "code",
   "execution_count": 40,
   "id": "e02fc5e2-4707-4c2e-9db1-bde520752bf0",
   "metadata": {},
   "outputs": [
    {
     "name": "stdout",
     "output_type": "stream",
     "text": [
      "fatal: destination path 'geometry-score' already exists and is not an empty directory.\n"
     ]
    }
   ],
   "source": [
    "!git clone https://github.com/KhrulkovV/geometry-score.git"
   ]
  },
  {
   "cell_type": "code",
   "execution_count": 41,
   "id": "2c92cb20-5384-4804-a8f5-9a5b454215dd",
   "metadata": {},
   "outputs": [],
   "source": [
    "import sys\n",
    "\n",
    "sys.path.append(\"./geometry-score/\")\n",
    "import gs"
   ]
  },
  {
   "cell_type": "code",
   "execution_count": 42,
   "id": "15dc655e-45f3-4d2b-8bca-63f6bf5f4c9c",
   "metadata": {},
   "outputs": [],
   "source": [
    "all_data[all_data > 0.5] = 1\n",
    "all_data[all_data < 0.5] = 0"
   ]
  },
  {
   "cell_type": "code",
   "execution_count": 43,
   "id": "06b707bb-c7c4-4b9b-b83b-03402a0b3066",
   "metadata": {},
   "outputs": [],
   "source": [
    "y_1 = all_data[0:256]\n",
    "x_1 = all_data[256:]"
   ]
  },
  {
   "cell_type": "code",
   "execution_count": 44,
   "id": "01f6b5dd-a3b8-4cbc-b20e-2b3d84cf797c",
   "metadata": {},
   "outputs": [
    {
     "name": "stdout",
     "output_type": "stream",
     "text": [
      "Done 0/256\n",
      "Done 10/256\n",
      "Done 20/256\n",
      "Done 30/256\n",
      "Done 40/256\n",
      "Done 50/256\n",
      "Done 60/256\n",
      "Done 70/256\n",
      "Done 80/256\n",
      "Done 90/256\n",
      "Done 100/256\n",
      "Done 110/256\n",
      "Done 120/256\n",
      "Done 130/256\n",
      "Done 140/256\n",
      "Done 150/256\n",
      "Done 160/256\n",
      "Done 170/256\n",
      "Done 180/256\n",
      "Done 190/256\n",
      "Done 200/256\n",
      "Done 210/256\n",
      "Done 220/256\n",
      "Done 230/256\n",
      "Done 240/256\n",
      "Done 250/256\n"
     ]
    }
   ],
   "source": [
    "rlts_fake = gs.rlts(x_1, gamma=1.0 / 128, n=x_1.shape[0])\n",
    "mrlt_fake = np.mean(rlts_fake, axis=0)"
   ]
  },
  {
   "cell_type": "code",
   "execution_count": 45,
   "id": "9a35099f-cfbf-4eac-98b3-c99c68373f1d",
   "metadata": {
    "scrolled": true
   },
   "outputs": [
    {
     "name": "stdout",
     "output_type": "stream",
     "text": [
      "Done 0/256\n",
      "Done 10/256\n",
      "Done 20/256\n",
      "Done 30/256\n",
      "Done 40/256\n",
      "Done 50/256\n",
      "Done 60/256\n",
      "Done 70/256\n",
      "Done 80/256\n",
      "Done 90/256\n",
      "Done 100/256\n",
      "Done 110/256\n",
      "Done 120/256\n",
      "Done 130/256\n",
      "Done 140/256\n",
      "Done 150/256\n",
      "Done 160/256\n",
      "Done 170/256\n",
      "Done 180/256\n",
      "Done 190/256\n",
      "Done 200/256\n",
      "Done 210/256\n",
      "Done 220/256\n",
      "Done 230/256\n",
      "Done 240/256\n",
      "Done 250/256\n"
     ]
    }
   ],
   "source": [
    "rlts_real = gs.rlts(y_1, gamma=1.0 / 128, n=y_1.shape[0])\n",
    "mrlt_real = np.mean(rlts_real, axis=0)"
   ]
  },
  {
   "cell_type": "code",
   "execution_count": 46,
   "id": "84b11bba-1d0c-43f8-ae95-304cbb2cf433",
   "metadata": {},
   "outputs": [
    {
     "data": {
      "text/plain": [
       "<matplotlib.legend.Legend at 0x7fd7167b4850>"
      ]
     },
     "execution_count": 46,
     "metadata": {},
     "output_type": "execute_result"
    },
    {
     "data": {
      "image/png": "[encoded data removed]",
      "text/plain": [
       "<Figure size 640x480 with 1 Axes>"
      ]
     },
     "metadata": {},
     "output_type": "display_data"
    }
   ],
   "source": [
    "gs.fancy_plot(mrlt_real, label=\"Real\", color=\"#ff6e9c\")\n",
    "gs.fancy_plot(mrlt_fake, label=\"Fake\", color=\"#7a76c2\")\n",
    "plt.xlim([0, 60])\n",
    "plt.legend()"
   ]
  },
  {
   "cell_type": "code",
   "execution_count": 47,
   "id": "28e89ee1-a91f-4c65-9e85-24c5a3a535f7",
   "metadata": {},
   "outputs": [
    {
     "name": "stdout",
     "output_type": "stream",
     "text": [
      "GS-SCORE 0.0038789977696758317\n"
     ]
    }
   ],
   "source": [
    "print(\"GS-SCORE\", gs.geom_score(rlts_fake, rlts_real))"
   ]
  },
  {
   "cell_type": "markdown",
   "id": "76c8678f-6c28-434c-b8f9-8cf619425e55",
   "metadata": {},
   "source": [
    "#### Podemos utilizar el clasificador entrenado, en el dia 1 para evaluar la red generadora $(G)$\n",
    "- Preparamos los artefactos generados en formato  de pytorch de conjunto de imagenes\n",
    "- Creamos la clase para el clasificador y cargamos los pesos entrenados\n",
    "- Pasamos nuestros datos por el clasificador y observamos frequencias de distribución"
   ]
  },
  {
   "cell_type": "code",
   "execution_count": 48,
   "id": "8e79be2b-61aa-43b7-a9a4-45e9cb18e1ec",
   "metadata": {},
   "outputs": [],
   "source": [
    "imgs_fake_torch = torch.stack(imgs_fake)"
   ]
  },
  {
   "cell_type": "code",
   "execution_count": 49,
   "id": "a94fc813-7f73-46e1-ba16-361fa43442b6",
   "metadata": {},
   "outputs": [],
   "source": [
    "transforms_test = [\n",
    "    tfs.ToPILImage(),\n",
    "    # tfs.RandomHorizontalFlip(p=0.7),\n",
    "    # tfs.RandomAffine(0, scale=(0.7, 1.0)),\n",
    "    tfs.Resize((64, 64)),\n",
    "    tfs.Grayscale(1),\n",
    "    tfs.ToTensor(),\n",
    "]\n",
    "output = torch.stack([tfs.Compose(transforms_test)(a) for a in imgs_fake_torch])"
   ]
  },
  {
   "cell_type": "code",
   "execution_count": 50,
   "id": "12f15a63-822d-4603-9e2f-fd6778c4ed29",
   "metadata": {
    "scrolled": true
   },
   "outputs": [
    {
     "data": {
      "text/plain": [
       "<All keys matched successfully>"
      ]
     },
     "execution_count": 50,
     "metadata": {},
     "output_type": "execute_result"
    }
   ],
   "source": [
    "sys.path.append(\"../Day-1/.\")\n",
    "from models import classifier\n",
    "\n",
    "final_classifier = classifier._C(input_h_w=64)\n",
    "final_classifier.load_state_dict(torch.load(\"../Day-1/weights/classifier.pkl\", map_location=device))"
   ]
  },
  {
   "cell_type": "code",
   "execution_count": 51,
   "id": "b4d59656-b588-4900-8b5c-593c5ae8fa17",
   "metadata": {},
   "outputs": [],
   "source": [
    "output_class = final_classifier(output).detach().numpy()\n",
    "classes = np.argmax(output_class, 1)\n",
    "(unique, counts) = np.unique(classes, return_counts=True)"
   ]
  },
  {
   "cell_type": "code",
   "execution_count": 52,
   "id": "bbe48ae1-4cbb-4c68-bf19-41a54d8a82ef",
   "metadata": {},
   "outputs": [
    {
     "data": {
      "text/plain": [
       "Text(0, 0.5, 'Frecuencia')"
      ]
     },
     "execution_count": 52,
     "metadata": {},
     "output_type": "execute_result"
    },
    {
     "data": {
      "image/png": "[encoded data removed]",
      "text/plain": [
       "<Figure size 640x480 with 1 Axes>"
      ]
     },
     "metadata": {},
     "output_type": "display_data"
    }
   ],
   "source": [
    "plt.bar(unique, counts)\n",
    "_ = plt.xticks(range(0, 10))\n",
    "plt.title(\"Frecuencia de Clases generadas\")\n",
    "plt.xlabel(\"Clases\", fontsize=15)\n",
    "plt.ylabel(\"Frecuencia\", fontsize=15)"
   ]
  },
  {
   "cell_type": "code",
   "execution_count": 53,
   "id": "e5a9e0c6-f9d3-42d7-8966-7b37cf88614a",
   "metadata": {},
   "outputs": [],
   "source": [
    "classes_prob = np.max(output_class, 1)"
   ]
  },
  {
   "cell_type": "code",
   "execution_count": 54,
   "id": "2ecbadf6-d304-4282-af28-4a444bce84a9",
   "metadata": {},
   "outputs": [
    {
     "data": {
      "text/plain": [
       "Text(0, 0.5, 'Acumulativo')"
      ]
     },
     "execution_count": 54,
     "metadata": {},
     "output_type": "execute_result"
    },
    {
     "data": {
      "image/png": "[encoded data removed]",
      "text/plain": [
       "<Figure size 640x480 with 1 Axes>"
      ]
     },
     "metadata": {},
     "output_type": "display_data"
    }
   ],
   "source": [
    "# Datos de ejemplo\n",
    "datos = classes_prob\n",
    "\n",
    "# Crear el histograma\n",
    "plt.hist(datos, bins=5, edgecolor=\"black\")\n",
    "\n",
    "# Personalizar el histograma\n",
    "plt.title(\"Histograma\")\n",
    "plt.xlabel(\"Probabilidades\")\n",
    "plt.ylabel(\"Acumulativo\")"
   ]
  },
  {
   "cell_type": "code",
   "execution_count": 57,
   "id": "3b998a4e-b3c3-4367-8bf1-de71f99a4027",
   "metadata": {},
   "outputs": [],
   "source": [
    "G_nuevo = _G(input_h_w=32, latent_v=z_dim).to(device)"
   ]
  },
  {
   "cell_type": "code",
   "execution_count": 60,
   "id": "f47f1f0d-d7c5-4bc7-b35f-dffe2b44fda0",
   "metadata": {},
   "outputs": [
    {
     "data": {
      "text/plain": [
       "<All keys matched successfully>"
      ]
     },
     "execution_count": 60,
     "metadata": {},
     "output_type": "execute_result"
    }
   ],
   "source": [
    "G_nuevo.load_state_dict(torch.load('weights/networks_checkpoint_6000.pt')['netG'])"
   ]
  },
  {
   "cell_type": "code",
   "execution_count": 59,
   "id": "e6679d5d-20a1-47bc-8706-aee8f41f5a24",
   "metadata": {},
   "outputs": [
    {
     "data": {
      "text/plain": [
       "{'netG': OrderedDict([('fc.0.weight',\n",
       "               tensor([[ 0.0093,  0.0076,  0.0450,  ..., -0.0208, -0.0025,  0.0248],\n",
       "                       [ 0.0159, -0.0202, -0.0415,  ..., -0.0134, -0.0451,  0.0333],\n",
       "                       [ 0.0019,  0.0432,  0.0005,  ..., -0.0112,  0.0097, -0.0258],\n",
       "                       ...,\n",
       "                       [ 0.0163, -0.0263, -0.0169,  ...,  0.0066, -0.0461,  0.0111],\n",
       "                       [ 0.0132,  0.0455, -0.0154,  ..., -0.0022,  0.0327, -0.0106],\n",
       "                       [-0.0054, -0.0375, -0.0066,  ..., -0.0091, -0.0472,  0.0041]],\n",
       "                      device='cuda:0')),\n",
       "              ('fc.0.bias',\n",
       "               tensor([-0.0022,  0.0115,  0.0050,  ..., -0.0038, -0.0021, -0.0007],\n",
       "                      device='cuda:0')),\n",
       "              ('fc.1.weight',\n",
       "               tensor([0.8161, 1.3614, 0.9434,  ..., 1.0003, 0.8922, 0.9576], device='cuda:0')),\n",
       "              ('fc.1.bias',\n",
       "               tensor([-0.1292, -0.0971, -0.1200,  ..., -0.0220, -0.1269, -0.0797],\n",
       "                      device='cuda:0')),\n",
       "              ('fc.1.running_mean',\n",
       "               tensor([ 0.0055,  0.0117,  0.0030,  ...,  0.0044, -0.0051, -0.0044],\n",
       "                      device='cuda:0')),\n",
       "              ('fc.1.running_var',\n",
       "               tensor([0.0528, 0.0551, 0.0466,  ..., 0.0515, 0.0428, 0.0540], device='cuda:0')),\n",
       "              ('fc.1.num_batches_tracked', tensor(6440, device='cuda:0')),\n",
       "              ('fc.3.weight',\n",
       "               tensor([[-0.0323, -0.0044,  0.0122,  ..., -0.0202,  0.0341,  0.0271],\n",
       "                       [-0.0203, -0.0136,  0.0295,  ..., -0.0007,  0.0044, -0.0421],\n",
       "                       [-0.0315, -0.0171,  0.0184,  ..., -0.0372,  0.0164,  0.0020],\n",
       "                       ...,\n",
       "                       [ 0.0240,  0.0200,  0.0578,  ..., -0.0022,  0.0292, -0.0214],\n",
       "                       [-0.0585,  0.0381, -0.0220,  ..., -0.0268, -0.0407, -0.0268],\n",
       "                       [ 0.0208,  0.0257, -0.0468,  ..., -0.0706, -0.0100, -0.0229]],\n",
       "                      device='cuda:0')),\n",
       "              ('fc.3.bias',\n",
       "               tensor([ 4.8922e-05,  3.9532e-04,  1.8086e-04,  ...,  7.5142e-05,\n",
       "                       -1.1676e-04, -1.3050e-04], device='cuda:0')),\n",
       "              ('fc.4.weight',\n",
       "               tensor([0.9976, 0.9020, 0.9389,  ..., 1.0127, 0.9657, 1.0219], device='cuda:0')),\n",
       "              ('fc.4.bias',\n",
       "               tensor([-0.1482, -0.1103, -0.0636,  ..., -0.0948, -0.0510,  0.0558],\n",
       "                      device='cuda:0')),\n",
       "              ('fc.4.running_mean',\n",
       "               tensor([ 0.6409, -0.5739, -0.9975,  ..., -0.1243, -1.9264, -0.6932],\n",
       "                      device='cuda:0')),\n",
       "              ('fc.4.running_var',\n",
       "               tensor([3.6638, 6.6356, 4.5096,  ..., 3.3600, 3.1395, 6.9696], device='cuda:0')),\n",
       "              ('fc.4.num_batches_tracked', tensor(6440, device='cuda:0')),\n",
       "              ('deconv.0.weight',\n",
       "               tensor([[[[ 1.7277e-02, -3.2355e-02,  6.5115e-03, -5.9946e-02],\n",
       "                         [-2.7160e-02, -6.8528e-03, -2.5362e-02, -2.4196e-02],\n",
       "                         [-1.0822e-02, -4.7523e-02, -2.7190e-02, -3.6625e-02],\n",
       "                         [-1.2971e-02, -2.0137e-02, -2.4228e-02, -2.1113e-03]],\n",
       "               \n",
       "                        [[-5.2490e-04,  2.1532e-02, -2.7860e-02, -1.0266e-03],\n",
       "                         [ 1.6780e-02,  1.2599e-03, -2.4909e-02, -1.9028e-02],\n",
       "                         [-8.6991e-03, -1.0795e-02, -3.8999e-02, -3.6472e-02],\n",
       "                         [ 3.2347e-03, -1.9483e-02, -1.7905e-02, -9.4725e-03]],\n",
       "               \n",
       "                        [[ 2.2827e-02,  4.7501e-02,  1.1756e-03, -4.0354e-03],\n",
       "                         [ 4.2714e-02, -9.5532e-03, -6.1824e-03, -1.8459e-02],\n",
       "                         [ 8.5969e-03, -1.4372e-02, -1.9606e-02, -1.4984e-02],\n",
       "                         [ 1.4200e-03, -3.1814e-02, -4.7646e-02,  2.2871e-02]],\n",
       "               \n",
       "                        ...,\n",
       "               \n",
       "                        [[-7.5349e-03,  2.5019e-03, -2.8153e-03, -1.2578e-02],\n",
       "                         [ 2.5209e-03, -2.3455e-02,  9.6487e-03,  3.3273e-02],\n",
       "                         [-8.0229e-03, -2.7871e-02, -1.8505e-02, -2.5713e-02],\n",
       "                         [-2.5719e-02, -3.0090e-02,  9.6117e-03,  3.8255e-03]],\n",
       "               \n",
       "                        [[-3.8058e-02, -1.9742e-02, -4.2746e-02, -1.2214e-03],\n",
       "                         [-5.5399e-03, -1.6838e-03, -3.7248e-02, -2.8863e-02],\n",
       "                         [-1.6810e-02, -7.1357e-03, -5.8249e-02, -2.3026e-02],\n",
       "                         [-1.9256e-02,  8.8171e-04, -6.1470e-04, -3.0731e-02]],\n",
       "               \n",
       "                        [[-1.2053e-02, -1.7721e-02, -3.6670e-03, -1.3438e-02],\n",
       "                         [-3.5964e-02, -1.8941e-02, -2.1238e-03,  1.5875e-02],\n",
       "                         [-1.4465e-02, -9.6501e-03, -5.2289e-03, -5.8768e-03],\n",
       "                         [-1.3477e-02, -3.0612e-03, -3.3887e-02,  1.3579e-02]]],\n",
       "               \n",
       "               \n",
       "                       [[[-5.1080e-02, -3.8375e-03, -6.8572e-03, -5.1082e-03],\n",
       "                         [ 2.8466e-03,  1.2258e-04,  5.6744e-03,  1.7784e-02],\n",
       "                         [-3.5814e-02,  9.8884e-03, -1.8538e-02, -1.7599e-02],\n",
       "                         [ 3.8714e-03,  2.6474e-03,  2.0679e-02,  2.0157e-02]],\n",
       "               \n",
       "                        [[-3.2453e-02,  4.4393e-03, -1.1166e-02, -1.8114e-02],\n",
       "                         [-2.8868e-02, -6.8770e-02, -1.1746e-01, -5.6739e-02],\n",
       "                         [-2.2952e-02, -7.7435e-02, -2.0006e-02, -3.3814e-02],\n",
       "                         [ 1.3039e-03, -2.9585e-02, -3.2800e-02, -1.2013e-02]],\n",
       "               \n",
       "                        [[ 1.1863e-02, -1.7467e-03, -3.6957e-02, -6.0365e-02],\n",
       "                         [-9.5013e-04, -2.0011e-02, -9.4537e-02, -5.1521e-02],\n",
       "                         [-1.6783e-02, -9.4097e-02, -6.6565e-02, -4.1555e-02],\n",
       "                         [-1.5765e-02, -8.7040e-03, -1.5591e-02, -2.3620e-02]],\n",
       "               \n",
       "                        ...,\n",
       "               \n",
       "                        [[-1.3959e-02,  8.9041e-03,  3.4708e-02,  6.4181e-03],\n",
       "                         [ 3.8804e-03,  2.2720e-02,  5.1150e-02,  8.5994e-02],\n",
       "                         [-2.6008e-02,  2.8887e-02,  1.8198e-02,  6.7355e-02],\n",
       "                         [-2.1408e-02, -1.6918e-02,  1.4131e-03,  4.0154e-02]],\n",
       "               \n",
       "                        [[-1.1242e-02, -2.9084e-02, -1.4058e-02,  1.1796e-02],\n",
       "                         [-1.8144e-02, -1.7196e-02,  5.0249e-03, -2.3616e-02],\n",
       "                         [-5.9196e-03, -2.3909e-03, -4.7490e-02,  1.8617e-02],\n",
       "                         [-1.3919e-02, -5.1871e-03, -5.7787e-03, -2.6113e-03]],\n",
       "               \n",
       "                        [[-2.1966e-02,  9.3163e-03, -9.7133e-03,  1.0969e-02],\n",
       "                         [ 2.3429e-02,  3.4053e-04,  4.6289e-03,  2.3637e-02],\n",
       "                         [-1.4866e-02, -6.3582e-03, -3.9844e-03,  3.8434e-02],\n",
       "                         [ 2.1269e-03,  1.3292e-02,  2.8297e-02,  1.6619e-02]]],\n",
       "               \n",
       "               \n",
       "                       [[[-3.9143e-02, -3.2963e-02, -1.7695e-02,  7.3146e-04],\n",
       "                         [-2.4654e-02, -2.3310e-02, -2.7541e-02, -2.3329e-03],\n",
       "                         [ 5.5349e-03, -6.2172e-02,  9.1005e-03, -3.9467e-02],\n",
       "                         [-2.9864e-02, -1.3741e-02, -2.9205e-02, -1.3939e-02]],\n",
       "               \n",
       "                        [[ 1.3608e-02,  1.3162e-02, -3.7045e-03, -8.4238e-03],\n",
       "                         [ 3.0929e-02,  6.7124e-03,  2.6812e-02, -1.2662e-04],\n",
       "                         [-1.6540e-02,  1.8203e-02,  1.1703e-03, -2.1087e-02],\n",
       "                         [-2.6983e-02,  1.6323e-03, -1.2951e-02, -1.8001e-02]],\n",
       "               \n",
       "                        [[ 8.0387e-03,  3.8583e-04,  2.1661e-02, -4.0525e-03],\n",
       "                         [-1.7621e-02, -6.2047e-02,  3.2185e-03,  2.2913e-02],\n",
       "                         [-6.9297e-03, -4.1717e-03,  5.3455e-03, -1.6904e-02],\n",
       "                         [-2.0193e-02, -1.3877e-02, -3.0852e-02, -2.5888e-02]],\n",
       "               \n",
       "                        ...,\n",
       "               \n",
       "                        [[-1.6157e-02,  2.3734e-02,  4.4223e-03, -2.8421e-02],\n",
       "                         [-1.2577e-02, -3.8823e-03, -4.2417e-02,  2.9517e-02],\n",
       "                         [-1.1548e-02, -2.6407e-02, -1.0765e-02,  3.7763e-02],\n",
       "                         [-1.3494e-02, -3.8951e-02, -6.0095e-03,  1.1526e-02]],\n",
       "               \n",
       "                        [[-7.8651e-02, -6.2803e-03, -4.8423e-02, -3.0885e-02],\n",
       "                         [-2.5438e-02,  1.2891e-02, -1.2103e-01, -2.5874e-02],\n",
       "                         [-3.1210e-02,  1.2590e-02, -1.0153e-01,  1.2185e-02],\n",
       "                         [-2.3132e-02, -1.8703e-02, -2.4345e-02,  8.5597e-03]],\n",
       "               \n",
       "                        [[-9.5838e-03,  1.2032e-02, -5.8836e-04, -1.4253e-02],\n",
       "                         [-2.3060e-02, -3.5907e-02, -2.2335e-02, -1.7459e-02],\n",
       "                         [-5.3274e-02, -7.9251e-03, -7.7142e-03,  9.6969e-03],\n",
       "                         [-2.7632e-02, -3.5411e-02, -2.8126e-02, -1.7601e-02]]],\n",
       "               \n",
       "               \n",
       "                       ...,\n",
       "               \n",
       "               \n",
       "                       [[[ 9.2248e-03,  8.3073e-04,  4.3228e-03,  1.1521e-02],\n",
       "                         [-9.2703e-03, -8.9406e-03, -1.2178e-02, -1.0028e-03],\n",
       "                         [ 4.1465e-03,  9.0250e-03, -1.9544e-05, -6.2756e-03],\n",
       "                         [ 1.8517e-02, -1.9732e-03,  1.6006e-02, -3.4803e-03]],\n",
       "               \n",
       "                        [[-9.4691e-03,  1.3846e-03,  1.0663e-03, -6.2173e-03],\n",
       "                         [ 3.1555e-02,  2.0681e-02, -4.3852e-03, -1.0645e-02],\n",
       "                         [ 4.0958e-02,  1.5611e-03, -9.3810e-03,  3.7192e-03],\n",
       "                         [ 3.4285e-03, -6.9633e-03,  1.0770e-02, -2.7824e-03]],\n",
       "               \n",
       "                        [[ 3.6439e-02,  2.8156e-02,  1.7234e-02,  3.3996e-05],\n",
       "                         [ 1.9992e-02,  3.3388e-02,  1.9103e-02, -8.6792e-03],\n",
       "                         [ 2.3325e-02,  1.3794e-02,  3.2577e-02, -1.0346e-02],\n",
       "                         [ 2.2906e-02,  9.9516e-03,  2.8949e-02,  2.3021e-02]],\n",
       "               \n",
       "                        ...,\n",
       "               \n",
       "                        [[ 1.3657e-02,  2.0312e-02, -3.9144e-03, -5.7904e-03],\n",
       "                         [ 8.0294e-03, -3.5499e-02, -2.5275e-02, -5.8536e-03],\n",
       "                         [ 2.1451e-02, -2.2579e-02, -4.7927e-02, -3.4746e-02],\n",
       "                         [ 3.6939e-02,  2.4997e-02, -2.8740e-02, -7.6453e-03]],\n",
       "               \n",
       "                        [[-7.0009e-03,  2.3646e-02, -1.5952e-02, -1.7818e-02],\n",
       "                         [-4.0815e-03,  7.1997e-03, -1.3136e-04, -1.6242e-02],\n",
       "                         [ 1.1430e-02,  7.4046e-03,  2.7427e-02,  2.8694e-03],\n",
       "                         [ 2.4025e-02, -7.8713e-03,  1.4100e-02,  1.9909e-03]],\n",
       "               \n",
       "                        [[ 2.5221e-02,  2.2608e-03, -7.3018e-03, -2.3566e-03],\n",
       "                         [-7.7788e-03, -9.0689e-03, -3.5293e-02, -5.0398e-03],\n",
       "                         [-1.1003e-03, -5.5900e-04, -5.1268e-03,  1.4590e-02],\n",
       "                         [ 1.7488e-02, -3.8177e-03,  5.6767e-03,  8.8545e-03]]],\n",
       "               \n",
       "               \n",
       "                       [[[ 4.0781e-02,  3.2101e-02,  1.1769e-02,  2.4825e-02],\n",
       "                         [ 5.3377e-02,  3.7992e-02,  5.5395e-02,  4.1180e-02],\n",
       "                         [ 4.0642e-02,  4.3743e-02,  2.9618e-02,  1.9973e-02],\n",
       "                         [ 1.9181e-02,  2.0680e-02,  4.4174e-02,  3.4111e-02]],\n",
       "               \n",
       "                        [[ 1.7309e-02,  5.1448e-03,  2.1007e-02,  1.7900e-02],\n",
       "                         [-3.5208e-02,  3.1909e-03,  3.6643e-02,  2.8417e-02],\n",
       "                         [ 1.9238e-02,  3.1518e-02,  5.8064e-03,  2.4820e-02],\n",
       "                         [-2.8734e-03,  2.2143e-03,  2.1632e-02,  1.2039e-02]],\n",
       "               \n",
       "                        [[-5.0573e-03,  3.4338e-02,  1.3987e-02,  7.7568e-03],\n",
       "                         [-2.6042e-02,  4.6601e-02,  3.6294e-02,  2.7987e-02],\n",
       "                         [ 4.8130e-03, -7.4776e-03,  2.1062e-02,  2.2208e-02],\n",
       "                         [-2.2146e-02,  2.5868e-03, -7.7687e-04,  9.8137e-03]],\n",
       "               \n",
       "                        ...,\n",
       "               \n",
       "                        [[ 2.8216e-02, -4.2957e-02,  5.8725e-03, -1.5278e-02],\n",
       "                         [-1.3563e-02, -1.2663e-02,  2.3464e-02, -2.0472e-02],\n",
       "                         [-3.4828e-02, -1.1048e-03,  1.1909e-02, -2.8379e-02],\n",
       "                         [-8.1490e-03,  8.2102e-03,  2.6099e-02, -1.1938e-02]],\n",
       "               \n",
       "                        [[-1.3254e-02,  3.3846e-02,  1.5411e-02,  8.9682e-03],\n",
       "                         [-6.8424e-03,  3.5979e-02,  1.0441e-02,  1.5035e-03],\n",
       "                         [ 6.4535e-02,  3.9002e-02,  1.9134e-02,  3.3008e-02],\n",
       "                         [-1.2658e-02, -6.3994e-03,  7.5610e-03,  6.6917e-03]],\n",
       "               \n",
       "                        [[ 2.5266e-02,  1.9988e-02,  2.9867e-02,  1.6492e-02],\n",
       "                         [ 6.1463e-02,  3.4222e-02,  5.4316e-02,  1.4966e-02],\n",
       "                         [ 5.5254e-02,  5.6046e-02,  5.7813e-02,  3.2660e-02],\n",
       "                         [ 2.4306e-02,  3.7204e-02,  6.0767e-02,  3.3069e-02]]],\n",
       "               \n",
       "               \n",
       "                       [[[ 1.1741e-02, -4.3803e-02, -1.5126e-02,  3.1934e-03],\n",
       "                         [-3.9852e-02, -7.0531e-02, -5.9099e-02, -5.8944e-02],\n",
       "                         [ 9.6027e-03, -6.5700e-02,  1.3030e-03, -4.5811e-02],\n",
       "                         [-1.6620e-02, -5.6759e-03, -1.8830e-02, -2.1832e-02]],\n",
       "               \n",
       "                        [[ 4.7782e-03,  2.8781e-02, -2.5784e-02, -3.9409e-03],\n",
       "                         [ 4.6068e-02,  6.1535e-02,  3.2527e-02, -2.8935e-03],\n",
       "                         [ 1.8144e-02,  1.9310e-02, -1.5312e-02, -1.7021e-02],\n",
       "                         [-8.7793e-04, -1.0839e-02,  2.5520e-02,  1.9715e-02]],\n",
       "               \n",
       "                        [[ 9.3864e-03,  2.2027e-02,  2.1076e-02, -1.0657e-02],\n",
       "                         [ 2.6082e-02,  3.9962e-02,  2.6034e-02,  1.3876e-02],\n",
       "                         [-3.9716e-04,  5.0563e-02, -1.0574e-03, -3.6301e-02],\n",
       "                         [-4.2247e-03,  5.1468e-04, -1.7217e-02,  2.9062e-03]],\n",
       "               \n",
       "                        ...,\n",
       "               \n",
       "                        [[-1.5578e-02,  3.1721e-02, -9.2442e-03,  4.3234e-02],\n",
       "                         [ 3.3723e-02,  1.0856e-02, -5.8413e-02, -2.7363e-02],\n",
       "                         [-8.2226e-04, -1.8366e-02, -2.5245e-02, -1.7193e-02],\n",
       "                         [ 4.8068e-04,  1.0869e-02,  2.1999e-02, -2.9067e-02]],\n",
       "               \n",
       "                        [[ 6.7962e-03,  1.7570e-02,  1.0545e-02, -3.3913e-02],\n",
       "                         [ 8.5355e-03,  8.8500e-03, -4.8508e-02, -2.1421e-02],\n",
       "                         [-1.8502e-02, -2.0497e-02, -5.5084e-02,  5.2115e-03],\n",
       "                         [-3.3978e-02, -2.2895e-02, -4.4014e-02, -1.8852e-02]],\n",
       "               \n",
       "                        [[-3.6091e-02, -2.5872e-02, -1.9865e-02, -8.9607e-03],\n",
       "                         [-4.9487e-02, -8.3063e-02, -7.0772e-02, -4.5610e-02],\n",
       "                         [-1.5426e-02, -4.2971e-02, -3.3566e-02, -3.0161e-02],\n",
       "                         [-2.7060e-02, -2.2388e-02, -2.3087e-02, -2.0804e-02]]]],\n",
       "                      device='cuda:0')),\n",
       "              ('deconv.0.bias',\n",
       "               tensor([ 0.0013,  0.0032,  0.0027,  0.0106,  0.0001,  0.0086, -0.0069,  0.0120,\n",
       "                        0.0046, -0.0164, -0.0064, -0.0072, -0.0227,  0.0036, -0.0139,  0.0020,\n",
       "                       -0.0006,  0.0120, -0.0330, -0.0012,  0.0024,  0.0123,  0.0041, -0.0043,\n",
       "                       -0.0093,  0.0005,  0.0029, -0.0266, -0.0013, -0.0172, -0.0016, -0.0103,\n",
       "                       -0.0183,  0.0179, -0.0066,  0.0114, -0.0149, -0.0056,  0.0069,  0.0083,\n",
       "                        0.0088, -0.0093,  0.0107, -0.0006, -0.0143,  0.0054,  0.0042,  0.0057,\n",
       "                        0.0086,  0.0112,  0.0031,  0.0165, -0.0062, -0.0040,  0.0073, -0.0107,\n",
       "                        0.0066,  0.0141,  0.0178, -0.0135, -0.0052, -0.0201,  0.0075,  0.0094],\n",
       "                      device='cuda:0')),\n",
       "              ('deconv.1.weight',\n",
       "               tensor([1.9815, 1.7793, 1.7130, 1.7562, 1.7941, 1.6301, 1.6239, 1.8566, 1.8647,\n",
       "                       1.5256, 1.6781, 1.3618, 1.3386, 1.7190, 1.3736, 1.9417, 1.3284, 1.7943,\n",
       "                       1.3966, 1.6344, 1.7491, 1.7557, 1.9891, 1.7700, 1.3615, 1.6377, 1.6713,\n",
       "                       1.3569, 1.6843, 1.3259, 1.5611, 1.3725, 1.3624, 1.9928, 1.5784, 1.7232,\n",
       "                       1.3849, 1.7473, 1.4273, 2.0239, 2.0218, 1.6699, 1.8482, 1.6968, 1.3386,\n",
       "                       1.8219, 1.6278, 1.8030, 2.0536, 1.6778, 1.7034, 1.3812, 1.7246, 1.6866,\n",
       "                       1.7010, 1.6586, 1.9626, 1.3484, 2.0448, 1.5367, 1.7147, 1.3578, 1.6940,\n",
       "                       2.0451], device='cuda:0')),\n",
       "              ('deconv.1.bias',\n",
       "               tensor([0.3544, 0.2949, 0.2467, 0.2987, 0.2908, 0.2170, 0.2506, 0.3675, 0.3371,\n",
       "                       0.2071, 0.1245, 0.0816, 0.0592, 0.2382, 0.0909, 0.3365, 0.2059, 0.3335,\n",
       "                       0.0069, 0.2683, 0.2811, 0.2831, 0.3734, 0.2982, 0.1426, 0.1833, 0.3192,\n",
       "                       0.0222, 0.3201, 0.0889, 0.2243, 0.1331, 0.0430, 0.3555, 0.2319, 0.2671,\n",
       "                       0.0823, 0.1978, 0.0752, 0.3588, 0.3567, 0.2436, 0.2871, 0.2387, 0.0741,\n",
       "                       0.3606, 0.3337, 0.3088, 0.3525, 0.2558, 0.2498, 0.0391, 0.2996, 0.2630,\n",
       "                       0.2068, 0.2605, 0.3698, 0.0364, 0.3501, 0.1563, 0.2378, 0.0689, 0.2744,\n",
       "                       0.3473], device='cuda:0')),\n",
       "              ('deconv.1.running_mean',\n",
       "               tensor([-0.5340, -0.2961, -0.2160, -0.5442, -0.4978, -0.3598, -0.2806, -0.4446,\n",
       "                       -0.5102, -0.4747, -0.1424, -1.2801, -0.9371, -0.4159, -1.3719, -0.4887,\n",
       "                       -1.2215, -0.4044, -0.9390, -0.5233, -0.4612, -0.3123, -0.5503, -0.5415,\n",
       "                       -1.1957, -0.2742, -0.4861, -0.7416, -0.5237, -1.3073, -0.3136, -0.8178,\n",
       "                       -1.0071, -0.5650, -0.3726, -0.3726, -1.4957, -0.1556, -0.5875, -0.5390,\n",
       "                       -0.5452, -0.3200, -0.4770, -0.4738, -1.0621, -0.5322, -0.5113, -0.4760,\n",
       "                       -0.5677, -0.4575, -0.5187, -0.4558, -0.4698, -0.4516, -0.2125, -0.3544,\n",
       "                       -0.5192, -0.9147, -0.5353, -0.4153, -0.1998, -0.9376, -0.5282, -0.5684],\n",
       "                      device='cuda:0')),\n",
       "              ('deconv.1.running_var',\n",
       "               tensor([0.9378, 0.7358, 0.7108, 0.7242, 0.6198, 0.6694, 0.6506, 0.8081, 0.9822,\n",
       "                       0.5629, 0.6128, 0.5413, 0.3371, 0.7200, 0.8960, 1.0128, 0.5960, 0.9183,\n",
       "                       0.2765, 0.5967, 0.8497, 0.8185, 0.9150, 0.5579, 0.5780, 0.7055, 0.6466,\n",
       "                       0.3010, 0.7271, 0.5368, 0.5570, 0.5234, 0.3188, 1.0169, 0.5218, 0.6682,\n",
       "                       0.7565, 0.5587, 0.4840, 1.0758, 1.1440, 0.6933, 0.8911, 0.5085, 0.3728,\n",
       "                       0.8594, 0.6417, 0.7498, 1.1681, 0.6688, 0.6842, 0.2896, 0.7834, 0.6524,\n",
       "                       0.6612, 0.7471, 1.0753, 0.5871, 1.1223, 0.5815, 0.6095, 0.3684, 0.6361,\n",
       "                       1.1267], device='cuda:0')),\n",
       "              ('deconv.1.num_batches_tracked', tensor(6440, device='cuda:0')),\n",
       "              ('deconv.3.weight',\n",
       "               tensor([[[[-0.1304, -0.1195, -0.1050,  0.0340],\n",
       "                         [-0.3996, -0.5133, -0.5363, -0.1030],\n",
       "                         [-0.3647, -0.5883, -0.5330, -0.2133],\n",
       "                         [-0.1725, -0.2624, -0.3083, -0.0950]]],\n",
       "               \n",
       "               \n",
       "                       [[[-0.1924, -0.2540, -0.0816, -0.0932],\n",
       "                         [-0.3311, -0.3980, -0.2585, -0.3573],\n",
       "                         [-0.1342, -0.3062, -0.4198, -0.0096],\n",
       "                         [-0.1091, -0.2996, -0.1283,  0.0065]]],\n",
       "               \n",
       "               \n",
       "                       [[[-0.1529, -0.1795, -0.2238, -0.1235],\n",
       "                         [-0.3763, -0.1808, -0.4993, -0.1028],\n",
       "                         [-0.0073, -0.4549, -0.2510,  0.0410],\n",
       "                         [-0.1413, -0.1059, -0.0256,  0.0230]]],\n",
       "               \n",
       "               \n",
       "                       ...,\n",
       "               \n",
       "               \n",
       "                       [[[ 0.0474,  0.0609, -0.0137,  0.0782],\n",
       "                         [ 0.1269,  0.1543,  0.0861,  0.1119],\n",
       "                         [ 0.1670,  0.2435,  0.1974,  0.1066],\n",
       "                         [ 0.1600,  0.1843,  0.1525,  0.0708]]],\n",
       "               \n",
       "               \n",
       "                       [[[-0.1419, -0.2233, -0.1253, -0.1188],\n",
       "                         [-0.2503, -0.4376, -0.3221, -0.1765],\n",
       "                         [-0.1473, -0.4360, -0.3688, -0.1316],\n",
       "                         [-0.1607, -0.2820, -0.1392, -0.0833]]],\n",
       "               \n",
       "               \n",
       "                       [[[-0.1080, -0.2545, -0.2291, -0.1002],\n",
       "                         [-0.1798, -0.6231, -0.6274, -0.4151],\n",
       "                         [-0.3021, -0.6357, -0.5883, -0.4361],\n",
       "                         [-0.2116, -0.4369, -0.4139, -0.2176]]]], device='cuda:0')),\n",
       "              ('deconv.3.bias', tensor([-0.0112], device='cuda:0'))]),\n",
       " 'netD': OrderedDict([('conv.0.weight',\n",
       "               tensor([[[[ 3.0253e-02,  3.9547e-02,  5.7824e-03,  3.5967e-03],\n",
       "                         [ 1.6090e-02,  4.2285e-02, -4.5841e-02,  5.0569e-03],\n",
       "                         [-6.0466e-04, -3.9042e-03,  3.8148e-03, -9.0511e-03],\n",
       "                         [-3.2998e-02, -2.6145e-02, -2.9867e-02, -2.0463e-02]]],\n",
       "               \n",
       "               \n",
       "                       [[[-1.0792e-02,  4.1211e-03, -1.9695e-02, -1.4764e-03],\n",
       "                         [-5.0538e-03,  2.9086e-02, -5.3866e-03,  3.1347e-02],\n",
       "                         [ 2.6433e-02, -4.4925e-02,  2.6405e-02, -3.2849e-02],\n",
       "                         [-3.1077e-02,  3.8502e-02, -2.6293e-02,  2.0475e-02]]],\n",
       "               \n",
       "               \n",
       "                       [[[-6.2885e-02,  3.3844e-02,  2.4234e-02,  2.5212e-02],\n",
       "                         [-2.7484e-02, -3.3287e-03, -4.5303e-03,  2.2230e-02],\n",
       "                         [-3.2688e-02,  2.9882e-02, -9.5053e-03, -7.0445e-03],\n",
       "                         [-4.6842e-02, -2.1087e-02, -2.4099e-02, -3.5883e-02]]],\n",
       "               \n",
       "               \n",
       "                       ...,\n",
       "               \n",
       "               \n",
       "                       [[[-3.8272e-03, -1.2227e-03,  2.3233e-02, -1.4736e-02],\n",
       "                         [-6.8644e-02,  2.7622e-02,  4.6448e-02, -1.4803e-02],\n",
       "                         [-1.2411e-02, -4.1128e-02,  3.2903e-02,  1.6460e-02],\n",
       "                         [-3.3315e-03, -1.8679e-02, -1.0882e-02, -4.3394e-02]]],\n",
       "               \n",
       "               \n",
       "                       [[[-1.2493e-02, -4.0552e-05, -1.6255e-02,  2.7554e-02],\n",
       "                         [ 2.0639e-02, -1.3754e-02,  1.6783e-02, -4.4756e-02],\n",
       "                         [-6.1941e-04, -3.9338e-02,  5.9277e-02, -8.2948e-03],\n",
       "                         [ 3.0124e-02, -6.2037e-02,  3.9075e-02, -1.5316e-02]]],\n",
       "               \n",
       "               \n",
       "                       [[[-4.5267e-03, -2.6503e-02, -7.9754e-03, -4.9044e-02],\n",
       "                         [-3.0500e-02, -4.0975e-02, -5.6902e-02, -7.0157e-03],\n",
       "                         [-1.4337e-02, -1.6950e-02, -2.6189e-02, -1.3864e-02],\n",
       "                         [-1.4396e-02,  1.3080e-02,  2.1510e-03,  2.8268e-02]]]],\n",
       "                      device='cuda:0')),\n",
       "              ('conv.0.bias',\n",
       "               tensor([-0.0380,  0.0323,  0.0023,  0.0075, -0.0047, -0.0359, -0.0354, -0.0084,\n",
       "                        0.0107, -0.0326,  0.0390,  0.0214,  0.0081,  0.0044, -0.0317,  0.0039,\n",
       "                       -0.0080,  0.0257, -0.0022, -0.0029, -0.0403,  0.0151, -0.0165,  0.0211,\n",
       "                        0.0306, -0.0233,  0.0300,  0.0145,  0.0067,  0.0055, -0.0228, -0.0002,\n",
       "                        0.0089,  0.0233,  0.0098,  0.0079,  0.0316, -0.0139,  0.0046,  0.0180,\n",
       "                       -0.0220,  0.0152,  0.0069, -0.0048, -0.0007,  0.0080, -0.0063,  0.0458,\n",
       "                        0.0074,  0.0063,  0.0118,  0.0044,  0.0044, -0.0013,  0.0116, -0.0164,\n",
       "                        0.0052,  0.0046,  0.0055, -0.0246, -0.0245,  0.0047,  0.0033,  0.0117],\n",
       "                      device='cuda:0')),\n",
       "              ('conv.2.weight',\n",
       "               tensor([[[[ 0.0185,  0.0021,  0.0065,  0.0034],\n",
       "                         [-0.0007, -0.0168, -0.0350, -0.0118],\n",
       "                         [ 0.0423,  0.0143, -0.0248, -0.0365],\n",
       "                         [-0.0014,  0.0182, -0.0142, -0.0033]],\n",
       "               \n",
       "                        [[-0.0342, -0.0160,  0.0058,  0.0057],\n",
       "                         [ 0.0118, -0.0383, -0.0031, -0.0163],\n",
       "                         [ 0.0110, -0.0091,  0.0085,  0.0100],\n",
       "                         [ 0.0411,  0.0132,  0.0162,  0.0016]],\n",
       "               \n",
       "                        [[-0.0123,  0.0318, -0.0089, -0.0109],\n",
       "                         [-0.0429, -0.0147,  0.0161,  0.0154],\n",
       "                         [ 0.0090,  0.0106, -0.0116,  0.0629],\n",
       "                         [-0.0227, -0.0121, -0.0052,  0.0063]],\n",
       "               \n",
       "                        ...,\n",
       "               \n",
       "                        [[ 0.0315,  0.0200, -0.0214,  0.0098],\n",
       "                         [-0.0077, -0.0396,  0.0258, -0.0026],\n",
       "                         [-0.0271, -0.0069,  0.0045,  0.0153],\n",
       "                         [-0.0264, -0.0361, -0.0122,  0.0142]],\n",
       "               \n",
       "                        [[-0.0067,  0.0015, -0.0038, -0.0122],\n",
       "                         [-0.0137, -0.0217, -0.0272,  0.0101],\n",
       "                         [-0.0677, -0.0249, -0.0276, -0.0424],\n",
       "                         [-0.0136, -0.0235,  0.0045, -0.0163]],\n",
       "               \n",
       "                        [[-0.0135, -0.0025, -0.0566,  0.0032],\n",
       "                         [-0.0085, -0.0320, -0.0326,  0.0053],\n",
       "                         [-0.0273, -0.0408, -0.0335, -0.0094],\n",
       "                         [-0.0076,  0.0225, -0.0115, -0.0378]]],\n",
       "               \n",
       "               \n",
       "                       [[[-0.0345,  0.0138,  0.0145,  0.0554],\n",
       "                         [ 0.0378,  0.0167, -0.0334,  0.0389],\n",
       "                         [ 0.0129,  0.0446, -0.0357, -0.0459],\n",
       "                         [ 0.0195,  0.0514, -0.0160, -0.0511]],\n",
       "               \n",
       "                        [[ 0.0061, -0.0156, -0.0016,  0.0246],\n",
       "                         [ 0.0090, -0.0631, -0.0594,  0.0076],\n",
       "                         [ 0.0496, -0.0055, -0.0539, -0.0472],\n",
       "                         [-0.0420,  0.0099,  0.0374,  0.0457]],\n",
       "               \n",
       "                        [[-0.0004,  0.0130,  0.0123, -0.0149],\n",
       "                         [ 0.0503,  0.0063, -0.0089, -0.0061],\n",
       "                         [-0.0137, -0.0481, -0.0338, -0.0263],\n",
       "                         [-0.0465,  0.0047, -0.0002, -0.0336]],\n",
       "               \n",
       "                        ...,\n",
       "               \n",
       "                        [[ 0.0355,  0.0129,  0.0254,  0.0353],\n",
       "                         [ 0.0311, -0.0148, -0.0146,  0.0473],\n",
       "                         [-0.0009, -0.0135, -0.0308,  0.0276],\n",
       "                         [-0.0114, -0.0279, -0.0118,  0.0032]],\n",
       "               \n",
       "                        [[ 0.0385,  0.0338,  0.0398,  0.0271],\n",
       "                         [ 0.0075, -0.0101, -0.0331,  0.0079],\n",
       "                         [-0.0293, -0.0101, -0.0356, -0.0566],\n",
       "                         [-0.0100, -0.0033,  0.0189,  0.0229]],\n",
       "               \n",
       "                        [[-0.0463, -0.0086,  0.0098,  0.0038],\n",
       "                         [-0.0419, -0.0181, -0.0244, -0.0004],\n",
       "                         [-0.0294, -0.0249,  0.0013, -0.0368],\n",
       "                         [-0.0199, -0.0531,  0.0137, -0.0480]]],\n",
       "               \n",
       "               \n",
       "                       [[[ 0.0064,  0.0009,  0.0241,  0.0003],\n",
       "                         [-0.0044, -0.0055,  0.0174, -0.0199],\n",
       "                         [ 0.0027, -0.0266, -0.0170, -0.0235],\n",
       "                         [-0.0065,  0.0248, -0.0454, -0.0366]],\n",
       "               \n",
       "                        [[ 0.0320, -0.0131, -0.0358, -0.0095],\n",
       "                         [ 0.0272,  0.0264,  0.0313,  0.0384],\n",
       "                         [ 0.0211,  0.0135,  0.0404, -0.0054],\n",
       "                         [-0.0653, -0.0110, -0.0022,  0.0101]],\n",
       "               \n",
       "                        [[ 0.0186, -0.0095, -0.0052, -0.0365],\n",
       "                         [ 0.0103,  0.0213, -0.0052, -0.0029],\n",
       "                         [ 0.0505,  0.0753,  0.0457, -0.0232],\n",
       "                         [ 0.0408,  0.0231,  0.0076,  0.0208]],\n",
       "               \n",
       "                        ...,\n",
       "               \n",
       "                        [[ 0.0238,  0.0134,  0.0244, -0.0285],\n",
       "                         [ 0.0399,  0.0527,  0.0243,  0.0268],\n",
       "                         [ 0.0224,  0.0209,  0.0197,  0.0169],\n",
       "                         [ 0.0181,  0.0485,  0.0329,  0.0047]],\n",
       "               \n",
       "                        [[ 0.0004,  0.0062,  0.0065,  0.0053],\n",
       "                         [ 0.0142, -0.0062,  0.0154, -0.0258],\n",
       "                         [ 0.0179, -0.0282, -0.0208, -0.0035],\n",
       "                         [-0.0061, -0.0286, -0.0400,  0.0046]],\n",
       "               \n",
       "                        [[-0.0283,  0.0385,  0.0102,  0.0333],\n",
       "                         [-0.0001, -0.0106,  0.0250, -0.0082],\n",
       "                         [ 0.0126,  0.0176, -0.0335,  0.0107],\n",
       "                         [ 0.0438,  0.0358,  0.0326, -0.0036]]],\n",
       "               \n",
       "               \n",
       "                       ...,\n",
       "               \n",
       "               \n",
       "                       [[[ 0.0477,  0.0030, -0.0357, -0.0130],\n",
       "                         [-0.0192, -0.0146, -0.0094,  0.0644],\n",
       "                         [-0.0597, -0.0258,  0.0273, -0.0042],\n",
       "                         [-0.0085, -0.0447, -0.0128, -0.0023]],\n",
       "               \n",
       "                        [[-0.0119,  0.0258, -0.0034,  0.0031],\n",
       "                         [-0.0080,  0.0346,  0.0138,  0.0046],\n",
       "                         [-0.0709, -0.0007,  0.0301,  0.0286],\n",
       "                         [-0.0277, -0.0043,  0.0232,  0.0003]],\n",
       "               \n",
       "                        [[-0.0208, -0.0074,  0.0221, -0.0100],\n",
       "                         [ 0.0365,  0.0023,  0.0211,  0.0163],\n",
       "                         [ 0.0007, -0.0417, -0.0132,  0.0049],\n",
       "                         [ 0.0099,  0.0378,  0.0190,  0.0315]],\n",
       "               \n",
       "                        ...,\n",
       "               \n",
       "                        [[ 0.0140,  0.0353, -0.0103, -0.0103],\n",
       "                         [ 0.0632, -0.0042,  0.0161,  0.0420],\n",
       "                         [-0.0106, -0.0258, -0.0168,  0.0082],\n",
       "                         [-0.0245,  0.0170, -0.0383,  0.0406]],\n",
       "               \n",
       "                        [[-0.0313, -0.0150, -0.0083, -0.0505],\n",
       "                         [-0.0224,  0.0221,  0.0080,  0.0115],\n",
       "                         [-0.0114, -0.0216,  0.0031, -0.0734],\n",
       "                         [-0.0222, -0.0263,  0.0186, -0.0134]],\n",
       "               \n",
       "                        [[ 0.0363,  0.0139, -0.0067,  0.0142],\n",
       "                         [ 0.0003, -0.0135, -0.0195, -0.0258],\n",
       "                         [ 0.0224, -0.0101, -0.0157, -0.0355],\n",
       "                         [ 0.0061, -0.0263, -0.0091, -0.0124]]],\n",
       "               \n",
       "               \n",
       "                       [[[ 0.0094, -0.0374, -0.0170, -0.0246],\n",
       "                         [-0.0407,  0.0158, -0.0016,  0.0020],\n",
       "                         [ 0.0261,  0.0097, -0.0324, -0.0266],\n",
       "                         [ 0.0018, -0.0065, -0.0540, -0.0433]],\n",
       "               \n",
       "                        [[-0.0198,  0.0180, -0.0193, -0.0045],\n",
       "                         [ 0.0212, -0.0016, -0.0277, -0.0056],\n",
       "                         [-0.0154, -0.0089,  0.0277,  0.0445],\n",
       "                         [ 0.0136, -0.0030, -0.0002,  0.0157]],\n",
       "               \n",
       "                        [[-0.0262, -0.0427, -0.0076, -0.0303],\n",
       "                         [-0.0088, -0.0212, -0.0253, -0.0499],\n",
       "                         [ 0.0321, -0.0132,  0.0029, -0.0112],\n",
       "                         [ 0.0150, -0.0255,  0.0373, -0.0004]],\n",
       "               \n",
       "                        ...,\n",
       "               \n",
       "                        [[ 0.0045, -0.0251,  0.0011, -0.0002],\n",
       "                         [-0.0031, -0.0068, -0.0136,  0.0151],\n",
       "                         [-0.0506, -0.0193,  0.0194,  0.0167],\n",
       "                         [-0.0093,  0.0011,  0.0162,  0.0101]],\n",
       "               \n",
       "                        [[-0.0594,  0.0057,  0.0081,  0.0112],\n",
       "                         [-0.0306,  0.0147, -0.0075,  0.0232],\n",
       "                         [-0.0521,  0.0277, -0.0044, -0.0015],\n",
       "                         [-0.0212,  0.0163, -0.0383,  0.0173]],\n",
       "               \n",
       "                        [[-0.0203, -0.0268,  0.0006, -0.0006],\n",
       "                         [-0.0105, -0.0187, -0.0354, -0.0450],\n",
       "                         [ 0.0010, -0.0187,  0.0024, -0.0604],\n",
       "                         [ 0.0357,  0.0086, -0.0336, -0.0247]]],\n",
       "               \n",
       "               \n",
       "                       [[[-0.0086,  0.0365,  0.0062,  0.0076],\n",
       "                         [ 0.0045, -0.0084, -0.0182, -0.0047],\n",
       "                         [-0.0385,  0.0170, -0.0093, -0.0180],\n",
       "                         [ 0.0256, -0.0027, -0.0278, -0.0365]],\n",
       "               \n",
       "                        [[ 0.0133,  0.0049, -0.0141, -0.0252],\n",
       "                         [-0.0315, -0.0064, -0.0121,  0.0002],\n",
       "                         [-0.0599,  0.0307,  0.0610,  0.0664],\n",
       "                         [ 0.0179,  0.0538,  0.0389,  0.0020]],\n",
       "               \n",
       "                        [[-0.0091,  0.0074, -0.0090,  0.0021],\n",
       "                         [ 0.0186,  0.0052, -0.0363, -0.0282],\n",
       "                         [ 0.0227,  0.0396, -0.0324, -0.0007],\n",
       "                         [ 0.0124, -0.0088, -0.0130, -0.0213]],\n",
       "               \n",
       "                        ...,\n",
       "               \n",
       "                        [[-0.0228, -0.0226, -0.0104, -0.0249],\n",
       "                         [-0.0087,  0.0053, -0.0404, -0.0176],\n",
       "                         [-0.0667, -0.0148, -0.0024,  0.0179],\n",
       "                         [-0.0039, -0.0205,  0.0166,  0.0223]],\n",
       "               \n",
       "                        [[-0.0331, -0.0285,  0.0217, -0.0096],\n",
       "                         [-0.0119, -0.0093,  0.0546,  0.0096],\n",
       "                         [-0.0425, -0.0634, -0.0487, -0.0680],\n",
       "                         [ 0.0059, -0.0642, -0.0249, -0.0242]],\n",
       "               \n",
       "                        [[ 0.0117, -0.0178,  0.0253, -0.0102],\n",
       "                         [-0.0134, -0.0201,  0.0024,  0.0082],\n",
       "                         [ 0.0161,  0.0070, -0.0137, -0.0022],\n",
       "                         [ 0.0287, -0.0055,  0.0262,  0.0041]]]], device='cuda:0')),\n",
       "              ('conv.2.bias',\n",
       "               tensor([-2.3059e-02, -2.0459e-02,  7.5060e-03,  4.1020e-03,  5.8513e-03,\n",
       "                        4.6251e-03,  5.4172e-03, -3.2876e-03, -4.6469e-03, -8.4869e-03,\n",
       "                       -1.3111e-03, -4.9141e-02,  1.0131e-03, -1.6094e-02,  3.8233e-02,\n",
       "                       -2.1896e-02, -1.3146e-02, -3.6151e-03,  2.4624e-04, -1.1496e-03,\n",
       "                        9.2415e-03, -5.6623e-03, -2.8090e-02, -3.8215e-02,  2.4499e-03,\n",
       "                       -5.7850e-03, -8.9437e-03,  1.7629e-02, -2.8203e-02,  3.1758e-02,\n",
       "                        2.6869e-03, -5.1696e-03, -1.2170e-02, -8.4276e-03, -1.9742e-02,\n",
       "                       -8.7154e-03, -3.2767e-03,  3.6146e-02,  5.4955e-03, -7.7447e-04,\n",
       "                        4.9215e-03,  4.1772e-02, -2.1143e-03,  9.9292e-03,  3.1834e-02,\n",
       "                        1.8499e-02,  1.4860e-02,  5.9331e-03, -2.3076e-02,  1.6264e-02,\n",
       "                       -4.5982e-03, -1.5198e-03,  1.5663e-02,  5.0352e-03,  2.1425e-02,\n",
       "                        1.0863e-03,  1.7305e-02,  1.0332e-02, -1.4525e-02,  2.4422e-04,\n",
       "                        6.5898e-03,  1.0313e-02,  1.2912e-03, -7.7875e-03, -5.5885e-03,\n",
       "                       -2.8889e-02, -1.3285e-02,  3.8621e-02,  5.6071e-03,  3.0261e-03,\n",
       "                        3.0506e-02,  6.7799e-04,  2.2685e-02, -2.0125e-03, -1.5081e-03,\n",
       "                        2.3457e-02, -1.9517e-02,  4.4119e-03, -2.7015e-03,  1.4735e-04,\n",
       "                       -8.4791e-05, -1.6584e-02, -2.1589e-02, -3.9513e-02,  1.1460e-02,\n",
       "                       -8.1739e-03, -6.5031e-03, -1.0632e-02, -3.9054e-03, -1.7428e-02,\n",
       "                       -1.4296e-02, -1.9559e-02, -1.4543e-03,  5.5012e-03, -1.1137e-02,\n",
       "                       -3.2618e-02,  1.9885e-02,  4.7201e-03,  4.5622e-02, -1.8288e-02,\n",
       "                       -6.8917e-03,  1.5892e-02,  3.1796e-02, -6.9343e-03, -4.2386e-03,\n",
       "                        8.3306e-03, -1.0981e-02, -1.4988e-02, -1.2849e-02, -1.1011e-02,\n",
       "                       -1.7482e-02, -2.1078e-02, -4.0507e-02, -1.7235e-03,  5.6674e-03,\n",
       "                       -7.0534e-03,  1.2541e-02, -2.3678e-02, -2.8907e-03,  5.0897e-03,\n",
       "                       -1.1606e-02, -2.0241e-02, -7.4704e-03,  2.8207e-02,  3.0320e-02,\n",
       "                        1.2205e-02,  2.5792e-03, -8.2979e-03], device='cuda:0')),\n",
       "              ('conv.3.weight',\n",
       "               tensor([1.0245, 1.0618, 0.9174, 0.9966, 0.8629, 0.9193, 0.9750, 0.9014, 0.9224,\n",
       "                       0.9988, 0.9334, 1.0189, 1.0771, 0.9292, 0.9089, 0.9518, 0.9118, 0.9875,\n",
       "                       0.9289, 0.9032, 0.9084, 0.9895, 0.9937, 0.9469, 1.0771, 0.8566, 1.1111,\n",
       "                       0.9527, 1.0925, 0.8859, 1.0945, 0.9399, 0.9369, 0.8563, 1.0071, 0.8766,\n",
       "                       1.0232, 0.8013, 0.9696, 0.8994, 1.0087, 0.9067, 1.0642, 0.9888, 1.1230,\n",
       "                       1.0397, 0.9191, 0.9653, 0.8329, 1.0381, 0.9631, 1.1366, 0.9768, 0.9871,\n",
       "                       0.8851, 1.0620, 0.9162, 0.8773, 0.9699, 0.9605, 1.0396, 1.1037, 0.9950,\n",
       "                       0.9005, 1.2366, 0.9948, 0.9088, 1.0813, 0.9883, 1.1236, 0.9683, 1.0576,\n",
       "                       0.9064, 1.0257, 1.0133, 0.9339, 0.9231, 0.9998, 0.9178, 1.0229, 0.9515,\n",
       "                       0.9728, 0.8988, 0.9968, 0.9406, 0.9097, 0.8922, 0.9704, 1.0452, 0.8919,\n",
       "                       1.0850, 0.8708, 1.0219, 0.9231, 0.9168, 1.0056, 1.1035, 0.9886, 0.9594,\n",
       "                       1.0418, 0.9391, 0.8923, 1.0423, 0.8731, 0.9085, 0.7968, 1.0729, 1.0311,\n",
       "                       1.0068, 0.9707, 0.9892, 1.0569, 0.9867, 0.9896, 1.0123, 1.0732, 1.0680,\n",
       "                       1.0593, 0.8639, 0.9114, 0.9470, 1.1857, 1.0210, 0.9759, 0.9788, 0.9725,\n",
       "                       0.9888, 0.9746], device='cuda:0')),\n",
       "              ('conv.3.bias',\n",
       "               tensor([-0.1581, -0.1449, -0.1167, -0.0263, -0.1529, -0.0429, -0.0814, -0.1358,\n",
       "                       -0.0603, -0.0146, -0.0902, -0.2011, -0.0653,  0.0035, -0.1229, -0.0518,\n",
       "                       -0.0170, -0.0112, -0.0422,  0.0092, -0.1138, -0.0195, -0.0044, -0.0264,\n",
       "                       -0.0727, -0.1560, -0.2063, -0.1602, -0.0291, -0.1258, -0.0363,  0.0167,\n",
       "                        0.0310, -0.1350, -0.1094, -0.1756, -0.0594, -0.2188, -0.0581, -0.1740,\n",
       "                       -0.0585, -0.1595, -0.0580, -0.0163, -0.1631, -0.0512, -0.0986, -0.0047,\n",
       "                       -0.2881, -0.1267, -0.0381, -0.1460, -0.0060, -0.0321, -0.0577, -0.0293,\n",
       "                       -0.0807, -0.1461,  0.0014,  0.0048, -0.0733, -0.0547,  0.0075, -0.1247,\n",
       "                       -0.0895, -0.1815, -0.1065, -0.0542, -0.1496,  0.0218, -0.0555, -0.1506,\n",
       "                       -0.2483, -0.1032, -0.0195, -0.0435, -0.0913, -0.0939, -0.1728, -0.0613,\n",
       "                       -0.0905, -0.0457, -0.0446, -0.1785,  0.0022, -0.1486, -0.0636, -0.0209,\n",
       "                        0.0199, -0.1256, -0.0400, -0.1706, -0.0645, -0.0852, -0.0312, -0.0373,\n",
       "                       -0.0019, -0.1941,  0.0027, -0.0990, -0.0230, -0.1776, -0.1541, -0.1426,\n",
       "                       -0.1128, -0.2058, -0.0165, -0.0432, -0.0077, -0.0336, -0.1534, -0.0721,\n",
       "                       -0.0863, -0.0721, -0.1986, -0.0432, -0.0271, -0.1258, -0.1517, -0.1055,\n",
       "                        0.0122, -0.0586, -0.0863, -0.2017, -0.0827, -0.0035, -0.1129, -0.0209],\n",
       "                      device='cuda:0')),\n",
       "              ('conv.3.running_mean',\n",
       "               tensor([-0.0547, -0.0471,  0.0558, -0.0138,  0.0287, -0.0162, -0.0257, -0.0101,\n",
       "                       -0.0152, -0.0488, -0.0124, -0.0793, -0.0162, -0.0424,  0.0332, -0.0018,\n",
       "                       -0.0420, -0.0297, -0.0170, -0.0425,  0.0192, -0.0391, -0.0435, -0.0417,\n",
       "                       -0.0276, -0.0092, -0.0508,  0.0520, -0.0422,  0.0258, -0.0304, -0.0188,\n",
       "                       -0.0642,  0.0005, -0.0382,  0.0032, -0.0611,  0.0618, -0.0008,  0.0090,\n",
       "                       -0.0141,  0.0266, -0.0241, -0.0045,  0.0121,  0.0373,  0.0196, -0.0295,\n",
       "                       -0.0280, -0.0059, -0.0143, -0.0031, -0.0145, -0.0122,  0.0127,  0.0119,\n",
       "                        0.0171,  0.0283, -0.0475, -0.0035, -0.0216,  0.0111, -0.0235, -0.0108,\n",
       "                       -0.0237,  0.0049,  0.0045,  0.0456,  0.0194,  0.0180,  0.0005, -0.0282,\n",
       "                        0.0540, -0.0305, -0.0370, -0.0003,  0.0031, -0.0257,  0.0226,  0.0164,\n",
       "                       -0.0271, -0.0063, -0.0229, -0.0022, -0.0297,  0.0117, -0.0223, -0.0496,\n",
       "                       -0.0199, -0.0059, -0.0342,  0.0497, -0.0128,  0.0172, -0.0372, -0.0713,\n",
       "                       -0.0025,  0.0453,  0.0264,  0.0147, -0.0100, -0.0103,  0.0629,  0.0307,\n",
       "                        0.0217,  0.0780, -0.0077, -0.0085, -0.0337, -0.0285, -0.0608, -0.0368,\n",
       "                       -0.0794, -0.0092, -0.0069, -0.0376,  0.0303, -0.0568, -0.0109, -0.0140,\n",
       "                       -0.0398,  0.0117, -0.0226,  0.0618,  0.0385, -0.0162, -0.0267, -0.0218],\n",
       "                      device='cuda:0')),\n",
       "              ('conv.3.running_var',\n",
       "               tensor([1.9366e-05, 2.9343e-05, 6.4771e-04, 1.1180e-04, 2.5657e-04, 3.1316e-04,\n",
       "                       1.7352e-04, 3.0263e-04, 2.0955e-04, 2.4487e-04, 1.7690e-04, 1.9285e-05,\n",
       "                       1.2426e-04, 3.9683e-04, 7.5138e-05, 9.1084e-05, 4.3040e-04, 1.8897e-04,\n",
       "                       1.5250e-04, 5.3825e-04, 1.7034e-04, 1.5429e-04, 1.8026e-04, 1.8151e-04,\n",
       "                       5.8641e-05, 3.4840e-04, 9.9411e-06, 8.7997e-05, 6.1759e-05, 2.3267e-04,\n",
       "                       1.0638e-04, 2.0782e-04, 3.7812e-04, 5.2267e-04, 5.4389e-05, 1.5961e-04,\n",
       "                       1.7485e-04, 2.3474e-04, 2.4401e-04, 1.1680e-04, 6.3706e-05, 7.3577e-05,\n",
       "                       1.5039e-04, 1.2801e-04, 1.5128e-05, 6.1279e-05, 2.2625e-04, 1.9214e-04,\n",
       "                       6.6768e-05, 2.4511e-05, 1.8509e-04, 2.7532e-05, 3.0325e-04, 1.0592e-04,\n",
       "                       2.7548e-04, 1.1034e-04, 9.7848e-05, 1.8792e-04, 2.1736e-04, 1.4396e-04,\n",
       "                       5.1079e-05, 6.2819e-05, 1.4899e-04, 2.7511e-04, 1.6791e-05, 2.1744e-05,\n",
       "                       1.3259e-04, 5.2994e-05, 3.6827e-05, 1.0642e-04, 6.8489e-05, 1.9296e-05,\n",
       "                       2.4668e-05, 3.1439e-05, 1.7589e-04, 1.7524e-04, 1.3035e-04, 2.8989e-05,\n",
       "                       9.8557e-05, 7.9008e-05, 1.7943e-04, 3.9847e-05, 4.8941e-04, 1.6582e-05,\n",
       "                       1.4231e-04, 1.3496e-04, 2.9640e-04, 2.1782e-04, 1.1914e-04, 7.4928e-05,\n",
       "                       1.4826e-04, 3.1038e-04, 9.1641e-05, 1.4859e-04, 4.0187e-04, 1.4446e-04,\n",
       "                       3.9435e-05, 2.1242e-05, 2.8706e-04, 3.9315e-05, 1.4409e-04, 1.0643e-04,\n",
       "                       1.5290e-05, 1.5134e-04, 2.1698e-04, 4.9471e-04, 1.3284e-04, 1.2028e-04,\n",
       "                       1.5020e-04, 8.3206e-05, 2.2189e-05, 3.5762e-05, 6.3461e-05, 4.2111e-05,\n",
       "                       3.3709e-05, 1.3543e-04, 7.2357e-05, 1.4777e-05, 1.9478e-04, 2.2036e-04,\n",
       "                       2.7165e-04, 5.7230e-05, 3.4594e-05, 5.4722e-05, 1.1339e-04, 1.9124e-04,\n",
       "                       3.1188e-05, 1.6490e-04], device='cuda:0')),\n",
       "              ('conv.3.num_batches_tracked', tensor(18000, device='cuda:0')),\n",
       "              ('fc.0.weight',\n",
       "               tensor([[-0.0255, -0.0367, -0.0122,  ...,  0.0186,  0.0232,  0.0149],\n",
       "                       [ 0.0241, -0.0497,  0.0144,  ..., -0.0018,  0.0132,  0.0180],\n",
       "                       [ 0.0168,  0.0174,  0.0168,  ..., -0.0188, -0.0181, -0.0227],\n",
       "                       ...,\n",
       "                       [-0.0245, -0.0154, -0.0305,  ...,  0.0135,  0.0110, -0.0151],\n",
       "                       [ 0.0107, -0.0529,  0.0099,  ...,  0.0001, -0.0031, -0.0012],\n",
       "                       [ 0.0227,  0.0350,  0.0518,  ..., -0.0186,  0.0110,  0.0107]],\n",
       "                      device='cuda:0')),\n",
       "              ('fc.0.bias',\n",
       "               tensor([-0.0044, -0.0016,  0.0001,  ..., -0.0016,  0.0021, -0.0048],\n",
       "                      device='cuda:0')),\n",
       "              ('fc.1.weight',\n",
       "               tensor([1.1134, 1.1127, 1.1007,  ..., 1.1096, 1.0946, 1.1052], device='cuda:0')),\n",
       "              ('fc.1.bias',\n",
       "               tensor([ 0.1849, -0.1815, -0.0824,  ..., -0.1072, -0.1996, -0.2217],\n",
       "                      device='cuda:0')),\n",
       "              ('fc.1.running_mean',\n",
       "               tensor([-0.3275, -0.3735, -0.1514,  ..., -1.8455,  0.8804, -0.2334],\n",
       "                      device='cuda:0')),\n",
       "              ('fc.1.running_var',\n",
       "               tensor([3.3507, 2.0440, 3.2926,  ..., 2.0084, 2.8305, 3.8844], device='cuda:0')),\n",
       "              ('fc.1.num_batches_tracked', tensor(18000, device='cuda:0')),\n",
       "              ('fc.3.weight',\n",
       "               tensor([[-0.1166, -0.1692, -0.1365,  ...,  0.1348, -0.1548, -0.1698]],\n",
       "                      device='cuda:0')),\n",
       "              ('fc.3.bias', tensor([-0.0063], device='cuda:0'))])}"
      ]
     },
     "execution_count": 59,
     "metadata": {},
     "output_type": "execute_result"
    }
   ],
   "source": []
  },
  {
   "cell_type": "markdown",
   "id": "ebf78ce5",
   "metadata": {},
   "source": [
    "### Ejercicios\n",
    "- Ejecutar el modelo con diferentes parámetros (LRs, Loss) y comparar las métricas.\n",
    "- Comparar metricas de red entrenada en 10, 50 y 100 epochs. Qué diferencias observan?.\n",
    "- Extraer y visualizar ejemplos de los 5 artefactos mejor generados y peor generados con respecto a una metrica a elección."
   ]
  }
 ],
 "metadata": {
  "kernelspec": {
   "display_name": "Python 3 (ipykernel)",
   "language": "python",
   "name": "python3"
  },
  "language_info": {
   "codemirror_mode": {
    "name": "ipython",
    "version": 3
   },
   "file_extension": ".py",
   "mimetype": "text/x-python",
   "name": "python",
   "nbconvert_exporter": "python",
   "pygments_lexer": "ipython3",
   "version": "3.9.0"
  }
 },
 "nbformat": 4,
 "nbformat_minor": 5
}
